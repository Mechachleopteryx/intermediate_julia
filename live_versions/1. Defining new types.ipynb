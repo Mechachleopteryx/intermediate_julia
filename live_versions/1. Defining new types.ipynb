{
 "cells": [
  {
   "cell_type": "markdown",
   "metadata": {},
   "source": [
    "##  Defining new types"
   ]
  },
  {
   "cell_type": "markdown",
   "metadata": {},
   "source": [
    "In this notebook, we will look at how to define new types in Julia. This is very common when you need a certain **kind (type) of behaviour** that is not captured by the \"built-in\" types.\n",
    "\n",
    "Note that types that you define are, in fact, on the same footing as the \"built-in\" types in the standard library (`Int`, `Float64`, etc.), which are themselves defined in Julia code."
   ]
  },
  {
   "cell_type": "markdown",
   "metadata": {},
   "source": [
    "## A wrapper type"
   ]
  },
  {
   "cell_type": "markdown",
   "metadata": {},
   "source": [
    "We will look at a concrete example that arose naturally in real code in the author's pacakage \n",
    "[`IntervalConstraintProgramming.jl`](https://github.com/dpsanders/IntervalConstraintProgramming.jl): defining a type  to represent the volume of an object. This is similar to a [post on the `julia-users` mailing list](https://groups.google.com/forum/#!searchin/julia-users/probability/julia-users/PpXLxHajsfA/UWpmJZd2BQAJ) about defining a type to represent a probability.  \n",
    "\n",
    "Despite the fact that the type contains only a single field, many of the issues that confuse people can be appreciated in this apparently simple situation."
   ]
  },
  {
   "cell_type": "markdown",
   "metadata": {},
   "source": [
    "We could choose to represent a volume with a standard `Float64`, but, as we shall see, there are good reasons to wrap this into a new type:"
   ]
  },
  {
   "cell_type": "code",
   "execution_count": 1,
   "metadata": {
    "collapsed": true
   },
   "outputs": [],
   "source": [
    "immutable Vol\n",
    "    value::Float64\n",
    "end"
   ]
  },
  {
   "cell_type": "markdown",
   "metadata": {},
   "source": [
    "We can now create an object of type `Vol` with"
   ]
  },
  {
   "cell_type": "code",
   "execution_count": 5,
   "metadata": {
    "collapsed": false
   },
   "outputs": [
    {
     "data": {
      "text/plain": [
       "4-element Array{Any,1}:\n",
       " call(::Type{Vol}, value::Float64) at In[1]:2   \n",
       " call(::Type{Vol}, value) at In[1]:2            \n",
       " call{T}(::Type{T}, arg) at essentials.jl:56    \n",
       " call{T}(::Type{T}, args...) at essentials.jl:57"
      ]
     },
     "execution_count": 5,
     "metadata": {},
     "output_type": "execute_result"
    }
   ],
   "source": [
    "methods(Vol)"
   ]
  },
  {
   "cell_type": "code",
   "execution_count": 3,
   "metadata": {
    "collapsed": false
   },
   "outputs": [
    {
     "data": {
      "text/plain": [
       "Vol(3.0)"
      ]
     },
     "execution_count": 3,
     "metadata": {},
     "output_type": "execute_result"
    }
   ],
   "source": [
    "V = Vol(3)"
   ]
  },
  {
   "cell_type": "code",
   "execution_count": 4,
   "metadata": {
    "collapsed": false
   },
   "outputs": [
    {
     "data": {
      "text/plain": [
       "Vol(10.5)"
      ]
     },
     "execution_count": 4,
     "metadata": {},
     "output_type": "execute_result"
    }
   ],
   "source": [
    "W = Vol(10.5)"
   ]
  },
  {
   "cell_type": "code",
   "execution_count": 6,
   "metadata": {
    "collapsed": false
   },
   "outputs": [
    {
     "ename": "LoadError",
     "evalue": "LoadError: MethodError: `convert` has no method matching convert(::Type{Float64}, ::ASCIIString)\nThis may have arisen from a call to the constructor Float64(...),\nsince type constructors fall back to convert methods.\nClosest candidates are:\n  call{T}(::Type{T}, ::Any)\n  convert(::Type{Float64}, !Matched::Int8)\n  convert(::Type{Float64}, !Matched::Int16)\n  ...\nwhile loading In[6], in expression starting on line 1",
     "output_type": "error",
     "traceback": [
      "LoadError: MethodError: `convert` has no method matching convert(::Type{Float64}, ::ASCIIString)\nThis may have arisen from a call to the constructor Float64(...),\nsince type constructors fall back to convert methods.\nClosest candidates are:\n  call{T}(::Type{T}, ::Any)\n  convert(::Type{Float64}, !Matched::Int8)\n  convert(::Type{Float64}, !Matched::Int16)\n  ...\nwhile loading In[6], in expression starting on line 1",
      "",
      " in call at In[1]:2"
     ]
    }
   ],
   "source": [
    "Vol(\"David\")"
   ]
  },
  {
   "cell_type": "code",
   "execution_count": 8,
   "metadata": {
    "collapsed": false
   },
   "outputs": [
    {
     "ename": "LoadError",
     "evalue": "LoadError: MethodError: `convert` has no method matching convert(::Type{Float64}, ::ASCIIString)\nThis may have arisen from a call to the constructor Float64(...),\nsince type constructors fall back to convert methods.\nClosest candidates are:\n  call{T}(::Type{T}, ::Any)\n  convert(::Type{Float64}, !Matched::Int8)\n  convert(::Type{Float64}, !Matched::Int16)\n  ...\nwhile loading In[8], in expression starting on line 1",
     "output_type": "error",
     "traceback": [
      "LoadError: MethodError: `convert` has no method matching convert(::Type{Float64}, ::ASCIIString)\nThis may have arisen from a call to the constructor Float64(...),\nsince type constructors fall back to convert methods.\nClosest candidates are:\n  call{T}(::Type{T}, ::Any)\n  convert(::Type{Float64}, !Matched::Int8)\n  convert(::Type{Float64}, !Matched::Int16)\n  ...\nwhile loading In[8], in expression starting on line 1",
      ""
     ]
    }
   ],
   "source": [
    "convert(Float64, \"David\")"
   ]
  },
  {
   "cell_type": "code",
   "execution_count": 9,
   "metadata": {
    "collapsed": false
   },
   "outputs": [
    {
     "ename": "LoadError",
     "evalue": "LoadError: MethodError: `convert` has no method matching convert(::Type{Float64}, ::ASCIIString)\nThis may have arisen from a call to the constructor Float64(...),\nsince type constructors fall back to convert methods.\nClosest candidates are:\n  call{T}(::Type{T}, ::Any)\n  convert(::Type{Float64}, !Matched::Int8)\n  convert(::Type{Float64}, !Matched::Int16)\n  ...\nwhile loading In[9], in expression starting on line 1",
     "output_type": "error",
     "traceback": [
      "LoadError: MethodError: `convert` has no method matching convert(::Type{Float64}, ::ASCIIString)\nThis may have arisen from a call to the constructor Float64(...),\nsince type constructors fall back to convert methods.\nClosest candidates are:\n  call{T}(::Type{T}, ::Any)\n  convert(::Type{Float64}, !Matched::Int8)\n  convert(::Type{Float64}, !Matched::Int16)\n  ...\nwhile loading In[9], in expression starting on line 1",
      ""
     ]
    }
   ],
   "source": [
    "convert(Float64, \"3.5\")"
   ]
  },
  {
   "cell_type": "code",
   "execution_count": 10,
   "metadata": {
    "collapsed": false
   },
   "outputs": [
    {
     "data": {
      "text/plain": [
       "3.5"
      ]
     },
     "execution_count": 10,
     "metadata": {},
     "output_type": "execute_result"
    }
   ],
   "source": [
    "parse(Float64, \"3.5\")"
   ]
  },
  {
   "cell_type": "markdown",
   "metadata": {},
   "source": [
    "Let's recall how to look inside the object. We can do it interactively with `V.<TAB>` [press the `TAB` key after typing `V.` at the REPL, in the notebook, or in Atom].\n",
    "\n",
    "Alternatively, we can use `fieldnames`, which returns an array of `Symbol`s, containing the names of the fields:"
   ]
  },
  {
   "cell_type": "code",
   "execution_count": 11,
   "metadata": {
    "collapsed": false
   },
   "outputs": [
    {
     "data": {
      "text/plain": [
       "Vol(3.0)"
      ]
     },
     "execution_count": 11,
     "metadata": {},
     "output_type": "execute_result"
    }
   ],
   "source": [
    "V"
   ]
  },
  {
   "cell_type": "code",
   "execution_count": 13,
   "metadata": {
    "collapsed": false
   },
   "outputs": [
    {
     "ename": "LoadError",
     "evalue": "LoadError: type Vol is immutable\nwhile loading In[13], in expression starting on line 1",
     "output_type": "error",
     "traceback": [
      "LoadError: type Vol is immutable\nwhile loading In[13], in expression starting on line 1",
      ""
     ]
    }
   ],
   "source": [
    "V.value = 10"
   ]
  },
  {
   "cell_type": "code",
   "execution_count": 14,
   "metadata": {
    "collapsed": false
   },
   "outputs": [
    {
     "data": {
      "text/plain": [
       "1-element Array{Symbol,1}:\n",
       " :value"
      ]
     },
     "execution_count": 14,
     "metadata": {},
     "output_type": "execute_result"
    }
   ],
   "source": [
    "fieldnames(V)"
   ]
  },
  {
   "cell_type": "markdown",
   "metadata": {},
   "source": [
    "We access the field with any of the following commands:"
   ]
  },
  {
   "cell_type": "code",
   "execution_count": 15,
   "metadata": {
    "collapsed": false
   },
   "outputs": [
    {
     "data": {
      "text/plain": [
       "3.0"
      ]
     },
     "execution_count": 15,
     "metadata": {},
     "output_type": "execute_result"
    }
   ],
   "source": [
    "V.value"
   ]
  },
  {
   "cell_type": "code",
   "execution_count": 16,
   "metadata": {
    "collapsed": false
   },
   "outputs": [
    {
     "data": {
      "text/plain": [
       "3.0"
      ]
     },
     "execution_count": 16,
     "metadata": {},
     "output_type": "execute_result"
    }
   ],
   "source": [
    "getfield(V, :value)  # by name"
   ]
  },
  {
   "cell_type": "code",
   "execution_count": 17,
   "metadata": {
    "collapsed": false
   },
   "outputs": [
    {
     "data": {
      "text/plain": [
       "3.0"
      ]
     },
     "execution_count": 17,
     "metadata": {},
     "output_type": "execute_result"
    }
   ],
   "source": [
    "getfield(V, 1)       # by number"
   ]
  },
  {
   "cell_type": "markdown",
   "metadata": {},
   "source": [
    "If the type were declared with `type`, instead of `immutable`, then we could also change the value via `setfield`.\n",
    "This gives an error for an immutable object:"
   ]
  },
  {
   "cell_type": "code",
   "execution_count": null,
   "metadata": {
    "collapsed": false
   },
   "outputs": [],
   "source": [
    "V.value = 4"
   ]
  },
  {
   "cell_type": "markdown",
   "metadata": {},
   "source": [
    "## Constructors"
   ]
  },
  {
   "cell_type": "markdown",
   "metadata": {},
   "source": [
    "So far, we have been using the **default constructors**. Recall that the constructors for a type are functions that create objects of that type. We can see which constructors are available using `methods`:"
   ]
  },
  {
   "cell_type": "code",
   "execution_count": 18,
   "metadata": {
    "collapsed": false
   },
   "outputs": [
    {
     "data": {
      "text/plain": [
       "4-element Array{Any,1}:\n",
       " call(::Type{Vol}, value::Float64) at In[1]:2   \n",
       " call(::Type{Vol}, value) at In[1]:2            \n",
       " call{T}(::Type{T}, arg) at essentials.jl:56    \n",
       " call{T}(::Type{T}, args...) at essentials.jl:57"
      ]
     },
     "execution_count": 18,
     "metadata": {},
     "output_type": "execute_result"
    }
   ],
   "source": [
    "methods(Vol)"
   ]
  },
  {
   "cell_type": "markdown",
   "metadata": {},
   "source": [
    "The output from Julia v0.5 is clearer:\n",
    "\n",
    "    # 3 methods for generic function \"(::Type)\":\n",
    "    Vol(value::Float64) at REPL[1]:2\n",
    "    Vol(value) at REPL[1]:2\n",
    "    (::Type{T}){T}(arg) at sysimg.jl:60"
   ]
  },
  {
   "cell_type": "markdown",
   "metadata": {},
   "source": [
    "The problem is that we can do the following:"
   ]
  },
  {
   "cell_type": "code",
   "execution_count": 19,
   "metadata": {
    "collapsed": false
   },
   "outputs": [
    {
     "data": {
      "text/plain": [
       "Vol(-1.0)"
      ]
     },
     "execution_count": 19,
     "metadata": {},
     "output_type": "execute_result"
    }
   ],
   "source": [
    "Vol(-1)"
   ]
  },
  {
   "cell_type": "markdown",
   "metadata": {},
   "source": [
    "This should not be allowed, since volumes cannot be negative. We want to impose a constraint *at the moment when we  create the object*, i.e. in the constructor. To do so, we define an **inner constructor** inside the type definition.\n",
    "\n",
    "Since Julia does not allow redefining types, we need to clear the workspace before we do so:"
   ]
  },
  {
   "cell_type": "code",
   "execution_count": 29,
   "metadata": {
    "collapsed": true
   },
   "outputs": [],
   "source": [
    "workspace()"
   ]
  },
  {
   "cell_type": "code",
   "execution_count": 32,
   "metadata": {
    "collapsed": false
   },
   "outputs": [
    {
     "data": {
      "text/plain": [
       "true"
      ]
     },
     "execution_count": 32,
     "metadata": {},
     "output_type": "execute_result"
    }
   ],
   "source": [
    "isa(3, Real)"
   ]
  },
  {
   "cell_type": "code",
   "execution_count": 33,
   "metadata": {
    "collapsed": true
   },
   "outputs": [],
   "source": [
    "immutable Vol\n",
    "    value::Float64\n",
    "    \n",
    "    function Vol(x)\n",
    "        isa(x, Real) || throw(ArgumentError(\"Must be real\"))\n",
    "        x < 0 && throw(ArgumentError(\"Negative volume not allowed.\"))\n",
    "        new(x)\n",
    "    end\n",
    "end"
   ]
  },
  {
   "cell_type": "code",
   "execution_count": 34,
   "metadata": {
    "collapsed": false
   },
   "outputs": [
    {
     "ename": "LoadError",
     "evalue": "LoadError: ArgumentError: Must be real\nwhile loading In[34], in expression starting on line 1",
     "output_type": "error",
     "traceback": [
      "LoadError: ArgumentError: Must be real\nwhile loading In[34], in expression starting on line 1",
      "",
      " in call at In[33]:5"
     ]
    }
   ],
   "source": [
    "Vol(\"hola\")"
   ]
  },
  {
   "cell_type": "code",
   "execution_count": 35,
   "metadata": {
    "collapsed": false
   },
   "outputs": [
    {
     "ename": "LoadError",
     "evalue": "LoadError: ArgumentError: Negative volume not allowed.\nwhile loading In[35], in expression starting on line 1",
     "output_type": "error",
     "traceback": [
      "LoadError: ArgumentError: Negative volume not allowed.\nwhile loading In[35], in expression starting on line 1",
      "",
      " in call at In[33]:6"
     ]
    }
   ],
   "source": [
    "Vol(-3)"
   ]
  },
  {
   "cell_type": "markdown",
   "metadata": {},
   "source": [
    "Here we have used the so-called [\"short-circuit\" evaluation](http://docs.julialang.org/en/release-0.4/manual/control-flow/#man-short-circuit-evaluation) operator `&&`, which can be thought of as an `if...then`.\n",
    "\n",
    "The function `new` is a special function that actually instantiates the object. If the type has several fields, some may be left empty, by not including them in the call to `new`, and filled in later (if the type is not `immutable`)."
   ]
  },
  {
   "cell_type": "code",
   "execution_count": null,
   "metadata": {
    "collapsed": false
   },
   "outputs": [],
   "source": [
    "Vol(3)"
   ]
  },
  {
   "cell_type": "code",
   "execution_count": null,
   "metadata": {
    "collapsed": false
   },
   "outputs": [],
   "source": [
    "Vol(-1)"
   ]
  },
  {
   "cell_type": "markdown",
   "metadata": {},
   "source": [
    "## Making types parametric"
   ]
  },
  {
   "cell_type": "markdown",
   "metadata": {},
   "source": [
    "There is no reason why volumes should be floating-point numbers -- they may be any kind of number. We could just remove the type annotation:"
   ]
  },
  {
   "cell_type": "code",
   "execution_count": 36,
   "metadata": {
    "collapsed": true
   },
   "outputs": [],
   "source": [
    "workspace()"
   ]
  },
  {
   "cell_type": "code",
   "execution_count": 37,
   "metadata": {
    "collapsed": true
   },
   "outputs": [],
   "source": [
    "immutable Vol\n",
    "    value   # DO NOT DO THIS!\n",
    "end"
   ]
  },
  {
   "cell_type": "code",
   "execution_count": 38,
   "metadata": {
    "collapsed": false
   },
   "outputs": [
    {
     "data": {
      "text/plain": [
       "Vol(3.5)"
      ]
     },
     "execution_count": 38,
     "metadata": {},
     "output_type": "execute_result"
    }
   ],
   "source": [
    "Vol(3.5)"
   ]
  },
  {
   "cell_type": "code",
   "execution_count": 39,
   "metadata": {
    "collapsed": false
   },
   "outputs": [
    {
     "data": {
      "text/plain": [
       "Vol(3)"
      ]
     },
     "execution_count": 39,
     "metadata": {},
     "output_type": "execute_result"
    }
   ],
   "source": [
    "Vol(3)"
   ]
  },
  {
   "cell_type": "code",
   "execution_count": 41,
   "metadata": {
    "collapsed": false
   },
   "outputs": [
    {
     "data": {
      "text/plain": [
       "Vol(\"hello\")"
      ]
     },
     "execution_count": 41,
     "metadata": {},
     "output_type": "execute_result"
    }
   ],
   "source": [
    "Vol(\"hello\")"
   ]
  },
  {
   "cell_type": "markdown",
   "metadata": {},
   "source": [
    "but we should **never do this**.  [By \"never\", we of course mean \"only if you are really sure that you know what you're doing\" and won't complain about the consequences.] The reason for this is that Julia is unable to infer the type of the variable, and so will be **very slow**.\n",
    "\n",
    "Instead, what we really mean is that there should be a *different type* of `Vol` for each type that it could contain - integers, floats, `BigFloat`s, rationals, intervals, etc.\n",
    "To tell Julia this, we use a **type parameter**, written with curly braces:"
   ]
  },
  {
   "cell_type": "code",
   "execution_count": 42,
   "metadata": {
    "collapsed": true
   },
   "outputs": [],
   "source": [
    "workspace()"
   ]
  },
  {
   "cell_type": "code",
   "execution_count": 43,
   "metadata": {
    "collapsed": true
   },
   "outputs": [],
   "source": [
    "immutable Vol{T}\n",
    "    value::T   # DO THIS INSTEAD!\n",
    "end"
   ]
  },
  {
   "cell_type": "markdown",
   "metadata": {},
   "source": [
    "In words, this says \"for **any** type `T`, a `Vol` with type parameter `T` looks like the following\". This makes `Vol` a **parametric type**, a kind of template. This turns out to be a surprisingly powerful concept when combined with multiple dispatch.\n",
    "\n",
    "Let's try this out:"
   ]
  },
  {
   "cell_type": "code",
   "execution_count": 44,
   "metadata": {
    "collapsed": false
   },
   "outputs": [
    {
     "data": {
      "text/plain": [
       "Vol{Int64}(3)"
      ]
     },
     "execution_count": 44,
     "metadata": {},
     "output_type": "execute_result"
    }
   ],
   "source": [
    "Vol(3)"
   ]
  },
  {
   "cell_type": "code",
   "execution_count": 45,
   "metadata": {
    "collapsed": false
   },
   "outputs": [
    {
     "data": {
      "text/plain": [
       "Vol{Float64}(3.5)"
      ]
     },
     "execution_count": 45,
     "metadata": {},
     "output_type": "execute_result"
    }
   ],
   "source": [
    "Vol(3.5)"
   ]
  },
  {
   "cell_type": "code",
   "execution_count": 46,
   "metadata": {
    "collapsed": false
   },
   "outputs": [
    {
     "data": {
      "text/plain": [
       "Vol{ASCIIString}(\"hello\")"
      ]
     },
     "execution_count": 46,
     "metadata": {},
     "output_type": "execute_result"
    }
   ],
   "source": [
    "Vol(\"hello\")"
   ]
  },
  {
   "cell_type": "markdown",
   "metadata": {},
   "source": [
    "Here we find a new problem: the volume should be a real number. We can specify this restriction:"
   ]
  },
  {
   "cell_type": "code",
   "execution_count": 47,
   "metadata": {
    "collapsed": true
   },
   "outputs": [],
   "source": [
    "workspace()"
   ]
  },
  {
   "cell_type": "code",
   "execution_count": 49,
   "metadata": {
    "collapsed": false
   },
   "outputs": [
    {
     "data": {
      "text/plain": [
       "true"
      ]
     },
     "execution_count": 49,
     "metadata": {},
     "output_type": "execute_result"
    }
   ],
   "source": [
    "Int <: Real"
   ]
  },
  {
   "cell_type": "code",
   "execution_count": 50,
   "metadata": {
    "collapsed": false
   },
   "outputs": [
    {
     "data": {
      "text/plain": [
       "true"
      ]
     },
     "execution_count": 50,
     "metadata": {},
     "output_type": "execute_result"
    }
   ],
   "source": [
    "Float64 <: Real"
   ]
  },
  {
   "cell_type": "code",
   "execution_count": 51,
   "metadata": {
    "collapsed": false
   },
   "outputs": [
    {
     "data": {
      "text/plain": [
       "true"
      ]
     },
     "execution_count": 51,
     "metadata": {},
     "output_type": "execute_result"
    }
   ],
   "source": [
    "BigFloat <: Real"
   ]
  },
  {
   "cell_type": "code",
   "execution_count": 53,
   "metadata": {
    "collapsed": false
   },
   "outputs": [
    {
     "data": {
      "text/plain": [
       "true"
      ]
     },
     "execution_count": 53,
     "metadata": {},
     "output_type": "execute_result"
    }
   ],
   "source": [
    "Integer <: Real"
   ]
  },
  {
   "cell_type": "code",
   "execution_count": 55,
   "metadata": {
    "collapsed": true
   },
   "outputs": [],
   "source": [
    "workspace()"
   ]
  },
  {
   "cell_type": "code",
   "execution_count": 56,
   "metadata": {
    "collapsed": false
   },
   "outputs": [],
   "source": [
    "immutable Vol{T <: Real}  # only accept types T that are subtypes of Real\n",
    "    value::T   \n",
    "end"
   ]
  },
  {
   "cell_type": "code",
   "execution_count": 57,
   "metadata": {
    "collapsed": false
   },
   "outputs": [
    {
     "ename": "LoadError",
     "evalue": "LoadError: MethodError: `convert` has no method matching convert(::Type{Vol{T<:Real}}, ::ASCIIString)\nThis may have arisen from a call to the constructor Vol{T<:Real}(...),\nsince type constructors fall back to convert methods.\nClosest candidates are:\n  call{T}(::Type{T}, ::Any)\n  convert{T}(::Type{T}, !Matched::T)\n  Vol{T<:Real}(!Matched::T<:Real)\nwhile loading In[57], in expression starting on line 1",
     "output_type": "error",
     "traceback": [
      "LoadError: MethodError: `convert` has no method matching convert(::Type{Vol{T<:Real}}, ::ASCIIString)\nThis may have arisen from a call to the constructor Vol{T<:Real}(...),\nsince type constructors fall back to convert methods.\nClosest candidates are:\n  call{T}(::Type{T}, ::Any)\n  convert{T}(::Type{T}, !Matched::T)\n  Vol{T<:Real}(!Matched::T<:Real)\nwhile loading In[57], in expression starting on line 1",
      "",
      " in call at essentials.jl:56"
     ]
    }
   ],
   "source": [
    "Vol(\"hello\")"
   ]
  },
  {
   "cell_type": "code",
   "execution_count": 58,
   "metadata": {
    "collapsed": false
   },
   "outputs": [
    {
     "data": {
      "text/plain": [
       "Vol{Int64}(3)"
      ]
     },
     "execution_count": 58,
     "metadata": {},
     "output_type": "execute_result"
    }
   ],
   "source": [
    "Vol(3)"
   ]
  },
  {
   "cell_type": "markdown",
   "metadata": {},
   "source": [
    "Let's put back the inner constructor:"
   ]
  },
  {
   "cell_type": "code",
   "execution_count": 62,
   "metadata": {
    "collapsed": true
   },
   "outputs": [],
   "source": [
    "workspace()"
   ]
  },
  {
   "cell_type": "code",
   "execution_count": 63,
   "metadata": {
    "collapsed": false
   },
   "outputs": [],
   "source": [
    "immutable Vol{T<:Real}\n",
    "    value::T   \n",
    "    \n",
    "    function Vol(x)\n",
    "        x < 0 && throw(ArgumentError(\"Negative volume not allowed.\"))\n",
    "        new(x)\n",
    "    end\n",
    "end"
   ]
  },
  {
   "cell_type": "code",
   "execution_count": 64,
   "metadata": {
    "collapsed": false
   },
   "outputs": [
    {
     "ename": "LoadError",
     "evalue": "LoadError: MethodError: `convert` has no method matching convert(::Type{Vol{T<:Real}}, ::Int64)\nThis may have arisen from a call to the constructor Vol{T<:Real}(...),\nsince type constructors fall back to convert methods.\nClosest candidates are:\n  call{T}(::Type{T}, ::Any)\n  convert{T}(::Type{T}, !Matched::T)\nwhile loading In[64], in expression starting on line 1",
     "output_type": "error",
     "traceback": [
      "LoadError: MethodError: `convert` has no method matching convert(::Type{Vol{T<:Real}}, ::Int64)\nThis may have arisen from a call to the constructor Vol{T<:Real}(...),\nsince type constructors fall back to convert methods.\nClosest candidates are:\n  call{T}(::Type{T}, ::Any)\n  convert{T}(::Type{T}, !Matched::T)\nwhile loading In[64], in expression starting on line 1",
      "",
      " in call at essentials.jl:56"
     ]
    }
   ],
   "source": [
    "Vol(3)"
   ]
  },
  {
   "cell_type": "code",
   "execution_count": 65,
   "metadata": {
    "collapsed": false
   },
   "outputs": [
    {
     "data": {
      "text/plain": [
       "2-element Array{Any,1}:\n",
       " call{T}(::Type{T}, arg) at essentials.jl:56    \n",
       " call{T}(::Type{T}, args...) at essentials.jl:57"
      ]
     },
     "execution_count": 65,
     "metadata": {},
     "output_type": "execute_result"
    }
   ],
   "source": [
    "methods(Vol)"
   ]
  },
  {
   "cell_type": "markdown",
   "metadata": {},
   "source": [
    "Suddenly we can no longer construct objects of our new type! This turns out to be due to the fact that defining an inner constructor prevents the usual default constructors from being defined. We will fix this in a minute by defining them ourselves.\n",
    "\n",
    "We *can* still construct an object, but we have to explicitly specify the type:"
   ]
  },
  {
   "cell_type": "code",
   "execution_count": 66,
   "metadata": {
    "collapsed": false
   },
   "outputs": [
    {
     "data": {
      "text/plain": [
       "Vol{Int64}(3)"
      ]
     },
     "execution_count": 66,
     "metadata": {},
     "output_type": "execute_result"
    }
   ],
   "source": [
    "Vol{Int}(3)"
   ]
  },
  {
   "cell_type": "markdown",
   "metadata": {},
   "source": [
    "This is a pain and undesirable -- the point of Julia is that *it* is supposed to infer the types for us. \n",
    "\n",
    "The solution is to analyse what we want Julia to do, and then tell Julia to do exactly that. \n",
    "\n",
    "We would like Julia to look at the type of the object `x` passed to the constructor - call it `T` - and automatically use the constructor *for `Vol{T}`*, passing `x` as an argument, as we just did in the explicit call.\n",
    "\n",
    "The syntax to do this looks strange at first (and second) glance:"
   ]
  },
  {
   "cell_type": "code",
   "execution_count": 68,
   "metadata": {
    "collapsed": false
   },
   "outputs": [
    {
     "ename": "LoadError",
     "evalue": "LoadError: UndefVarError: T not defined\nwhile loading In[68], in expression starting on line 1",
     "output_type": "error",
     "traceback": [
      "LoadError: UndefVarError: T not defined\nwhile loading In[68], in expression starting on line 1",
      ""
     ]
    }
   ],
   "source": [
    "f(x::T) = 2x"
   ]
  },
  {
   "cell_type": "code",
   "execution_count": 70,
   "metadata": {
    "collapsed": false
   },
   "outputs": [
    {
     "data": {
      "text/plain": [
       "Vol{T<:Real}"
      ]
     },
     "execution_count": 70,
     "metadata": {},
     "output_type": "execute_result"
    }
   ],
   "source": [
    "Vol(x::T) = Vol{T}(x)"
   ]
  },
  {
   "cell_type": "markdown",
   "metadata": {},
   "source": [
    "Now it works:"
   ]
  },
  {
   "cell_type": "code",
   "execution_count": 71,
   "metadata": {
    "collapsed": false
   },
   "outputs": [
    {
     "data": {
      "text/plain": [
       "Vol{Int64}(3)"
      ]
     },
     "execution_count": 71,
     "metadata": {},
     "output_type": "execute_result"
    }
   ],
   "source": [
    "Vol(3)"
   ]
  },
  {
   "cell_type": "code",
   "execution_count": 72,
   "metadata": {
    "collapsed": false
   },
   "outputs": [
    {
     "data": {
      "text/plain": [
       "3-element Array{Any,1}:\n",
       " call{T}(::Type{Vol{T<:Real}}, x::T) at In[70]:1\n",
       " call{T}(::Type{T}, arg) at essentials.jl:56    \n",
       " call{T}(::Type{T}, args...) at essentials.jl:57"
      ]
     },
     "execution_count": 72,
     "metadata": {},
     "output_type": "execute_result"
    }
   ],
   "source": [
    "methods(Vol)"
   ]
  },
  {
   "cell_type": "markdown",
   "metadata": {},
   "source": [
    "What is going on here? We seem to almost be repeating ourselves, writing the same both on the left and right of the assignment operator `=`. Once again, we are telling Julia to treat `T` as a type parameter. However, the meaning of `{T}` is *different* on the two sides.\n",
    "\n",
    "- The left-hand side means: \"for **any** type `T`, define a function `Vol` that takes a parameter `x` *of type `T`*\".\n",
    "This can be thought of as a specification for a matching algorithm: look at the function call and see if it matches this \"template\".\n",
    "\n",
    "\n",
    "- The assignment operator has its usual meaning: \"define the function on the left by the expression on the right\".\n",
    "\n",
    "\n",
    "- The right-hand side means: \"call the constructor `Vol{T}` with argument `x`\".\n",
    "\n",
    "The point is that by the time the right-hand side is evaluated, Julia has **already realised** what `T` must be, since the function definition is matched by a call to `Vol` with an argument `x` of *any* type `T`!\n",
    "\n",
    "The parametrised definition can be thought of as defining a \"potentially infinite\" number of different functions. Each of them is only instantiated, however, when the function is actually called with an argument of the corresponding type."
   ]
  },
  {
   "cell_type": "markdown",
   "metadata": {},
   "source": [
    "Furthermore, Julia is sophisticated enough that we can make multiple definitions like this. For example, we may want to store all volumes that are integers as exact integers, but all floating-point volumes as `BigFloat`s. We can do this by making a special method for floats:"
   ]
  },
  {
   "cell_type": "code",
   "execution_count": 73,
   "metadata": {
    "collapsed": false
   },
   "outputs": [
    {
     "data": {
      "text/plain": [
       "Vol{T<:Real}"
      ]
     },
     "execution_count": 73,
     "metadata": {},
     "output_type": "execute_result"
    }
   ],
   "source": [
    "Vol{T<:AbstractFloat}(x::T) = Vol{BigFloat}(x)"
   ]
  },
  {
   "cell_type": "code",
   "execution_count": 74,
   "metadata": {
    "collapsed": false
   },
   "outputs": [
    {
     "data": {
      "text/plain": [
       "Vol{BigFloat}(3.500000000000000000000000000000000000000000000000000000000000000000000000000000)"
      ]
     },
     "execution_count": 74,
     "metadata": {},
     "output_type": "execute_result"
    }
   ],
   "source": [
    "Vol(3.5)"
   ]
  },
  {
   "cell_type": "markdown",
   "metadata": {},
   "source": [
    "Passing in integers does *not* match this new definition, and so still uses the previous definition:"
   ]
  },
  {
   "cell_type": "code",
   "execution_count": 75,
   "metadata": {
    "collapsed": false
   },
   "outputs": [
    {
     "data": {
      "text/plain": [
       "Vol{Int64}(3)"
      ]
     },
     "execution_count": 75,
     "metadata": {},
     "output_type": "execute_result"
    }
   ],
   "source": [
    "Vol(3)"
   ]
  },
  {
   "cell_type": "markdown",
   "metadata": {},
   "source": [
    "## Arithmetic"
   ]
  },
  {
   "cell_type": "markdown",
   "metadata": {},
   "source": [
    "We would now like to define arithmetic operations:"
   ]
  },
  {
   "cell_type": "code",
   "execution_count": 76,
   "metadata": {
    "collapsed": false
   },
   "outputs": [
    {
     "data": {
      "text/plain": [
       "Vol{Int64}(4)"
      ]
     },
     "execution_count": 76,
     "metadata": {},
     "output_type": "execute_result"
    }
   ],
   "source": [
    "V1 = Vol(3)\n",
    "V2 = Vol(4)"
   ]
  },
  {
   "cell_type": "code",
   "execution_count": 77,
   "metadata": {
    "collapsed": false
   },
   "outputs": [
    {
     "ename": "LoadError",
     "evalue": "LoadError: MethodError: `+` has no method matching +(::Vol{Int64}, ::Vol{Int64})\nClosest candidates are:\n  +(::Any, ::Any, !Matched::Any, !Matched::Any...)\nwhile loading In[77], in expression starting on line 1",
     "output_type": "error",
     "traceback": [
      "LoadError: MethodError: `+` has no method matching +(::Vol{Int64}, ::Vol{Int64})\nClosest candidates are:\n  +(::Any, ::Any, !Matched::Any, !Matched::Any...)\nwhile loading In[77], in expression starting on line 1",
      ""
     ]
    }
   ],
   "source": [
    "V1 + V2"
   ]
  },
  {
   "cell_type": "markdown",
   "metadata": {},
   "source": [
    "Since we have not specified that `+` means for our type, Julia cannot know what to do."
   ]
  },
  {
   "cell_type": "markdown",
   "metadata": {},
   "source": [
    "We may, for some reason, want to define the sum of volumes only if they contain of the same type. We can follow the idea and syntax discussed for the constructor:"
   ]
  },
  {
   "cell_type": "code",
   "execution_count": 78,
   "metadata": {
    "collapsed": false
   },
   "outputs": [
    {
     "data": {
      "text/plain": [
       "+ (generic function with 172 methods)"
      ]
     },
     "execution_count": 78,
     "metadata": {},
     "output_type": "execute_result"
    }
   ],
   "source": [
    "import Base.+\n",
    "\n",
    "+{T}(V1::Vol{T}, V2::Vol{T}) = Vol{T}(V1.value + V2.value)"
   ]
  },
  {
   "cell_type": "markdown",
   "metadata": {},
   "source": [
    "This looks a bit noisy, but we just have to parse it piece by piece: it is a method of `+`, that is parametric with one type parameter `T`, and whose arguments are `Vol`s parametrised by **the same** `T`. This is important, since it means that the definition **will not match** function calls with two different types. This is one aspect of **multiple dispatch**, i.e. the fact that Julia takes into account the types of *all* arguments to determine which method is called."
   ]
  },
  {
   "cell_type": "code",
   "execution_count": 79,
   "metadata": {
    "collapsed": false
   },
   "outputs": [
    {
     "data": {
      "text/plain": [
       "Vol{Int64}(7)"
      ]
     },
     "execution_count": 79,
     "metadata": {},
     "output_type": "execute_result"
    }
   ],
   "source": [
    "V1 + V2"
   ]
  },
  {
   "cell_type": "markdown",
   "metadata": {},
   "source": [
    "However, this may be too restrictive; for example, we may wish to be able to add volumes with different integer types inside:"
   ]
  },
  {
   "cell_type": "code",
   "execution_count": null,
   "metadata": {
    "collapsed": false
   },
   "outputs": [],
   "source": [
    "Vol{Int64}(1) + Vol{BigInt}(3)"
   ]
  },
  {
   "cell_type": "markdown",
   "metadata": {},
   "source": [
    "We can again define a more specialised method:"
   ]
  },
  {
   "cell_type": "code",
   "execution_count": 80,
   "metadata": {
    "collapsed": false
   },
   "outputs": [
    {
     "data": {
      "text/plain": [
       "Int64"
      ]
     },
     "execution_count": 80,
     "metadata": {},
     "output_type": "execute_result"
    }
   ],
   "source": [
    "promote_type(Int32, Int64)"
   ]
  },
  {
   "cell_type": "code",
   "execution_count": 81,
   "metadata": {
    "collapsed": false
   },
   "outputs": [
    {
     "data": {
      "text/plain": [
       "BigInt"
      ]
     },
     "execution_count": 81,
     "metadata": {},
     "output_type": "execute_result"
    }
   ],
   "source": [
    "promote_type(Int32, BigInt)"
   ]
  },
  {
   "cell_type": "code",
   "execution_count": 85,
   "metadata": {
    "collapsed": false
   },
   "outputs": [
    {
     "data": {
      "text/plain": [
       "Any"
      ]
     },
     "execution_count": 85,
     "metadata": {},
     "output_type": "execute_result"
    }
   ],
   "source": [
    "promote_type(Int, ASCIIString)"
   ]
  },
  {
   "cell_type": "code",
   "execution_count": 87,
   "metadata": {
    "collapsed": false
   },
   "outputs": [
    {
     "name": "stderr",
     "output_type": "stream",
     "text": [
      "WARNING: New definition \n",
      "    +(Main.Vol{#T1<:Integer}, Main.Vol{#T2<:Integer}) at In[87]:1\n",
      "is ambiguous with: \n",
      "    +(Main.Vol{#T<:Any}, Main.Vol{#T<:Any}) at In[78]:3.\n",
      "To fix, define \n",
      "    +(Main.Vol{_<:Integer}, Main.Vol{_<:Integer})\n",
      "before the new definition.\n"
     ]
    },
    {
     "data": {
      "text/plain": [
       "+ (generic function with 173 methods)"
      ]
     },
     "execution_count": 87,
     "metadata": {},
     "output_type": "execute_result"
    }
   ],
   "source": [
    "+{T1<:Integer, T2<:Integer}(V1::Vol{T1}, V2::Vol{T2}) = Vol{promote_type(T1,T2)}(V1.value + V2.value)"
   ]
  },
  {
   "cell_type": "markdown",
   "metadata": {},
   "source": [
    "[We could have left out the type parameter on the right-hand side, but this leads to a method ambiguity warning, in which two different methods match the combination of argument types, in this case when we have two equal integer types.]\n",
    "\n",
    "Here, we have *two* type parameters that are both subtypes of the abstract `Integer` type, and `promote_type(T,S)` is a function from `Base` that determines the smallest supertype of both `T` and `S` that is able to correctly represent values of both types."
   ]
  },
  {
   "cell_type": "code",
   "execution_count": 88,
   "metadata": {
    "collapsed": false
   },
   "outputs": [
    {
     "data": {
      "text/plain": [
       "Vol{BigInt}(4)"
      ]
     },
     "execution_count": 88,
     "metadata": {},
     "output_type": "execute_result"
    }
   ],
   "source": [
    "Vol{Int64}(1) + Vol{BigInt}(3)"
   ]
  },
  {
   "cell_type": "code",
   "execution_count": 89,
   "metadata": {
    "collapsed": false
   },
   "outputs": [
    {
     "ename": "LoadError",
     "evalue": "LoadError: MethodError: `+` has no method matching +(::Vol{Float64}, ::Vol{BigFloat})\nClosest candidates are:\n  +(::Any, ::Any, !Matched::Any, !Matched::Any...)\n  +{T}(::Vol{T}, !Matched::Vol{T})\nwhile loading In[89], in expression starting on line 1",
     "output_type": "error",
     "traceback": [
      "LoadError: MethodError: `+` has no method matching +(::Vol{Float64}, ::Vol{BigFloat})\nClosest candidates are:\n  +(::Any, ::Any, !Matched::Any, !Matched::Any...)\n  +{T}(::Vol{T}, !Matched::Vol{T})\nwhile loading In[89], in expression starting on line 1",
      ""
     ]
    }
   ],
   "source": [
    "Vol{Float64}(1) + Vol{BigFloat}(3)"
   ]
  },
  {
   "cell_type": "markdown",
   "metadata": {},
   "source": [
    "Note that sometimes such a redefinition will apparently not work, since the previous definition, *even if it threw an error*, will be cached by Julia. In this case, it will be necessary to clear the workspace first and redefine everything. This can soon become tiresome and may be partially solved by moving the definitions out into a file, and `include`ing the file after calling `workspace()` to define the types. This kind of workflow discussion is best decided in practice."
   ]
  },
  {
   "cell_type": "markdown",
   "metadata": {},
   "source": [
    "## Adding more parameters "
   ]
  },
  {
   "cell_type": "markdown",
   "metadata": {},
   "source": [
    "Types may be parametrized by more than one parameter. In the case of volumes, we should not be able to \"add\" a 1-dimensional volume (length) to a 2-dimensional one (area), since this makes no sense physically or mathematically; on the other hand, we can multiply them to get a 3-dimensional volume. We thus need to add an integer parameter to the `Vol` type:"
   ]
  },
  {
   "cell_type": "code",
   "execution_count": 90,
   "metadata": {
    "collapsed": true
   },
   "outputs": [],
   "source": [
    "workspace()"
   ]
  },
  {
   "cell_type": "code",
   "execution_count": 91,
   "metadata": {
    "collapsed": false
   },
   "outputs": [],
   "source": [
    "immutable Vol{N,T<:Real}\n",
    "    value::T   \n",
    "end"
   ]
  },
  {
   "cell_type": "markdown",
   "metadata": {},
   "source": [
    "Again, a default constructor is created, but now we must explicitly specify the types, since the type `N` cannot be inferred from the argument:"
   ]
  },
  {
   "cell_type": "code",
   "execution_count": 92,
   "metadata": {
    "collapsed": false
   },
   "outputs": [
    {
     "data": {
      "text/plain": [
       "Vol{3,Float64}(3.0)"
      ]
     },
     "execution_count": 92,
     "metadata": {},
     "output_type": "execute_result"
    }
   ],
   "source": [
    "Vol{3, Float64}(3)"
   ]
  },
  {
   "cell_type": "code",
   "execution_count": 93,
   "metadata": {
    "collapsed": false
   },
   "outputs": [
    {
     "data": {
      "text/plain": [
       "Vol{Int64,Float64}(3.0)"
      ]
     },
     "execution_count": 93,
     "metadata": {},
     "output_type": "execute_result"
    }
   ],
   "source": [
    "Vol{Int64, Float64}(3)"
   ]
  },
  {
   "cell_type": "markdown",
   "metadata": {},
   "source": [
    "represents a three-dimensional volume of magnitude 3."
   ]
  },
  {
   "cell_type": "markdown",
   "metadata": {},
   "source": [
    "We wish to define the sum *only* when the dimensions are the same:"
   ]
  },
  {
   "cell_type": "code",
   "execution_count": 94,
   "metadata": {
    "collapsed": false
   },
   "outputs": [
    {
     "data": {
      "text/plain": [
       "+ (generic function with 174 methods)"
      ]
     },
     "execution_count": 94,
     "metadata": {},
     "output_type": "execute_result"
    }
   ],
   "source": [
    "import Base.+\n",
    "\n",
    "+{N,T}(V1::Vol{N,T}, V2::Vol{N,T}) = Vol{N,T}(V1.value + V2.value)"
   ]
  },
  {
   "cell_type": "markdown",
   "metadata": {},
   "source": [
    "This will match only when both arguments have the same parameters `T` and `N`. We could also promote the types:"
   ]
  },
  {
   "cell_type": "code",
   "execution_count": 95,
   "metadata": {
    "collapsed": false
   },
   "outputs": [
    {
     "data": {
      "text/plain": [
       "+ (generic function with 175 methods)"
      ]
     },
     "execution_count": 95,
     "metadata": {},
     "output_type": "execute_result"
    }
   ],
   "source": [
    "+{N,T1,T2}(V1::Vol{N,T1}, V2::Vol{N,T2}) = Vol{N,promote_type(T1,T2)}(V1.value + V2.value)"
   ]
  },
  {
   "cell_type": "markdown",
   "metadata": {},
   "source": [
    "We make a useful outer constructor that can infer the type of its argument, but still needs an explicit dimension:"
   ]
  },
  {
   "cell_type": "code",
   "execution_count": 96,
   "metadata": {
    "collapsed": false
   },
   "outputs": [
    {
     "data": {
      "text/plain": [
       "Vol{N,T<:Real}"
      ]
     },
     "execution_count": 96,
     "metadata": {},
     "output_type": "execute_result"
    }
   ],
   "source": [
    "Vol{T}(N, x::T) = Vol{N,T}(x)"
   ]
  },
  {
   "cell_type": "code",
   "execution_count": 97,
   "metadata": {
    "collapsed": false
   },
   "outputs": [
    {
     "data": {
      "text/plain": [
       "Vol{3,Float64}(4.5)"
      ]
     },
     "execution_count": 97,
     "metadata": {},
     "output_type": "execute_result"
    }
   ],
   "source": [
    "Vol(3, 4.5)"
   ]
  },
  {
   "cell_type": "markdown",
   "metadata": {},
   "source": [
    "We would also like to display objects in a nicer way:"
   ]
  },
  {
   "cell_type": "code",
   "execution_count": 99,
   "metadata": {
    "collapsed": false
   },
   "outputs": [
    {
     "data": {
      "text/plain": [
       "show (generic function with 106 methods)"
      ]
     },
     "execution_count": 99,
     "metadata": {},
     "output_type": "execute_result"
    }
   ],
   "source": [
    "import Base.show\n",
    "show{N,T}(io::IO, x::Vol{N,T}) = print(io, N, \"-dimensional volume with magnitude \", x.value)"
   ]
  },
  {
   "cell_type": "code",
   "execution_count": 101,
   "metadata": {
    "collapsed": false
   },
   "outputs": [
    {
     "data": {
      "text/plain": [
       "2-dimensional volume with magnitude 3.0"
      ]
     },
     "execution_count": 101,
     "metadata": {},
     "output_type": "execute_result"
    }
   ],
   "source": [
    "A = Vol(2, 3.0)   # volume of dimension 2 with value 3.0"
   ]
  },
  {
   "cell_type": "code",
   "execution_count": 102,
   "metadata": {
    "collapsed": false
   },
   "outputs": [
    {
     "data": {
      "text/plain": [
       "1-dimensional volume with magnitude 10.0"
      ]
     },
     "execution_count": 102,
     "metadata": {},
     "output_type": "execute_result"
    }
   ],
   "source": [
    "ℓ = Vol(1, 10.0)  # write as \\ell<TAB>"
   ]
  },
  {
   "cell_type": "code",
   "execution_count": 103,
   "metadata": {
    "collapsed": false
   },
   "outputs": [
    {
     "ename": "LoadError",
     "evalue": "LoadError: MethodError: `+` has no method matching +(::Vol{2,Float64}, ::Vol{1,Float64})\nClosest candidates are:\n  +(::Any, ::Any, !Matched::Any, !Matched::Any...)\n  +{N,T}(::Vol{N,T}, !Matched::Vol{N,T})\n  +{N,T1,T2}(::Vol{N,T1}, !Matched::Vol{N,T2})\nwhile loading In[103], in expression starting on line 1",
     "output_type": "error",
     "traceback": [
      "LoadError: MethodError: `+` has no method matching +(::Vol{2,Float64}, ::Vol{1,Float64})\nClosest candidates are:\n  +(::Any, ::Any, !Matched::Any, !Matched::Any...)\n  +{N,T}(::Vol{N,T}, !Matched::Vol{N,T})\n  +{N,T1,T2}(::Vol{N,T1}, !Matched::Vol{N,T2})\nwhile loading In[103], in expression starting on line 1",
      ""
     ]
    }
   ],
   "source": [
    "A + ℓ"
   ]
  },
  {
   "cell_type": "markdown",
   "metadata": {},
   "source": [
    "It is not nice for the user to throw this slightly cryptic error message. We can provide a better error message when volumes of different dimension are added; we should check that volumes of the same dimension *still works*. Such things should be codified in unit test suites."
   ]
  },
  {
   "cell_type": "code",
   "execution_count": 105,
   "metadata": {
    "collapsed": true
   },
   "outputs": [],
   "source": [
    "workspace()"
   ]
  },
  {
   "cell_type": "code",
   "execution_count": 106,
   "metadata": {
    "collapsed": false
   },
   "outputs": [
    {
     "data": {
      "text/plain": [
       "+ (generic function with 177 methods)"
      ]
     },
     "execution_count": 106,
     "metadata": {},
     "output_type": "execute_result"
    }
   ],
   "source": [
    "immutable Vol{N,T<:Real}\n",
    "    value::T   \n",
    "end\n",
    "\n",
    "Vol{T}(N, x::T) = Vol{N,T}(x)\n",
    "\n",
    "import Base.+\n",
    "\n",
    "+{N,T}(V1::Vol{N,T}, V2::Vol{N,T}) = Vol{N,T}(V1.value + V2.value)\n",
    "+{N1,N2,T}(V1::Vol{N1,T}, V2::Vol{N2,T}) = throw(ArgumentError(\"Volumes of different dimension cannot be added\"))"
   ]
  },
  {
   "cell_type": "code",
   "execution_count": 107,
   "metadata": {
    "collapsed": false
   },
   "outputs": [
    {
     "data": {
      "text/plain": [
       "Vol{3,Int64}(7)"
      ]
     },
     "execution_count": 107,
     "metadata": {},
     "output_type": "execute_result"
    }
   ],
   "source": [
    "V1 = Vol(3, 3)\n",
    "V2 = Vol(3, 4)\n",
    "V1 + V2"
   ]
  },
  {
   "cell_type": "code",
   "execution_count": 108,
   "metadata": {
    "collapsed": false
   },
   "outputs": [
    {
     "ename": "LoadError",
     "evalue": "LoadError: ArgumentError: Volumes of different dimension cannot be added\nwhile loading In[108], in expression starting on line 1",
     "output_type": "error",
     "traceback": [
      "LoadError: ArgumentError: Volumes of different dimension cannot be added\nwhile loading In[108], in expression starting on line 1",
      "",
      " in + at In[106]:10"
     ]
    }
   ],
   "source": [
    "Vol(3, 3) + Vol(2, 4)"
   ]
  },
  {
   "cell_type": "markdown",
   "metadata": {},
   "source": [
    "**Exercise**\n",
    "Define the product (`*`) of any two objects of type `Vol`."
   ]
  },
  {
   "cell_type": "markdown",
   "metadata": {},
   "source": [
    "## Conversion"
   ]
  },
  {
   "cell_type": "markdown",
   "metadata": {},
   "source": [
    "We may want to define functions like `sin` that act on objects of our new type.\n",
    "[We may *not* want to define such functions, on the other hand, since we could argue that a `Vol` is not a real number, but rather is a combination of a real number together with a dimension.]\n",
    "Let's try it:"
   ]
  },
  {
   "cell_type": "code",
   "execution_count": 109,
   "metadata": {
    "collapsed": false
   },
   "outputs": [
    {
     "data": {
      "text/plain": [
       "Vol{3,Int64}(3)"
      ]
     },
     "execution_count": 109,
     "metadata": {},
     "output_type": "execute_result"
    }
   ],
   "source": [
    "V1"
   ]
  },
  {
   "cell_type": "code",
   "execution_count": 110,
   "metadata": {
    "collapsed": false
   },
   "outputs": [
    {
     "ename": "LoadError",
     "evalue": "LoadError: MethodError: `sin` has no method matching sin(::Vol{3,Int64})\nwhile loading In[110], in expression starting on line 1",
     "output_type": "error",
     "traceback": [
      "LoadError: MethodError: `sin` has no method matching sin(::Vol{3,Int64})\nwhile loading In[110], in expression starting on line 1",
      ""
     ]
    }
   ],
   "source": [
    "sin(V1)"
   ]
  },
  {
   "cell_type": "markdown",
   "metadata": {},
   "source": [
    "Of course, Julia doesn't know how to do this, since we haven't defined it.\n",
    "However, an object of type `Vol` is just a simple wrapper around a number, so we could just say"
   ]
  },
  {
   "cell_type": "code",
   "execution_count": 111,
   "metadata": {
    "collapsed": false
   },
   "outputs": [
    {
     "data": {
      "text/plain": [
       "sin (generic function with 12 methods)"
      ]
     },
     "execution_count": 111,
     "metadata": {},
     "output_type": "execute_result"
    }
   ],
   "source": [
    "import Base.sin\n",
    "sin(x::Vol) = sin(x.value)"
   ]
  },
  {
   "cell_type": "code",
   "execution_count": 112,
   "metadata": {
    "collapsed": false
   },
   "outputs": [
    {
     "data": {
      "text/plain": [
       "0.1411200080598672"
      ]
     },
     "execution_count": 112,
     "metadata": {},
     "output_type": "execute_result"
    }
   ],
   "source": [
    "sin(V1)"
   ]
  },
  {
   "cell_type": "markdown",
   "metadata": {},
   "source": [
    "It is painful / boring / prone to error to do this for every function (although we will see in the Metaprogramming notebook how to do streamline this). An alternative is to tell Julia explicitly that a `Vol` is actually a kind of real number, i.e. a subtype of `Real`. [It is sometimes the case that this is mathematically not true, but it is a convenience to simplify the code, for example for interval subsets of the real line.]"
   ]
  },
  {
   "cell_type": "code",
   "execution_count": 116,
   "metadata": {
    "collapsed": true
   },
   "outputs": [],
   "source": [
    "workspace()"
   ]
  },
  {
   "cell_type": "code",
   "execution_count": 117,
   "metadata": {
    "collapsed": false
   },
   "outputs": [],
   "source": [
    "immutable Vol{N,T<:Real} <: Real\n",
    "    value::T   \n",
    "end"
   ]
  },
  {
   "cell_type": "code",
   "execution_count": 118,
   "metadata": {
    "collapsed": false
   },
   "outputs": [
    {
     "data": {
      "text/plain": [
       "Vol{3,Float64}(3.0)"
      ]
     },
     "execution_count": 118,
     "metadata": {},
     "output_type": "execute_result"
    }
   ],
   "source": [
    "V = Vol{3,Float64}(3)"
   ]
  },
  {
   "cell_type": "code",
   "execution_count": 119,
   "metadata": {
    "collapsed": false
   },
   "outputs": [
    {
     "ename": "LoadError",
     "evalue": "LoadError: MethodError: `convert` has no method matching convert(::Type{AbstractFloat}, ::Vol{3,Float64})\nThis may have arisen from a call to the constructor AbstractFloat(...),\nsince type constructors fall back to convert methods.\nClosest candidates are:\n  call{T<:AbstractFloat}(::Type{T<:AbstractFloat}, ::Real, !Matched::RoundingMode{T})\n  call{T}(::Type{T}, ::Any)\n  convert(::Type{AbstractFloat}, !Matched::Bool)\n  ...\nwhile loading In[119], in expression starting on line 1",
     "output_type": "error",
     "traceback": [
      "LoadError: MethodError: `convert` has no method matching convert(::Type{AbstractFloat}, ::Vol{3,Float64})\nThis may have arisen from a call to the constructor AbstractFloat(...),\nsince type constructors fall back to convert methods.\nClosest candidates are:\n  call{T<:AbstractFloat}(::Type{T<:AbstractFloat}, ::Real, !Matched::RoundingMode{T})\n  call{T}(::Type{T}, ::Any)\n  convert(::Type{AbstractFloat}, !Matched::Bool)\n  ...\nwhile loading In[119], in expression starting on line 1",
      "",
      " in sin at math.jl:139"
     ]
    }
   ],
   "source": [
    "sin(V)"
   ]
  },
  {
   "cell_type": "markdown",
   "metadata": {},
   "source": [
    "We now get a different error. We can see which method Julia is now using:"
   ]
  },
  {
   "cell_type": "code",
   "execution_count": 120,
   "metadata": {
    "collapsed": false
   },
   "outputs": [
    {
     "data": {
      "text/html": [
       "sin(x::<b>Real</b>) at <a href=\"https://github.com/JuliaLang/julia/tree/2e358ce975029ec97aba5994c17d4a2169c3b085/base/math.jl#L139\" target=\"_blank\">math.jl:139</a>"
      ],
      "text/plain": [
       "sin(x::Real) at math.jl:139"
      ]
     },
     "execution_count": 120,
     "metadata": {},
     "output_type": "execute_result"
    }
   ],
   "source": [
    "@which sin(V)"
   ]
  },
  {
   "cell_type": "markdown",
   "metadata": {},
   "source": [
    "This is a generic \"fallback\" (\"catch-all\") method, which is called when no more specialised method has been defined."
   ]
  },
  {
   "cell_type": "markdown",
   "metadata": {},
   "source": [
    "Following the link to the Julia source code, which is written in Julia and therefore amazingly understandable (with some work), and if we understand some metaprogramming, we find that the definition of `sin(x::Real)` is\n",
    "\n",
    "    sin(x::Real) = sin(float(x))"
   ]
  },
  {
   "cell_type": "markdown",
   "metadata": {},
   "source": [
    "We could just define `float` for our type, which is supposed to convert an object to it's most natural floating-point equivalent:"
   ]
  },
  {
   "cell_type": "code",
   "execution_count": 121,
   "metadata": {
    "collapsed": true
   },
   "outputs": [],
   "source": [
    "workspace()"
   ]
  },
  {
   "cell_type": "code",
   "execution_count": 122,
   "metadata": {
    "collapsed": false
   },
   "outputs": [
    {
     "data": {
      "text/plain": [
       "float (generic function with 18 methods)"
      ]
     },
     "execution_count": 122,
     "metadata": {},
     "output_type": "execute_result"
    }
   ],
   "source": [
    "immutable Vol{N,T<:Real} <: Real\n",
    "    value::T   \n",
    "end\n",
    "\n",
    "import Base.float\n",
    "float(V::Vol) = float(V.value)"
   ]
  },
  {
   "cell_type": "code",
   "execution_count": 123,
   "metadata": {
    "collapsed": false
   },
   "outputs": [
    {
     "data": {
      "text/plain": [
       "0.1411200080598672"
      ]
     },
     "execution_count": 123,
     "metadata": {},
     "output_type": "execute_result"
    }
   ],
   "source": [
    "V = Vol{3,Float64}(3)\n",
    "sin(V)"
   ]
  },
  {
   "cell_type": "markdown",
   "metadata": {},
   "source": [
    "However, in fact `float` is already defined for *any* `x::Real`:"
   ]
  },
  {
   "cell_type": "code",
   "execution_count": 124,
   "metadata": {
    "collapsed": true
   },
   "outputs": [],
   "source": [
    "workspace()"
   ]
  },
  {
   "cell_type": "code",
   "execution_count": 125,
   "metadata": {
    "collapsed": true
   },
   "outputs": [],
   "source": [
    "immutable Vol{N,T<:Real} <: Real\n",
    "    value::T   \n",
    "end"
   ]
  },
  {
   "cell_type": "code",
   "execution_count": 126,
   "metadata": {
    "collapsed": false
   },
   "outputs": [
    {
     "data": {
      "text/plain": [
       "Vol{3,Float64}(3.0)"
      ]
     },
     "execution_count": 126,
     "metadata": {},
     "output_type": "execute_result"
    }
   ],
   "source": [
    "V = Vol{3,Float64}(3)"
   ]
  },
  {
   "cell_type": "code",
   "execution_count": 127,
   "metadata": {
    "collapsed": false
   },
   "outputs": [
    {
     "data": {
      "text/html": [
       "float(x) at <a href=\"https://github.com/JuliaLang/julia/tree/2e358ce975029ec97aba5994c17d4a2169c3b085/base/float.jl#L121\" target=\"_blank\">float.jl:121</a>"
      ],
      "text/plain": [
       "float(x) at float.jl:121"
      ]
     },
     "execution_count": 127,
     "metadata": {},
     "output_type": "execute_result"
    }
   ],
   "source": [
    "@which float(V)"
   ]
  },
  {
   "cell_type": "code",
   "execution_count": 128,
   "metadata": {
    "collapsed": false
   },
   "outputs": [
    {
     "data": {
      "text/plain": [
       "3.0"
      ]
     },
     "execution_count": 128,
     "metadata": {},
     "output_type": "execute_result"
    }
   ],
   "source": [
    "float(3)"
   ]
  },
  {
   "cell_type": "markdown",
   "metadata": {},
   "source": [
    "The definition reads:\n",
    "\n",
    "    float(x) = convert(AbstractFloat, x)"
   ]
  },
  {
   "cell_type": "markdown",
   "metadata": {},
   "source": [
    "Finally, we see that rather we need to investigate Julia's capabilities for [conversion and promotion](http://docs.julialang.org/en/release-0.4/manual/conversion-and-promotion/) and define how to `convert` an object of our type into a float:"
   ]
  },
  {
   "cell_type": "code",
   "execution_count": 129,
   "metadata": {
    "collapsed": false
   },
   "outputs": [
    {
     "data": {
      "text/plain": [
       "convert (generic function with 538 methods)"
      ]
     },
     "execution_count": 129,
     "metadata": {},
     "output_type": "execute_result"
    }
   ],
   "source": [
    "import Base.convert\n",
    "convert(::Type{AbstractFloat}, x::Vol) = float(x.value)"
   ]
  },
  {
   "cell_type": "code",
   "execution_count": 130,
   "metadata": {
    "collapsed": false
   },
   "outputs": [
    {
     "data": {
      "text/plain": [
       "3.0"
      ]
     },
     "execution_count": 130,
     "metadata": {},
     "output_type": "execute_result"
    }
   ],
   "source": [
    "convert(AbstractFloat, V)"
   ]
  },
  {
   "cell_type": "code",
   "execution_count": 131,
   "metadata": {
    "collapsed": false
   },
   "outputs": [
    {
     "data": {
      "text/html": [
       "538 methods for generic function <b>convert</b>:<ul><li> convert(::<b>Type{Tuple{}}</b>, ::<b>Tuple{}</b>) at <a href=\"https://github.com/JuliaLang/julia/tree/2e358ce975029ec97aba5994c17d4a2169c3b085/base/essentials.jl#L61\" target=\"_blank\">essentials.jl:61</a><li> convert<i>{T<:Tuple{Any,Vararg{Any}}}</i>(::<b>Type{T<:Tuple{Any,Vararg{Any}}}</b>, x::<b>T<:Tuple{Any,Vararg{Any}}</b>) at <a href=\"https://github.com/JuliaLang/julia/tree/2e358ce975029ec97aba5994c17d4a2169c3b085/base/essentials.jl#L98\" target=\"_blank\">essentials.jl:98</a><li> convert<i>{T<:Tuple{Any,Vararg{Any}}}</i>(::<b>Type{T<:Tuple{Any,Vararg{Any}}}</b>, x::<b>Tuple{Any,Vararg{Any}}</b>) at <a href=\"https://github.com/JuliaLang/julia/tree/2e358ce975029ec97aba5994c17d4a2169c3b085/base/essentials.jl#L96\" target=\"_blank\">essentials.jl:96</a><li> convert(::<b>Type{Tuple}</b>, x::<b>Tuple</b>) at <a href=\"https://github.com/JuliaLang/julia/tree/2e358ce975029ec97aba5994c17d4a2169c3b085/base/essentials.jl#L62\" target=\"_blank\">essentials.jl:62</a><li> convert<i>{T}</i>(::<b>Type{Tuple{Vararg{T}}}</b>, x::<b>Tuple</b>) at <a href=\"https://github.com/JuliaLang/julia/tree/2e358ce975029ec97aba5994c17d4a2169c3b085/base/essentials.jl#L63\" target=\"_blank\">essentials.jl:63</a><li> convert<i>{T<:Union{Int8,UInt8}}</i>(::<b>Type{Cstring}</b>, p::<b>Ptr{T<:Union{Int8,UInt8}}</b>) at <a href=\"https://github.com/JuliaLang/julia/tree/2e358ce975029ec97aba5994c17d4a2169c3b085/base/c.jl#L61\" target=\"_blank\">c.jl:61</a><li> convert(::<b>Type{Cwstring}</b>, p::<b>Ptr{Int32}</b>) at <a href=\"https://github.com/JuliaLang/julia/tree/2e358ce975029ec97aba5994c17d4a2169c3b085/base/c.jl#L62\" target=\"_blank\">c.jl:62</a><li> convert<i>{T<:Union{Int8,UInt8}}</i>(::<b>Type{Ptr{T<:Union{Int8,UInt8}}}</b>, p::<b>Cstring</b>) at <a href=\"https://github.com/JuliaLang/julia/tree/2e358ce975029ec97aba5994c17d4a2169c3b085/base/c.jl#L63\" target=\"_blank\">c.jl:63</a><li> convert(::<b>Type{Ptr{Int32}}</b>, p::<b>Cwstring</b>) at <a href=\"https://github.com/JuliaLang/julia/tree/2e358ce975029ec97aba5994c17d4a2169c3b085/base/c.jl#L64\" target=\"_blank\">c.jl:64</a><li> convert(::<b>Type{Cstring}</b>, s::<b>Symbol</b>) at <a href=\"https://github.com/JuliaLang/julia/tree/2e358ce975029ec97aba5994c17d4a2169c3b085/base/c.jl#L83\" target=\"_blank\">c.jl:83</a><li> convert<i>{T}</i>(::<b>Type{UnitRange{T}}</b>, r::<b>UnitRange{T}</b>) at <a href=\"https://github.com/JuliaLang/julia/tree/2e358ce975029ec97aba5994c17d4a2169c3b085/base/range.jl#L587\" target=\"_blank\">range.jl:587</a><li> convert<i>{T}</i>(::<b>Type{UnitRange{T}}</b>, r::<b>UnitRange{T<:Real}</b>) at <a href=\"https://github.com/JuliaLang/julia/tree/2e358ce975029ec97aba5994c17d4a2169c3b085/base/range.jl#L588\" target=\"_blank\">range.jl:588</a><li> convert<i>{T1,T2}</i>(::<b>Type{StepRange{T1,T2}}</b>, r::<b>StepRange{T1,T2}</b>) at <a href=\"https://github.com/JuliaLang/julia/tree/2e358ce975029ec97aba5994c17d4a2169c3b085/base/range.jl#L592\" target=\"_blank\">range.jl:592</a><li> convert<i>{T}</i>(::<b>Type{StepRange{T,S}}</b>, r::<b>UnitRange{T}</b>) at <a href=\"https://github.com/JuliaLang/julia/tree/2e358ce975029ec97aba5994c17d4a2169c3b085/base/range.jl#L598\" target=\"_blank\">range.jl:598</a><li> convert<i>{T1,T2}</i>(::<b>Type{StepRange{T1,T2}}</b>, r::<b>Range{T}</b>) at <a href=\"https://github.com/JuliaLang/julia/tree/2e358ce975029ec97aba5994c17d4a2169c3b085/base/range.jl#L596\" target=\"_blank\">range.jl:596</a><li> convert<i>{T}</i>(::<b>Type{FloatRange{T}}</b>, r::<b>FloatRange{T}</b>) at <a href=\"https://github.com/JuliaLang/julia/tree/2e358ce975029ec97aba5994c17d4a2169c3b085/base/range.jl#L603\" target=\"_blank\">range.jl:603</a><li> convert<i>{T}</i>(::<b>Type{FloatRange{T}}</b>, r::<b>FloatRange{T<:AbstractFloat}</b>) at <a href=\"https://github.com/JuliaLang/julia/tree/2e358ce975029ec97aba5994c17d4a2169c3b085/base/range.jl#L604\" target=\"_blank\">range.jl:604</a><li> convert<i>{T}</i>(::<b>Type{FloatRange{T<:AbstractFloat}}</b>, r::<b>OrdinalRange{T,S}</b>) at <a href=\"https://github.com/JuliaLang/julia/tree/2e358ce975029ec97aba5994c17d4a2169c3b085/base/range.jl#L611\" target=\"_blank\">range.jl:611</a><li> convert<i>{T}</i>(::<b>Type{FloatRange{T}}</b>, r::<b>OrdinalRange{T,S}</b>) at <a href=\"https://github.com/JuliaLang/julia/tree/2e358ce975029ec97aba5994c17d4a2169c3b085/base/range.jl#L609\" target=\"_blank\">range.jl:609</a><li> convert<i>{T}</i>(::<b>Type{LinSpace{T}}</b>, r::<b>LinSpace{T}</b>) at <a href=\"https://github.com/JuliaLang/julia/tree/2e358ce975029ec97aba5994c17d4a2169c3b085/base/range.jl#L616\" target=\"_blank\">range.jl:616</a><li> convert<i>{T}</i>(::<b>Type{LinSpace{T}}</b>, r::<b>LinSpace{T<:AbstractFloat}</b>) at <a href=\"https://github.com/JuliaLang/julia/tree/2e358ce975029ec97aba5994c17d4a2169c3b085/base/range.jl#L617\" target=\"_blank\">range.jl:617</a><li> convert<i>{T}</i>(::<b>Type{LinSpace{T<:AbstractFloat}}</b>, r::<b>OrdinalRange{T,S}</b>) at <a href=\"https://github.com/JuliaLang/julia/tree/2e358ce975029ec97aba5994c17d4a2169c3b085/base/range.jl#L624\" target=\"_blank\">range.jl:624</a><li> convert<i>{T}</i>(::<b>Type{LinSpace{T}}</b>, r::<b>OrdinalRange{T,S}</b>) at <a href=\"https://github.com/JuliaLang/julia/tree/2e358ce975029ec97aba5994c17d4a2169c3b085/base/range.jl#L622\" target=\"_blank\">range.jl:622</a><li> convert<i>{T}</i>(::<b>Type{LinSpace{T}}</b>, r::<b>FloatRange{T<:AbstractFloat}</b>) at <a href=\"https://github.com/JuliaLang/julia/tree/2e358ce975029ec97aba5994c17d4a2169c3b085/base/range.jl#L630\" target=\"_blank\">range.jl:630</a><li> convert<i>{T}</i>(::<b>Type{LinSpace{T<:AbstractFloat}}</b>, r::<b>FloatRange{T}</b>) at <a href=\"https://github.com/JuliaLang/julia/tree/2e358ce975029ec97aba5994c17d4a2169c3b085/base/range.jl#L632\" target=\"_blank\">range.jl:632</a><li> convert<i>{T}</i>(::<b>Type{Array{T,1}}</b>, r::<b>Range{T}</b>) at <a href=\"https://github.com/JuliaLang/julia/tree/2e358ce975029ec97aba5994c17d4a2169c3b085/base/range.jl#L671\" target=\"_blank\">range.jl:671</a><li> convert(::<b>Type{Bool}</b>, x::<b>Bool</b>) at <a href=\"https://github.com/JuliaLang/julia/tree/2e358ce975029ec97aba5994c17d4a2169c3b085/base/bool.jl#L5\" target=\"_blank\">bool.jl:5</a><li> convert(::<b>Type{Bool}</b>, x::<b>Rational{T<:Integer}</b>) at <a href=\"https://github.com/JuliaLang/julia/tree/2e358ce975029ec97aba5994c17d4a2169c3b085/base/rational.jl#L75\" target=\"_blank\">rational.jl:75</a><li> convert(::<b>Type{Bool}</b>, x::<b>Float16</b>) at <a href=\"https://github.com/JuliaLang/julia/tree/2e358ce975029ec97aba5994c17d4a2169c3b085/base/float16.jl#L101\" target=\"_blank\">float16.jl:101</a><li> convert(::<b>Type{Bool}</b>, x::<b>BigFloat</b>) at <a href=\"https://github.com/JuliaLang/julia/tree/2e358ce975029ec97aba5994c17d4a2169c3b085/base/mpfr.jl#L164\" target=\"_blank\">mpfr.jl:164</a><li> convert(::<b>Type{Bool}</b>, x::<b>Real</b>) at <a href=\"https://github.com/JuliaLang/julia/tree/2e358ce975029ec97aba5994c17d4a2169c3b085/base/bool.jl#L6\" target=\"_blank\">bool.jl:6</a><li> convert(::<b>Type{Int8}</b>, x::<b>UInt8</b>) at <a href=\"https://github.com/JuliaLang/julia/tree/2e358ce975029ec97aba5994c17d4a2169c3b085/base/int.jl#L193\" target=\"_blank\">int.jl:193</a><li> convert(::<b>Type{Int8}</b>, x::<b>Int16</b>) at <a href=\"https://github.com/JuliaLang/julia/tree/2e358ce975029ec97aba5994c17d4a2169c3b085/base/int.jl#L172\" target=\"_blank\">int.jl:172</a><li> convert(::<b>Type{Int8}</b>, x::<b>UInt16</b>) at <a href=\"https://github.com/JuliaLang/julia/tree/2e358ce975029ec97aba5994c17d4a2169c3b085/base/int.jl#L170\" target=\"_blank\">int.jl:170</a><li> convert(::<b>Type{Int8}</b>, x::<b>Int32</b>) at <a href=\"https://github.com/JuliaLang/julia/tree/2e358ce975029ec97aba5994c17d4a2169c3b085/base/int.jl#L172\" target=\"_blank\">int.jl:172</a><li> convert(::<b>Type{Int8}</b>, x::<b>UInt32</b>) at <a href=\"https://github.com/JuliaLang/julia/tree/2e358ce975029ec97aba5994c17d4a2169c3b085/base/int.jl#L170\" target=\"_blank\">int.jl:170</a><li> convert(::<b>Type{Int8}</b>, x::<b>Int64</b>) at <a href=\"https://github.com/JuliaLang/julia/tree/2e358ce975029ec97aba5994c17d4a2169c3b085/base/int.jl#L172\" target=\"_blank\">int.jl:172</a><li> convert(::<b>Type{Int8}</b>, x::<b>UInt64</b>) at <a href=\"https://github.com/JuliaLang/julia/tree/2e358ce975029ec97aba5994c17d4a2169c3b085/base/int.jl#L170\" target=\"_blank\">int.jl:170</a><li> convert(::<b>Type{Int8}</b>, x::<b>Int128</b>) at <a href=\"https://github.com/JuliaLang/julia/tree/2e358ce975029ec97aba5994c17d4a2169c3b085/base/int.jl#L172\" target=\"_blank\">int.jl:172</a><li> convert(::<b>Type{Int8}</b>, x::<b>UInt128</b>) at <a href=\"https://github.com/JuliaLang/julia/tree/2e358ce975029ec97aba5994c17d4a2169c3b085/base/int.jl#L170\" target=\"_blank\">int.jl:170</a><li> convert(::<b>Type{Int8}</b>, x::<b>Bool</b>) at <a href=\"https://github.com/JuliaLang/julia/tree/2e358ce975029ec97aba5994c17d4a2169c3b085/base/int.jl#L187\" target=\"_blank\">int.jl:187</a><li> convert(::<b>Type{UInt8}</b>, x::<b>Int8</b>) at <a href=\"https://github.com/JuliaLang/julia/tree/2e358ce975029ec97aba5994c17d4a2169c3b085/base/int.jl#L193\" target=\"_blank\">int.jl:193</a><li> convert(::<b>Type{UInt8}</b>, x::<b>Int16</b>) at <a href=\"https://github.com/JuliaLang/julia/tree/2e358ce975029ec97aba5994c17d4a2169c3b085/base/int.jl#L175\" target=\"_blank\">int.jl:175</a><li> convert(::<b>Type{UInt8}</b>, x::<b>UInt16</b>) at <a href=\"https://github.com/JuliaLang/julia/tree/2e358ce975029ec97aba5994c17d4a2169c3b085/base/int.jl#L175\" target=\"_blank\">int.jl:175</a><li> convert(::<b>Type{UInt8}</b>, x::<b>Int32</b>) at <a href=\"https://github.com/JuliaLang/julia/tree/2e358ce975029ec97aba5994c17d4a2169c3b085/base/int.jl#L175\" target=\"_blank\">int.jl:175</a><li> convert(::<b>Type{UInt8}</b>, x::<b>UInt32</b>) at <a href=\"https://github.com/JuliaLang/julia/tree/2e358ce975029ec97aba5994c17d4a2169c3b085/base/int.jl#L175\" target=\"_blank\">int.jl:175</a><li> convert(::<b>Type{UInt8}</b>, x::<b>Int64</b>) at <a href=\"https://github.com/JuliaLang/julia/tree/2e358ce975029ec97aba5994c17d4a2169c3b085/base/int.jl#L175\" target=\"_blank\">int.jl:175</a><li> convert(::<b>Type{UInt8}</b>, x::<b>UInt64</b>) at <a href=\"https://github.com/JuliaLang/julia/tree/2e358ce975029ec97aba5994c17d4a2169c3b085/base/int.jl#L175\" target=\"_blank\">int.jl:175</a><li> convert(::<b>Type{UInt8}</b>, x::<b>Int128</b>) at <a href=\"https://github.com/JuliaLang/julia/tree/2e358ce975029ec97aba5994c17d4a2169c3b085/base/int.jl#L175\" target=\"_blank\">int.jl:175</a><li> convert(::<b>Type{UInt8}</b>, x::<b>UInt128</b>) at <a href=\"https://github.com/JuliaLang/julia/tree/2e358ce975029ec97aba5994c17d4a2169c3b085/base/int.jl#L175\" target=\"_blank\">int.jl:175</a><li> convert(::<b>Type{UInt8}</b>, x::<b>Bool</b>) at <a href=\"https://github.com/JuliaLang/julia/tree/2e358ce975029ec97aba5994c17d4a2169c3b085/base/int.jl#L187\" target=\"_blank\">int.jl:187</a><li> convert(::<b>Type{Int16}</b>, x::<b>Int8</b>) at <a href=\"https://github.com/JuliaLang/julia/tree/2e358ce975029ec97aba5994c17d4a2169c3b085/base/int.jl#L183\" target=\"_blank\">int.jl:183</a><li> convert(::<b>Type{Int16}</b>, x::<b>UInt8</b>) at <a href=\"https://github.com/JuliaLang/julia/tree/2e358ce975029ec97aba5994c17d4a2169c3b085/base/int.jl#L187\" target=\"_blank\">int.jl:187</a><li> convert(::<b>Type{Int16}</b>, x::<b>UInt16</b>) at <a href=\"https://github.com/JuliaLang/julia/tree/2e358ce975029ec97aba5994c17d4a2169c3b085/base/int.jl#L193\" target=\"_blank\">int.jl:193</a><li> convert(::<b>Type{Int16}</b>, x::<b>Int32</b>) at <a href=\"https://github.com/JuliaLang/julia/tree/2e358ce975029ec97aba5994c17d4a2169c3b085/base/int.jl#L172\" target=\"_blank\">int.jl:172</a><li> convert(::<b>Type{Int16}</b>, x::<b>UInt32</b>) at <a href=\"https://github.com/JuliaLang/julia/tree/2e358ce975029ec97aba5994c17d4a2169c3b085/base/int.jl#L170\" target=\"_blank\">int.jl:170</a><li> convert(::<b>Type{Int16}</b>, x::<b>Int64</b>) at <a href=\"https://github.com/JuliaLang/julia/tree/2e358ce975029ec97aba5994c17d4a2169c3b085/base/int.jl#L172\" target=\"_blank\">int.jl:172</a><li> convert(::<b>Type{Int16}</b>, x::<b>UInt64</b>) at <a href=\"https://github.com/JuliaLang/julia/tree/2e358ce975029ec97aba5994c17d4a2169c3b085/base/int.jl#L170\" target=\"_blank\">int.jl:170</a><li> convert(::<b>Type{Int16}</b>, x::<b>Int128</b>) at <a href=\"https://github.com/JuliaLang/julia/tree/2e358ce975029ec97aba5994c17d4a2169c3b085/base/int.jl#L172\" target=\"_blank\">int.jl:172</a><li> convert(::<b>Type{Int16}</b>, x::<b>UInt128</b>) at <a href=\"https://github.com/JuliaLang/julia/tree/2e358ce975029ec97aba5994c17d4a2169c3b085/base/int.jl#L170\" target=\"_blank\">int.jl:170</a><li> convert(::<b>Type{Int16}</b>, x::<b>Bool</b>) at <a href=\"https://github.com/JuliaLang/julia/tree/2e358ce975029ec97aba5994c17d4a2169c3b085/base/int.jl#L187\" target=\"_blank\">int.jl:187</a><li> convert(::<b>Type{UInt16}</b>, x::<b>Int8</b>) at <a href=\"https://github.com/JuliaLang/julia/tree/2e358ce975029ec97aba5994c17d4a2169c3b085/base/int.jl#L181\" target=\"_blank\">int.jl:181</a><li> convert(::<b>Type{UInt16}</b>, x::<b>UInt8</b>) at <a href=\"https://github.com/JuliaLang/julia/tree/2e358ce975029ec97aba5994c17d4a2169c3b085/base/int.jl#L187\" target=\"_blank\">int.jl:187</a><li> convert(::<b>Type{UInt16}</b>, x::<b>Int16</b>) at <a href=\"https://github.com/JuliaLang/julia/tree/2e358ce975029ec97aba5994c17d4a2169c3b085/base/int.jl#L193\" target=\"_blank\">int.jl:193</a><li> convert(::<b>Type{UInt16}</b>, x::<b>Int32</b>) at <a href=\"https://github.com/JuliaLang/julia/tree/2e358ce975029ec97aba5994c17d4a2169c3b085/base/int.jl#L175\" target=\"_blank\">int.jl:175</a><li> convert(::<b>Type{UInt16}</b>, x::<b>UInt32</b>) at <a href=\"https://github.com/JuliaLang/julia/tree/2e358ce975029ec97aba5994c17d4a2169c3b085/base/int.jl#L175\" target=\"_blank\">int.jl:175</a><li> convert(::<b>Type{UInt16}</b>, x::<b>Int64</b>) at <a href=\"https://github.com/JuliaLang/julia/tree/2e358ce975029ec97aba5994c17d4a2169c3b085/base/int.jl#L175\" target=\"_blank\">int.jl:175</a><li> convert(::<b>Type{UInt16}</b>, x::<b>UInt64</b>) at <a href=\"https://github.com/JuliaLang/julia/tree/2e358ce975029ec97aba5994c17d4a2169c3b085/base/int.jl#L175\" target=\"_blank\">int.jl:175</a><li> convert(::<b>Type{UInt16}</b>, x::<b>Int128</b>) at <a href=\"https://github.com/JuliaLang/julia/tree/2e358ce975029ec97aba5994c17d4a2169c3b085/base/int.jl#L175\" target=\"_blank\">int.jl:175</a><li> convert(::<b>Type{UInt16}</b>, x::<b>UInt128</b>) at <a href=\"https://github.com/JuliaLang/julia/tree/2e358ce975029ec97aba5994c17d4a2169c3b085/base/int.jl#L175\" target=\"_blank\">int.jl:175</a><li> convert(::<b>Type{UInt16}</b>, x::<b>Bool</b>) at <a href=\"https://github.com/JuliaLang/julia/tree/2e358ce975029ec97aba5994c17d4a2169c3b085/base/int.jl#L187\" target=\"_blank\">int.jl:187</a><li> convert(::<b>Type{Int32}</b>, x::<b>Int8</b>) at <a href=\"https://github.com/JuliaLang/julia/tree/2e358ce975029ec97aba5994c17d4a2169c3b085/base/int.jl#L183\" target=\"_blank\">int.jl:183</a><li> convert(::<b>Type{Int32}</b>, x::<b>UInt8</b>) at <a href=\"https://github.com/JuliaLang/julia/tree/2e358ce975029ec97aba5994c17d4a2169c3b085/base/int.jl#L187\" target=\"_blank\">int.jl:187</a><li> convert(::<b>Type{Int32}</b>, x::<b>Int16</b>) at <a href=\"https://github.com/JuliaLang/julia/tree/2e358ce975029ec97aba5994c17d4a2169c3b085/base/int.jl#L183\" target=\"_blank\">int.jl:183</a><li> convert(::<b>Type{Int32}</b>, x::<b>UInt16</b>) at <a href=\"https://github.com/JuliaLang/julia/tree/2e358ce975029ec97aba5994c17d4a2169c3b085/base/int.jl#L187\" target=\"_blank\">int.jl:187</a><li> convert(::<b>Type{Int32}</b>, x::<b>UInt32</b>) at <a href=\"https://github.com/JuliaLang/julia/tree/2e358ce975029ec97aba5994c17d4a2169c3b085/base/int.jl#L193\" target=\"_blank\">int.jl:193</a><li> convert(::<b>Type{Int32}</b>, x::<b>Int64</b>) at <a href=\"https://github.com/JuliaLang/julia/tree/2e358ce975029ec97aba5994c17d4a2169c3b085/base/int.jl#L172\" target=\"_blank\">int.jl:172</a><li> convert(::<b>Type{Int32}</b>, x::<b>UInt64</b>) at <a href=\"https://github.com/JuliaLang/julia/tree/2e358ce975029ec97aba5994c17d4a2169c3b085/base/int.jl#L170\" target=\"_blank\">int.jl:170</a><li> convert(::<b>Type{Int32}</b>, x::<b>Int128</b>) at <a href=\"https://github.com/JuliaLang/julia/tree/2e358ce975029ec97aba5994c17d4a2169c3b085/base/int.jl#L172\" target=\"_blank\">int.jl:172</a><li> convert(::<b>Type{Int32}</b>, x::<b>UInt128</b>) at <a href=\"https://github.com/JuliaLang/julia/tree/2e358ce975029ec97aba5994c17d4a2169c3b085/base/int.jl#L170\" target=\"_blank\">int.jl:170</a><li> convert(::<b>Type{Int32}</b>, x::<b>Bool</b>) at <a href=\"https://github.com/JuliaLang/julia/tree/2e358ce975029ec97aba5994c17d4a2169c3b085/base/int.jl#L187\" target=\"_blank\">int.jl:187</a><li> convert(::<b>Type{UInt32}</b>, x::<b>Int8</b>) at <a href=\"https://github.com/JuliaLang/julia/tree/2e358ce975029ec97aba5994c17d4a2169c3b085/base/int.jl#L181\" target=\"_blank\">int.jl:181</a><li> convert(::<b>Type{UInt32}</b>, x::<b>UInt8</b>) at <a href=\"https://github.com/JuliaLang/julia/tree/2e358ce975029ec97aba5994c17d4a2169c3b085/base/int.jl#L187\" target=\"_blank\">int.jl:187</a><li> convert(::<b>Type{UInt32}</b>, x::<b>Int16</b>) at <a href=\"https://github.com/JuliaLang/julia/tree/2e358ce975029ec97aba5994c17d4a2169c3b085/base/int.jl#L181\" target=\"_blank\">int.jl:181</a><li> convert(::<b>Type{UInt32}</b>, x::<b>UInt16</b>) at <a href=\"https://github.com/JuliaLang/julia/tree/2e358ce975029ec97aba5994c17d4a2169c3b085/base/int.jl#L187\" target=\"_blank\">int.jl:187</a><li> convert(::<b>Type{UInt32}</b>, x::<b>Int32</b>) at <a href=\"https://github.com/JuliaLang/julia/tree/2e358ce975029ec97aba5994c17d4a2169c3b085/base/int.jl#L193\" target=\"_blank\">int.jl:193</a><li> convert(::<b>Type{UInt32}</b>, x::<b>Int64</b>) at <a href=\"https://github.com/JuliaLang/julia/tree/2e358ce975029ec97aba5994c17d4a2169c3b085/base/int.jl#L175\" target=\"_blank\">int.jl:175</a><li> convert(::<b>Type{UInt32}</b>, x::<b>UInt64</b>) at <a href=\"https://github.com/JuliaLang/julia/tree/2e358ce975029ec97aba5994c17d4a2169c3b085/base/int.jl#L175\" target=\"_blank\">int.jl:175</a><li> convert(::<b>Type{UInt32}</b>, x::<b>Int128</b>) at <a href=\"https://github.com/JuliaLang/julia/tree/2e358ce975029ec97aba5994c17d4a2169c3b085/base/int.jl#L175\" target=\"_blank\">int.jl:175</a><li> convert(::<b>Type{UInt32}</b>, x::<b>UInt128</b>) at <a href=\"https://github.com/JuliaLang/julia/tree/2e358ce975029ec97aba5994c17d4a2169c3b085/base/int.jl#L175\" target=\"_blank\">int.jl:175</a><li> convert(::<b>Type{UInt32}</b>, x::<b>Bool</b>) at <a href=\"https://github.com/JuliaLang/julia/tree/2e358ce975029ec97aba5994c17d4a2169c3b085/base/int.jl#L187\" target=\"_blank\">int.jl:187</a><li> convert(::<b>Type{Int64}</b>, x::<b>Int8</b>) at <a href=\"https://github.com/JuliaLang/julia/tree/2e358ce975029ec97aba5994c17d4a2169c3b085/base/int.jl#L183\" target=\"_blank\">int.jl:183</a><li> convert(::<b>Type{Int64}</b>, x::<b>UInt8</b>) at <a href=\"https://github.com/JuliaLang/julia/tree/2e358ce975029ec97aba5994c17d4a2169c3b085/base/int.jl#L187\" target=\"_blank\">int.jl:187</a><li> convert(::<b>Type{Int64}</b>, x::<b>Int16</b>) at <a href=\"https://github.com/JuliaLang/julia/tree/2e358ce975029ec97aba5994c17d4a2169c3b085/base/int.jl#L183\" target=\"_blank\">int.jl:183</a><li> convert(::<b>Type{Int64}</b>, x::<b>UInt16</b>) at <a href=\"https://github.com/JuliaLang/julia/tree/2e358ce975029ec97aba5994c17d4a2169c3b085/base/int.jl#L187\" target=\"_blank\">int.jl:187</a><li> convert(::<b>Type{Int64}</b>, x::<b>Int32</b>) at <a href=\"https://github.com/JuliaLang/julia/tree/2e358ce975029ec97aba5994c17d4a2169c3b085/base/int.jl#L183\" target=\"_blank\">int.jl:183</a><li> convert(::<b>Type{Int64}</b>, x::<b>UInt32</b>) at <a href=\"https://github.com/JuliaLang/julia/tree/2e358ce975029ec97aba5994c17d4a2169c3b085/base/int.jl#L187\" target=\"_blank\">int.jl:187</a><li> convert(::<b>Type{Int64}</b>, x::<b>UInt64</b>) at <a href=\"https://github.com/JuliaLang/julia/tree/2e358ce975029ec97aba5994c17d4a2169c3b085/base/int.jl#L193\" target=\"_blank\">int.jl:193</a><li> convert(::<b>Type{Int64}</b>, x::<b>Int128</b>) at <a href=\"https://github.com/JuliaLang/julia/tree/2e358ce975029ec97aba5994c17d4a2169c3b085/base/int.jl#L172\" target=\"_blank\">int.jl:172</a><li> convert(::<b>Type{Int64}</b>, x::<b>UInt128</b>) at <a href=\"https://github.com/JuliaLang/julia/tree/2e358ce975029ec97aba5994c17d4a2169c3b085/base/int.jl#L170\" target=\"_blank\">int.jl:170</a><li> convert(::<b>Type{Int64}</b>, x::<b>Bool</b>) at <a href=\"https://github.com/JuliaLang/julia/tree/2e358ce975029ec97aba5994c17d4a2169c3b085/base/int.jl#L187\" target=\"_blank\">int.jl:187</a><li> convert(::<b>Type{UInt64}</b>, x::<b>Int8</b>) at <a href=\"https://github.com/JuliaLang/julia/tree/2e358ce975029ec97aba5994c17d4a2169c3b085/base/int.jl#L181\" target=\"_blank\">int.jl:181</a><li> convert(::<b>Type{UInt64}</b>, x::<b>UInt8</b>) at <a href=\"https://github.com/JuliaLang/julia/tree/2e358ce975029ec97aba5994c17d4a2169c3b085/base/int.jl#L187\" target=\"_blank\">int.jl:187</a><li> convert(::<b>Type{UInt64}</b>, x::<b>Int16</b>) at <a href=\"https://github.com/JuliaLang/julia/tree/2e358ce975029ec97aba5994c17d4a2169c3b085/base/int.jl#L181\" target=\"_blank\">int.jl:181</a><li> convert(::<b>Type{UInt64}</b>, x::<b>UInt16</b>) at <a href=\"https://github.com/JuliaLang/julia/tree/2e358ce975029ec97aba5994c17d4a2169c3b085/base/int.jl#L187\" target=\"_blank\">int.jl:187</a><li> convert(::<b>Type{UInt64}</b>, x::<b>Int32</b>) at <a href=\"https://github.com/JuliaLang/julia/tree/2e358ce975029ec97aba5994c17d4a2169c3b085/base/int.jl#L181\" target=\"_blank\">int.jl:181</a><li> convert(::<b>Type{UInt64}</b>, x::<b>UInt32</b>) at <a href=\"https://github.com/JuliaLang/julia/tree/2e358ce975029ec97aba5994c17d4a2169c3b085/base/int.jl#L187\" target=\"_blank\">int.jl:187</a><li> convert(::<b>Type{UInt64}</b>, x::<b>Int64</b>) at <a href=\"https://github.com/JuliaLang/julia/tree/2e358ce975029ec97aba5994c17d4a2169c3b085/base/int.jl#L193\" target=\"_blank\">int.jl:193</a><li> convert(::<b>Type{UInt64}</b>, x::<b>Int128</b>) at <a href=\"https://github.com/JuliaLang/julia/tree/2e358ce975029ec97aba5994c17d4a2169c3b085/base/int.jl#L175\" target=\"_blank\">int.jl:175</a><li> convert(::<b>Type{UInt64}</b>, x::<b>UInt128</b>) at <a href=\"https://github.com/JuliaLang/julia/tree/2e358ce975029ec97aba5994c17d4a2169c3b085/base/int.jl#L175\" target=\"_blank\">int.jl:175</a><li> convert(::<b>Type{UInt64}</b>, x::<b>Bool</b>) at <a href=\"https://github.com/JuliaLang/julia/tree/2e358ce975029ec97aba5994c17d4a2169c3b085/base/int.jl#L187\" target=\"_blank\">int.jl:187</a><li> convert(::<b>Type{Int128}</b>, x::<b>Int8</b>) at <a href=\"https://github.com/JuliaLang/julia/tree/2e358ce975029ec97aba5994c17d4a2169c3b085/base/int.jl#L183\" target=\"_blank\">int.jl:183</a><li> convert(::<b>Type{Int128}</b>, x::<b>UInt8</b>) at <a href=\"https://github.com/JuliaLang/julia/tree/2e358ce975029ec97aba5994c17d4a2169c3b085/base/int.jl#L187\" target=\"_blank\">int.jl:187</a><li> convert(::<b>Type{Int128}</b>, x::<b>Int16</b>) at <a href=\"https://github.com/JuliaLang/julia/tree/2e358ce975029ec97aba5994c17d4a2169c3b085/base/int.jl#L183\" target=\"_blank\">int.jl:183</a><li> convert(::<b>Type{Int128}</b>, x::<b>UInt16</b>) at <a href=\"https://github.com/JuliaLang/julia/tree/2e358ce975029ec97aba5994c17d4a2169c3b085/base/int.jl#L187\" target=\"_blank\">int.jl:187</a><li> convert(::<b>Type{Int128}</b>, x::<b>Int32</b>) at <a href=\"https://github.com/JuliaLang/julia/tree/2e358ce975029ec97aba5994c17d4a2169c3b085/base/int.jl#L183\" target=\"_blank\">int.jl:183</a><li> convert(::<b>Type{Int128}</b>, x::<b>UInt32</b>) at <a href=\"https://github.com/JuliaLang/julia/tree/2e358ce975029ec97aba5994c17d4a2169c3b085/base/int.jl#L187\" target=\"_blank\">int.jl:187</a><li> convert(::<b>Type{Int128}</b>, x::<b>Int64</b>) at <a href=\"https://github.com/JuliaLang/julia/tree/2e358ce975029ec97aba5994c17d4a2169c3b085/base/int.jl#L183\" target=\"_blank\">int.jl:183</a><li> convert(::<b>Type{Int128}</b>, x::<b>UInt64</b>) at <a href=\"https://github.com/JuliaLang/julia/tree/2e358ce975029ec97aba5994c17d4a2169c3b085/base/int.jl#L187\" target=\"_blank\">int.jl:187</a><li> convert(::<b>Type{Int128}</b>, x::<b>UInt128</b>) at <a href=\"https://github.com/JuliaLang/julia/tree/2e358ce975029ec97aba5994c17d4a2169c3b085/base/int.jl#L193\" target=\"_blank\">int.jl:193</a><li> convert(::<b>Type{Int128}</b>, x::<b>Bool</b>) at <a href=\"https://github.com/JuliaLang/julia/tree/2e358ce975029ec97aba5994c17d4a2169c3b085/base/int.jl#L187\" target=\"_blank\">int.jl:187</a><li> convert(::<b>Type{UInt128}</b>, x::<b>Int8</b>) at <a href=\"https://github.com/JuliaLang/julia/tree/2e358ce975029ec97aba5994c17d4a2169c3b085/base/int.jl#L181\" target=\"_blank\">int.jl:181</a><li> convert(::<b>Type{UInt128}</b>, x::<b>UInt8</b>) at <a href=\"https://github.com/JuliaLang/julia/tree/2e358ce975029ec97aba5994c17d4a2169c3b085/base/int.jl#L187\" target=\"_blank\">int.jl:187</a><li> convert(::<b>Type{UInt128}</b>, x::<b>Int16</b>) at <a href=\"https://github.com/JuliaLang/julia/tree/2e358ce975029ec97aba5994c17d4a2169c3b085/base/int.jl#L181\" target=\"_blank\">int.jl:181</a><li> convert(::<b>Type{UInt128}</b>, x::<b>UInt16</b>) at <a href=\"https://github.com/JuliaLang/julia/tree/2e358ce975029ec97aba5994c17d4a2169c3b085/base/int.jl#L187\" target=\"_blank\">int.jl:187</a><li> convert(::<b>Type{UInt128}</b>, x::<b>Int32</b>) at <a href=\"https://github.com/JuliaLang/julia/tree/2e358ce975029ec97aba5994c17d4a2169c3b085/base/int.jl#L181\" target=\"_blank\">int.jl:181</a><li> convert(::<b>Type{UInt128}</b>, x::<b>UInt32</b>) at <a href=\"https://github.com/JuliaLang/julia/tree/2e358ce975029ec97aba5994c17d4a2169c3b085/base/int.jl#L187\" target=\"_blank\">int.jl:187</a><li> convert(::<b>Type{UInt128}</b>, x::<b>Int64</b>) at <a href=\"https://github.com/JuliaLang/julia/tree/2e358ce975029ec97aba5994c17d4a2169c3b085/base/int.jl#L181\" target=\"_blank\">int.jl:181</a><li> convert(::<b>Type{UInt128}</b>, x::<b>UInt64</b>) at <a href=\"https://github.com/JuliaLang/julia/tree/2e358ce975029ec97aba5994c17d4a2169c3b085/base/int.jl#L187\" target=\"_blank\">int.jl:187</a><li> convert(::<b>Type{UInt128}</b>, x::<b>Int128</b>) at <a href=\"https://github.com/JuliaLang/julia/tree/2e358ce975029ec97aba5994c17d4a2169c3b085/base/int.jl#L193\" target=\"_blank\">int.jl:193</a><li> convert(::<b>Type{UInt128}</b>, x::<b>Bool</b>) at <a href=\"https://github.com/JuliaLang/julia/tree/2e358ce975029ec97aba5994c17d4a2169c3b085/base/int.jl#L187\" target=\"_blank\">int.jl:187</a><li> convert(::<b>Type{Int8}</b>, x::<b>Float32</b>) at <a href=\"https://github.com/JuliaLang/julia/tree/2e358ce975029ec97aba5994c17d4a2169c3b085/base/int.jl#L208\" target=\"_blank\">int.jl:208</a><li> convert(::<b>Type{Int8}</b>, x::<b>Float64</b>) at <a href=\"https://github.com/JuliaLang/julia/tree/2e358ce975029ec97aba5994c17d4a2169c3b085/base/int.jl#L209\" target=\"_blank\">int.jl:209</a><li> convert(::<b>Type{Int16}</b>, x::<b>Float32</b>) at <a href=\"https://github.com/JuliaLang/julia/tree/2e358ce975029ec97aba5994c17d4a2169c3b085/base/int.jl#L208\" target=\"_blank\">int.jl:208</a><li> convert(::<b>Type{Int16}</b>, x::<b>Float64</b>) at <a href=\"https://github.com/JuliaLang/julia/tree/2e358ce975029ec97aba5994c17d4a2169c3b085/base/int.jl#L209\" target=\"_blank\">int.jl:209</a><li> convert(::<b>Type{Int32}</b>, x::<b>Float32</b>) at <a href=\"https://github.com/JuliaLang/julia/tree/2e358ce975029ec97aba5994c17d4a2169c3b085/base/int.jl#L208\" target=\"_blank\">int.jl:208</a><li> convert(::<b>Type{Int32}</b>, x::<b>Float64</b>) at <a href=\"https://github.com/JuliaLang/julia/tree/2e358ce975029ec97aba5994c17d4a2169c3b085/base/int.jl#L209\" target=\"_blank\">int.jl:209</a><li> convert(::<b>Type{Int64}</b>, x::<b>Float32</b>) at <a href=\"https://github.com/JuliaLang/julia/tree/2e358ce975029ec97aba5994c17d4a2169c3b085/base/int.jl#L208\" target=\"_blank\">int.jl:208</a><li> convert(::<b>Type{Int64}</b>, x::<b>Float64</b>) at <a href=\"https://github.com/JuliaLang/julia/tree/2e358ce975029ec97aba5994c17d4a2169c3b085/base/int.jl#L209\" target=\"_blank\">int.jl:209</a><li> convert(::<b>Type{UInt8}</b>, x::<b>Float32</b>) at <a href=\"https://github.com/JuliaLang/julia/tree/2e358ce975029ec97aba5994c17d4a2169c3b085/base/int.jl#L215\" target=\"_blank\">int.jl:215</a><li> convert(::<b>Type{UInt8}</b>, x::<b>Float64</b>) at <a href=\"https://github.com/JuliaLang/julia/tree/2e358ce975029ec97aba5994c17d4a2169c3b085/base/int.jl#L216\" target=\"_blank\">int.jl:216</a><li> convert(::<b>Type{UInt16}</b>, x::<b>Float32</b>) at <a href=\"https://github.com/JuliaLang/julia/tree/2e358ce975029ec97aba5994c17d4a2169c3b085/base/int.jl#L215\" target=\"_blank\">int.jl:215</a><li> convert(::<b>Type{UInt16}</b>, x::<b>Float64</b>) at <a href=\"https://github.com/JuliaLang/julia/tree/2e358ce975029ec97aba5994c17d4a2169c3b085/base/int.jl#L216\" target=\"_blank\">int.jl:216</a><li> convert(::<b>Type{UInt32}</b>, x::<b>Float32</b>) at <a href=\"https://github.com/JuliaLang/julia/tree/2e358ce975029ec97aba5994c17d4a2169c3b085/base/int.jl#L215\" target=\"_blank\">int.jl:215</a><li> convert(::<b>Type{UInt32}</b>, x::<b>Float64</b>) at <a href=\"https://github.com/JuliaLang/julia/tree/2e358ce975029ec97aba5994c17d4a2169c3b085/base/int.jl#L216\" target=\"_blank\">int.jl:216</a><li> convert(::<b>Type{UInt64}</b>, x::<b>Float32</b>) at <a href=\"https://github.com/JuliaLang/julia/tree/2e358ce975029ec97aba5994c17d4a2169c3b085/base/int.jl#L215\" target=\"_blank\">int.jl:215</a><li> convert(::<b>Type{UInt64}</b>, x::<b>Float64</b>) at <a href=\"https://github.com/JuliaLang/julia/tree/2e358ce975029ec97aba5994c17d4a2169c3b085/base/int.jl#L216\" target=\"_blank\">int.jl:216</a><li> convert(::<b>Type{Int128}</b>, x::<b>Float32</b>) at <a href=\"https://github.com/JuliaLang/julia/tree/2e358ce975029ec97aba5994c17d4a2169c3b085/base/int.jl#L223\" target=\"_blank\">int.jl:223</a><li> convert(::<b>Type{Int128}</b>, x::<b>Float64</b>) at <a href=\"https://github.com/JuliaLang/julia/tree/2e358ce975029ec97aba5994c17d4a2169c3b085/base/int.jl#L223\" target=\"_blank\">int.jl:223</a><li> convert(::<b>Type{UInt128}</b>, x::<b>Float32</b>) at <a href=\"https://github.com/JuliaLang/julia/tree/2e358ce975029ec97aba5994c17d4a2169c3b085/base/int.jl#L223\" target=\"_blank\">int.jl:223</a><li> convert(::<b>Type{UInt128}</b>, x::<b>Float64</b>) at <a href=\"https://github.com/JuliaLang/julia/tree/2e358ce975029ec97aba5994c17d4a2169c3b085/base/int.jl#L223\" target=\"_blank\">int.jl:223</a><li> convert(::<b>Type{Signed}</b>, x::<b>UInt8</b>) at <a href=\"https://github.com/JuliaLang/julia/tree/2e358ce975029ec97aba5994c17d4a2169c3b085/base/int.jl#L229\" target=\"_blank\">int.jl:229</a><li> convert(::<b>Type{Signed}</b>, x::<b>UInt16</b>) at <a href=\"https://github.com/JuliaLang/julia/tree/2e358ce975029ec97aba5994c17d4a2169c3b085/base/int.jl#L230\" target=\"_blank\">int.jl:230</a><li> convert(::<b>Type{Signed}</b>, x::<b>UInt32</b>) at <a href=\"https://github.com/JuliaLang/julia/tree/2e358ce975029ec97aba5994c17d4a2169c3b085/base/int.jl#L231\" target=\"_blank\">int.jl:231</a><li> convert(::<b>Type{Signed}</b>, x::<b>UInt64</b>) at <a href=\"https://github.com/JuliaLang/julia/tree/2e358ce975029ec97aba5994c17d4a2169c3b085/base/int.jl#L232\" target=\"_blank\">int.jl:232</a><li> convert(::<b>Type{Signed}</b>, x::<b>UInt128</b>) at <a href=\"https://github.com/JuliaLang/julia/tree/2e358ce975029ec97aba5994c17d4a2169c3b085/base/int.jl#L233\" target=\"_blank\">int.jl:233</a><li> convert(::<b>Type{Signed}</b>, x::<b>Float32</b>) at <a href=\"https://github.com/JuliaLang/julia/tree/2e358ce975029ec97aba5994c17d4a2169c3b085/base/int.jl#L234\" target=\"_blank\">int.jl:234</a><li> convert(::<b>Type{Signed}</b>, x::<b>Float64</b>) at <a href=\"https://github.com/JuliaLang/julia/tree/2e358ce975029ec97aba5994c17d4a2169c3b085/base/int.jl#L235\" target=\"_blank\">int.jl:235</a><li> convert(::<b>Type{Signed}</b>, x::<b>Bool</b>) at <a href=\"https://github.com/JuliaLang/julia/tree/2e358ce975029ec97aba5994c17d4a2169c3b085/base/int.jl#L236\" target=\"_blank\">int.jl:236</a><li> convert(::<b>Type{Unsigned}</b>, x::<b>Int8</b>) at <a href=\"https://github.com/JuliaLang/julia/tree/2e358ce975029ec97aba5994c17d4a2169c3b085/base/int.jl#L238\" target=\"_blank\">int.jl:238</a><li> convert(::<b>Type{Unsigned}</b>, x::<b>Int16</b>) at <a href=\"https://github.com/JuliaLang/julia/tree/2e358ce975029ec97aba5994c17d4a2169c3b085/base/int.jl#L239\" target=\"_blank\">int.jl:239</a><li> convert(::<b>Type{Unsigned}</b>, x::<b>Int32</b>) at <a href=\"https://github.com/JuliaLang/julia/tree/2e358ce975029ec97aba5994c17d4a2169c3b085/base/int.jl#L240\" target=\"_blank\">int.jl:240</a><li> convert(::<b>Type{Unsigned}</b>, x::<b>Int64</b>) at <a href=\"https://github.com/JuliaLang/julia/tree/2e358ce975029ec97aba5994c17d4a2169c3b085/base/int.jl#L241\" target=\"_blank\">int.jl:241</a><li> convert(::<b>Type{Unsigned}</b>, x::<b>Int128</b>) at <a href=\"https://github.com/JuliaLang/julia/tree/2e358ce975029ec97aba5994c17d4a2169c3b085/base/int.jl#L242\" target=\"_blank\">int.jl:242</a><li> convert(::<b>Type{Unsigned}</b>, x::<b>Float32</b>) at <a href=\"https://github.com/JuliaLang/julia/tree/2e358ce975029ec97aba5994c17d4a2169c3b085/base/int.jl#L243\" target=\"_blank\">int.jl:243</a><li> convert(::<b>Type{Unsigned}</b>, x::<b>Float64</b>) at <a href=\"https://github.com/JuliaLang/julia/tree/2e358ce975029ec97aba5994c17d4a2169c3b085/base/int.jl#L244\" target=\"_blank\">int.jl:244</a><li> convert(::<b>Type{Unsigned}</b>, x::<b>Bool</b>) at <a href=\"https://github.com/JuliaLang/julia/tree/2e358ce975029ec97aba5994c17d4a2169c3b085/base/int.jl#L245\" target=\"_blank\">int.jl:245</a><li> convert(::<b>Type{Integer}</b>, x::<b>Integer</b>) at <a href=\"https://github.com/JuliaLang/julia/tree/2e358ce975029ec97aba5994c17d4a2169c3b085/base/int.jl#L247\" target=\"_blank\">int.jl:247</a><li> convert<i>{T<:Integer}</i>(::<b>Type{T<:Integer}</b>, x::<b>Rational{T<:Integer}</b>) at <a href=\"https://github.com/JuliaLang/julia/tree/2e358ce975029ec97aba5994c17d4a2169c3b085/base/rational.jl#L76\" target=\"_blank\">rational.jl:76</a><li> convert(::<b>Type{BigInt}</b>, x::<b>Float16</b>) at <a href=\"https://github.com/JuliaLang/julia/tree/2e358ce975029ec97aba5994c17d4a2169c3b085/base/gmp.jl#L140\" target=\"_blank\">gmp.jl:140</a><li> convert<i>{T<:Integer}</i>(::<b>Type{T<:Integer}</b>, x::<b>Float16</b>) at <a href=\"https://github.com/JuliaLang/julia/tree/2e358ce975029ec97aba5994c17d4a2169c3b085/base/float16.jl#L105\" target=\"_blank\">float16.jl:105</a><li> convert<i>{T<:Integer}</i>(::<b>Type{T<:Integer}</b>, x::<b>BigFloat</b>) at <a href=\"https://github.com/JuliaLang/julia/tree/2e358ce975029ec97aba5994c17d4a2169c3b085/base/mpfr.jl#L171\" target=\"_blank\">mpfr.jl:171</a><li> convert(::<b>Type{Integer}</b>, x::<b>Real</b>) at <a href=\"https://github.com/JuliaLang/julia/tree/2e358ce975029ec97aba5994c17d4a2169c3b085/base/int.jl#L248\" target=\"_blank\">int.jl:248</a><li> convert<i>{T<:Union{Int64,UInt64}}</i>(::<b>Type{T<:Union{Int64,UInt64}}</b>, x::<b>Ptr{T}</b>) at <a href=\"https://github.com/JuliaLang/julia/tree/2e358ce975029ec97aba5994c17d4a2169c3b085/base/pointer.jl#L8\" target=\"_blank\">pointer.jl:8</a><li> convert<i>{T<:Integer}</i>(::<b>Type{T<:Integer}</b>, x::<b>Ptr{T}</b>) at <a href=\"https://github.com/JuliaLang/julia/tree/2e358ce975029ec97aba5994c17d4a2169c3b085/base/pointer.jl#L9\" target=\"_blank\">pointer.jl:9</a><li> convert<i>{T}</i>(::<b>Type{Ptr{T}}</b>, x::<b>UInt64</b>) at <a href=\"https://github.com/JuliaLang/julia/tree/2e358ce975029ec97aba5994c17d4a2169c3b085/base/pointer.jl#L12\" target=\"_blank\">pointer.jl:12</a><li> convert<i>{T}</i>(::<b>Type{Ptr{T}}</b>, x::<b>Int64</b>) at <a href=\"https://github.com/JuliaLang/julia/tree/2e358ce975029ec97aba5994c17d4a2169c3b085/base/pointer.jl#L13\" target=\"_blank\">pointer.jl:13</a><li> convert<i>{T}</i>(::<b>Type{Ptr{T}}</b>, p::<b>Ptr{T}</b>) at <a href=\"https://github.com/JuliaLang/julia/tree/2e358ce975029ec97aba5994c17d4a2169c3b085/base/pointer.jl#L16\" target=\"_blank\">pointer.jl:16</a><li> convert<i>{T}</i>(::<b>Type{Ptr{T}}</b>, p::<b>Ptr{T}</b>) at <a href=\"https://github.com/JuliaLang/julia/tree/2e358ce975029ec97aba5994c17d4a2169c3b085/base/pointer.jl#L17\" target=\"_blank\">pointer.jl:17</a><li> convert<i>{T}</i>(::<b>Type{Ref{T}}</b>, x::<b>Ref{T}</b>) at <a href=\"https://github.com/JuliaLang/julia/tree/2e358ce975029ec97aba5994c17d4a2169c3b085/base/refpointer.jl#L6\" target=\"_blank\">refpointer.jl:6</a><li> convert<i>{T}</i>(::<b>Type{Ref{T}}</b>, x::<b>AbstractArray{T,N}</b>) at <a href=\"https://github.com/JuliaLang/julia/tree/2e358ce975029ec97aba5994c17d4a2169c3b085/base/refpointer.jl#L49\" target=\"_blank\">refpointer.jl:49</a><li> convert<i>{T}</i>(::<b>Type{Ref{T}}</b>, x) at <a href=\"https://github.com/JuliaLang/julia/tree/2e358ce975029ec97aba5994c17d4a2169c3b085/base/refpointer.jl#L26\" target=\"_blank\">refpointer.jl:26</a><li> convert<i>{T,N}</i>(::<b>Type{AbstractArray{T,N}}</b>, B::<b>BitArray{N}</b>) at <a href=\"https://github.com/JuliaLang/julia/tree/2e358ce975029ec97aba5994c17d4a2169c3b085/base/bitarray.jl#L356\" target=\"_blank\">bitarray.jl:356</a><li> convert<i>{T}</i>(::<b>Type{AbstractArray{T,2}}</b>, S::<b>SymTridiagonal{T}</b>) at <a href=\"https://github.com/JuliaLang/julia/tree/2e358ce975029ec97aba5994c17d4a2169c3b085/base/linalg/tridiag.jl#L34\" target=\"_blank\">linalg/tridiag.jl:34</a><li> convert<i>{T}</i>(::<b>Type{AbstractArray{T,2}}</b>, M::<b>Tridiagonal{T}</b>) at <a href=\"https://github.com/JuliaLang/julia/tree/2e358ce975029ec97aba5994c17d4a2169c3b085/base/linalg/tridiag.jl#L418\" target=\"_blank\">linalg/tridiag.jl:418</a><li> convert<i>{Tnew,Told,S}</i>(::<b>Type{AbstractArray{Tnew,2}}</b>, A::<b>LowerTriangular{Told,S}</b>) at <a href=\"https://github.com/JuliaLang/julia/tree/2e358ce975029ec97aba5994c17d4a2169c3b085/base/linalg/triangular.jl#L22\" target=\"_blank\">linalg/triangular.jl:22</a><li> convert<i>{Tnew,Told,S}</i>(::<b>Type{AbstractArray{Tnew,2}}</b>, A::<b>Base.LinAlg.UnitLowerTriangular{Told,S}</b>) at <a href=\"https://github.com/JuliaLang/julia/tree/2e358ce975029ec97aba5994c17d4a2169c3b085/base/linalg/triangular.jl#L22\" target=\"_blank\">linalg/triangular.jl:22</a><li> convert<i>{Tnew,Told,S}</i>(::<b>Type{AbstractArray{Tnew,2}}</b>, A::<b>UpperTriangular{Told,S}</b>) at <a href=\"https://github.com/JuliaLang/julia/tree/2e358ce975029ec97aba5994c17d4a2169c3b085/base/linalg/triangular.jl#L22\" target=\"_blank\">linalg/triangular.jl:22</a><li> convert<i>{Tnew,Told,S}</i>(::<b>Type{AbstractArray{Tnew,2}}</b>, A::<b>Base.LinAlg.UnitUpperTriangular{Told,S}</b>) at <a href=\"https://github.com/JuliaLang/julia/tree/2e358ce975029ec97aba5994c17d4a2169c3b085/base/linalg/triangular.jl#L22\" target=\"_blank\">linalg/triangular.jl:22</a><li> convert<i>{T}</i>(::<b>Type{AbstractArray{T,2}}</b>, Q::<b>Base.LinAlg.QRPackedQ{T,S<:AbstractArray{T,2}}</b>) at <a href=\"https://github.com/JuliaLang/julia/tree/2e358ce975029ec97aba5994c17d4a2169c3b085/base/linalg/qr.jl#L125\" target=\"_blank\">linalg/qr.jl:125</a><li> convert<i>{S}</i>(::<b>Type{AbstractArray{S,2}}</b>, Q::<b>Base.LinAlg.QRCompactWYQ{S,M<:AbstractArray{T,2}}</b>) at <a href=\"https://github.com/JuliaLang/julia/tree/2e358ce975029ec97aba5994c17d4a2169c3b085/base/linalg/qr.jl#L127\" target=\"_blank\">linalg/qr.jl:127</a><li> convert<i>{T}</i>(::<b>Type{AbstractArray{T,2}}</b>, A::<b>Symmetric{T,S<:AbstractArray{T,2}}</b>) at <a href=\"https://github.com/JuliaLang/julia/tree/2e358ce975029ec97aba5994c17d4a2169c3b085/base/linalg/symmetric.jl#L34\" target=\"_blank\">linalg/symmetric.jl:34</a><li> convert<i>{T}</i>(::<b>Type{AbstractArray{T,2}}</b>, A::<b>Hermitian{T,S<:AbstractArray{T,2}}</b>) at <a href=\"https://github.com/JuliaLang/julia/tree/2e358ce975029ec97aba5994c17d4a2169c3b085/base/linalg/symmetric.jl#L37\" target=\"_blank\">linalg/symmetric.jl:37</a><li> convert<i>{T}</i>(::<b>Type{AbstractArray{T,2}}</b>, D::<b>Diagonal{T}</b>) at <a href=\"https://github.com/JuliaLang/julia/tree/2e358ce975029ec97aba5994c17d4a2169c3b085/base/linalg/diagonal.jl#L12\" target=\"_blank\">linalg/diagonal.jl:12</a><li> convert<i>{T}</i>(::<b>Type{AbstractArray{T,2}}</b>, A::<b>SparseMatrixCSC{Tv,Ti<:Integer}</b>) at <a href=\"https://github.com/JuliaLang/julia/tree/2e358ce975029ec97aba5994c17d4a2169c3b085/base/sparse/sparsematrix.jl#L221\" target=\"_blank\">sparse/sparsematrix.jl:221</a><li> convert<i>{T,N}</i>(::<b>Type{AbstractArray{T,N}}</b>, A::<b>AbstractArray{T,N}</b>) at <a href=\"https://github.com/JuliaLang/julia/tree/2e358ce975029ec97aba5994c17d4a2169c3b085/base/abstractarray.jl#L437\" target=\"_blank\">abstractarray.jl:437</a><li> convert<i>{T,S,N}</i>(::<b>Type{AbstractArray{T,N}}</b>, A::<b>AbstractArray{S,N}</b>) at <a href=\"https://github.com/JuliaLang/julia/tree/2e358ce975029ec97aba5994c17d4a2169c3b085/base/abstractarray.jl#L438\" target=\"_blank\">abstractarray.jl:438</a><li> convert<i>{T,S,N}</i>(::<b>Type{AbstractArray{T,N}}</b>, A::<b>AbstractArray{S,N}</b>) at <a href=\"https://github.com/JuliaLang/julia/tree/2e358ce975029ec97aba5994c17d4a2169c3b085/base/abstractarray.jl#L439\" target=\"_blank\">abstractarray.jl:439</a><li> convert<i>{T,S,N}</i>(::<b>Type{Array{T,N}}</b>, V::<b>SubArray{S,N,P<:AbstractArray{T,N},I<:Tuple{Vararg{Union{AbstractArray{T,1},Colon,Int64}}},LD}</b>) at <a href=\"https://github.com/JuliaLang/julia/tree/2e358ce975029ec97aba5994c17d4a2169c3b085/base/subarray.jl#L512\" target=\"_blank\">subarray.jl:512</a><li> convert<i>{T,n}</i>(::<b>Type{Array{T,n}}</b>, x::<b>Array{T,n}</b>) at <a href=\"https://github.com/JuliaLang/julia/tree/2e358ce975029ec97aba5994c17d4a2169c3b085/base/array.jl#L238\" target=\"_blank\">array.jl:238</a><li> convert<i>{T,n}</i>(::<b>Type{Array{T,N}}</b>, x::<b>Array{T,n}</b>) at <a href=\"https://github.com/JuliaLang/julia/tree/2e358ce975029ec97aba5994c17d4a2169c3b085/base/array.jl#L237\" target=\"_blank\">array.jl:237</a><li> convert<i>{T,N}</i>(::<b>Type{Array{T,N}}</b>, B::<b>BitArray{N}</b>) at <a href=\"https://github.com/JuliaLang/julia/tree/2e358ce975029ec97aba5994c17d4a2169c3b085/base/bitarray.jl#L321\" target=\"_blank\">bitarray.jl:321</a><li> convert<i>{T,N}</i>(::<b>Type{Array{T,N}}</b>, B::<b>BitArray{N}</b>) at <a href=\"https://github.com/JuliaLang/julia/tree/2e358ce975029ec97aba5994c17d4a2169c3b085/base/bitarray.jl#L319\" target=\"_blank\">bitarray.jl:319</a><li> convert(::<b>Type{Array{T,N}}</b>, S::<b>SharedArray{T,N}</b>) at <a href=\"https://github.com/JuliaLang/julia/tree/2e358ce975029ec97aba5994c17d4a2169c3b085/base/sharedarray.jl#L354\" target=\"_blank\">sharedarray.jl:354</a><li> convert<i>{T}</i>(::<b>Type{Array{T,2}}</b>, M::<b>SymTridiagonal{T}</b>) at <a href=\"https://github.com/JuliaLang/julia/tree/2e358ce975029ec97aba5994c17d4a2169c3b085/base/linalg/tridiag.jl#L36\" target=\"_blank\">linalg/tridiag.jl:36</a><li> convert<i>{T}</i>(::<b>Type{Array{T,2}}</b>, M::<b>SymTridiagonal{T}</b>) at <a href=\"https://github.com/JuliaLang/julia/tree/2e358ce975029ec97aba5994c17d4a2169c3b085/base/linalg/tridiag.jl#L48\" target=\"_blank\">linalg/tridiag.jl:48</a><li> convert<i>{T}</i>(::<b>Type{Array{T,2}}</b>, M::<b>Tridiagonal{T}</b>) at <a href=\"https://github.com/JuliaLang/julia/tree/2e358ce975029ec97aba5994c17d4a2169c3b085/base/linalg/tridiag.jl#L296\" target=\"_blank\">linalg/tridiag.jl:296</a><li> convert<i>{T}</i>(::<b>Type{Array{T,2}}</b>, M::<b>Tridiagonal{T}</b>) at <a href=\"https://github.com/JuliaLang/julia/tree/2e358ce975029ec97aba5994c17d4a2169c3b085/base/linalg/tridiag.jl#L306\" target=\"_blank\">linalg/tridiag.jl:306</a><li> convert<i>{T,S}</i>(::<b>Type{Array{T,2}}</b>, A::<b>LowerTriangular{T,S}</b>) at <a href=\"https://github.com/JuliaLang/julia/tree/2e358ce975029ec97aba5994c17d4a2169c3b085/base/linalg/triangular.jl#L23\" target=\"_blank\">linalg/triangular.jl:23</a><li> convert<i>{T,S}</i>(::<b>Type{Array{T,2}}</b>, A::<b>Base.LinAlg.UnitLowerTriangular{T,S}</b>) at <a href=\"https://github.com/JuliaLang/julia/tree/2e358ce975029ec97aba5994c17d4a2169c3b085/base/linalg/triangular.jl#L23\" target=\"_blank\">linalg/triangular.jl:23</a><li> convert<i>{T,S}</i>(::<b>Type{Array{T,2}}</b>, A::<b>UpperTriangular{T,S}</b>) at <a href=\"https://github.com/JuliaLang/julia/tree/2e358ce975029ec97aba5994c17d4a2169c3b085/base/linalg/triangular.jl#L23\" target=\"_blank\">linalg/triangular.jl:23</a><li> convert<i>{T,S}</i>(::<b>Type{Array{T,2}}</b>, A::<b>Base.LinAlg.UnitUpperTriangular{T,S}</b>) at <a href=\"https://github.com/JuliaLang/julia/tree/2e358ce975029ec97aba5994c17d4a2169c3b085/base/linalg/triangular.jl#L23\" target=\"_blank\">linalg/triangular.jl:23</a><li> convert<i>{Tret,T,S}</i>(::<b>Type{Array{Tret,2}}</b>, A::<b>LowerTriangular{T,S}</b>) at <a href=\"https://github.com/JuliaLang/julia/tree/2e358ce975029ec97aba5994c17d4a2169c3b085/base/linalg/triangular.jl#L58\" target=\"_blank\">linalg/triangular.jl:58</a><li> convert<i>{Tret,T,S}</i>(::<b>Type{Array{Tret,2}}</b>, A::<b>Base.LinAlg.UnitLowerTriangular{T,S}</b>) at <a href=\"https://github.com/JuliaLang/julia/tree/2e358ce975029ec97aba5994c17d4a2169c3b085/base/linalg/triangular.jl#L64\" target=\"_blank\">linalg/triangular.jl:64</a><li> convert<i>{Tret,T,S}</i>(::<b>Type{Array{Tret,2}}</b>, A::<b>UpperTriangular{T,S}</b>) at <a href=\"https://github.com/JuliaLang/julia/tree/2e358ce975029ec97aba5994c17d4a2169c3b085/base/linalg/triangular.jl#L73\" target=\"_blank\">linalg/triangular.jl:73</a><li> convert<i>{Tret,T,S}</i>(::<b>Type{Array{Tret,2}}</b>, A::<b>Base.LinAlg.UnitUpperTriangular{T,S}</b>) at <a href=\"https://github.com/JuliaLang/julia/tree/2e358ce975029ec97aba5994c17d4a2169c3b085/base/linalg/triangular.jl#L79\" target=\"_blank\">linalg/triangular.jl:79</a><li> convert<i>{T}</i>(::<b>Type{Array{T,2}}</b>, A::<b>Bidiagonal{T}</b>) at <a href=\"https://github.com/JuliaLang/julia/tree/2e358ce975029ec97aba5994c17d4a2169c3b085/base/linalg/bidiag.jl#L46\" target=\"_blank\">linalg/bidiag.jl:46</a><li> convert<i>{T}</i>(::<b>Type{Array{T,2}}</b>, A::<b>Bidiagonal{T}</b>) at <a href=\"https://github.com/JuliaLang/julia/tree/2e358ce975029ec97aba5994c17d4a2169c3b085/base/linalg/bidiag.jl#L59\" target=\"_blank\">linalg/bidiag.jl:59</a><li> convert(::<b>Type{Array{T,2}}</b>, D::<b>Diagonal{T}</b>) at <a href=\"https://github.com/JuliaLang/julia/tree/2e358ce975029ec97aba5994c17d4a2169c3b085/base/linalg/special.jl#L11\" target=\"_blank\">linalg/special.jl:11</a><li> convert(::<b>Type{Array{T,2}}</b>, S::<b>SparseMatrixCSC{Tv,Ti<:Integer}</b>) at <a href=\"https://github.com/JuliaLang/julia/tree/2e358ce975029ec97aba5994c17d4a2169c3b085/base/sparse/sparsematrix.jl#L222\" target=\"_blank\">sparse/sparsematrix.jl:222</a><li> convert<i>{T}</i>(::<b>Type{Array{T,2}}</b>, D::<b>Base.SparseMatrix.CHOLMOD.Dense{T}</b>) at <a href=\"https://github.com/JuliaLang/julia/tree/2e358ce975029ec97aba5994c17d4a2169c3b085/base/sparse/cholmod.jl#L947\" target=\"_blank\">sparse/cholmod.jl:947</a><li> convert<i>{T}</i>(::<b>Type{Array{T,2}}</b>, D::<b>Base.SparseMatrix.CHOLMOD.Dense{T}</b>) at <a href=\"https://github.com/JuliaLang/julia/tree/2e358ce975029ec97aba5994c17d4a2169c3b085/base/sparse/cholmod.jl#L960\" target=\"_blank\">sparse/cholmod.jl:960</a><li> convert<i>{T}</i>(::<b>Type{Array{T,1}}</b>, D::<b>Base.SparseMatrix.CHOLMOD.Dense{T}</b>) at <a href=\"https://github.com/JuliaLang/julia/tree/2e358ce975029ec97aba5994c17d4a2169c3b085/base/sparse/cholmod.jl#L962\" target=\"_blank\">sparse/cholmod.jl:962</a><li> convert<i>{T}</i>(::<b>Type{Array{T,1}}</b>, D::<b>Base.SparseMatrix.CHOLMOD.Dense{T}</b>) at <a href=\"https://github.com/JuliaLang/julia/tree/2e358ce975029ec97aba5994c17d4a2169c3b085/base/sparse/cholmod.jl#L967\" target=\"_blank\">sparse/cholmod.jl:967</a><li> convert<i>{T,n,S}</i>(::<b>Type{Array{T,n}}</b>, x::<b>AbstractArray{S,n}</b>) at <a href=\"https://github.com/JuliaLang/julia/tree/2e358ce975029ec97aba5994c17d4a2169c3b085/base/array.jl#L241\" target=\"_blank\">array.jl:241</a><li> convert<i>{T,N}</i>(::<b>Type{Array{T,N}}</b>, A::<b>AbstractArray{T,N}</b>) at <a href=\"https://github.com/JuliaLang/julia/tree/2e358ce975029ec97aba5994c17d4a2169c3b085/base/abstractarray.jl#L441\" target=\"_blank\">abstractarray.jl:441</a><li> convert<i>{T,n,S}</i>(::<b>Type{Array{T,N}}</b>, x::<b>AbstractArray{S,n}</b>) at <a href=\"https://github.com/JuliaLang/julia/tree/2e358ce975029ec97aba5994c17d4a2169c3b085/base/array.jl#L240\" target=\"_blank\">array.jl:240</a><li> convert(::<b>Type{Float16}</b>, n::<b>BigInt</b>) at <a href=\"https://github.com/JuliaLang/julia/tree/2e358ce975029ec97aba5994c17d4a2169c3b085/base/gmp.jl#L245\" target=\"_blank\">gmp.jl:245</a><li> convert(::<b>Type{Float16}</b>, x::<b>Integer</b>) at <a href=\"https://github.com/JuliaLang/julia/tree/2e358ce975029ec97aba5994c17d4a2169c3b085/base/float.jl#L15\" target=\"_blank\">float.jl:15</a><li> convert(::<b>Type{Float32}</b>, x::<b>Int8</b>) at <a href=\"https://github.com/JuliaLang/julia/tree/2e358ce975029ec97aba5994c17d4a2169c3b085/base/float.jl#L24\" target=\"_blank\">float.jl:24</a><li> convert(::<b>Type{Float32}</b>, x::<b>Int16</b>) at <a href=\"https://github.com/JuliaLang/julia/tree/2e358ce975029ec97aba5994c17d4a2169c3b085/base/float.jl#L24\" target=\"_blank\">float.jl:24</a><li> convert(::<b>Type{Float32}</b>, x::<b>Int32</b>) at <a href=\"https://github.com/JuliaLang/julia/tree/2e358ce975029ec97aba5994c17d4a2169c3b085/base/float.jl#L24\" target=\"_blank\">float.jl:24</a><li> convert(::<b>Type{Float32}</b>, x::<b>Int64</b>) at <a href=\"https://github.com/JuliaLang/julia/tree/2e358ce975029ec97aba5994c17d4a2169c3b085/base/float.jl#L24\" target=\"_blank\">float.jl:24</a><li> convert(::<b>Type{Float32}</b>, x::<b>Bool</b>) at <a href=\"https://github.com/JuliaLang/julia/tree/2e358ce975029ec97aba5994c17d4a2169c3b085/base/float.jl#L30\" target=\"_blank\">float.jl:30</a><li> convert(::<b>Type{Float32}</b>, x::<b>UInt8</b>) at <a href=\"https://github.com/JuliaLang/julia/tree/2e358ce975029ec97aba5994c17d4a2169c3b085/base/float.jl#L30\" target=\"_blank\">float.jl:30</a><li> convert(::<b>Type{Float32}</b>, x::<b>UInt16</b>) at <a href=\"https://github.com/JuliaLang/julia/tree/2e358ce975029ec97aba5994c17d4a2169c3b085/base/float.jl#L30\" target=\"_blank\">float.jl:30</a><li> convert(::<b>Type{Float32}</b>, x::<b>UInt32</b>) at <a href=\"https://github.com/JuliaLang/julia/tree/2e358ce975029ec97aba5994c17d4a2169c3b085/base/float.jl#L30\" target=\"_blank\">float.jl:30</a><li> convert(::<b>Type{Float32}</b>, x::<b>UInt64</b>) at <a href=\"https://github.com/JuliaLang/julia/tree/2e358ce975029ec97aba5994c17d4a2169c3b085/base/float.jl#L30\" target=\"_blank\">float.jl:30</a><li> convert(::<b>Type{Float64}</b>, x::<b>Int8</b>) at <a href=\"https://github.com/JuliaLang/julia/tree/2e358ce975029ec97aba5994c17d4a2169c3b085/base/float.jl#L24\" target=\"_blank\">float.jl:24</a><li> convert(::<b>Type{Float64}</b>, x::<b>Int16</b>) at <a href=\"https://github.com/JuliaLang/julia/tree/2e358ce975029ec97aba5994c17d4a2169c3b085/base/float.jl#L24\" target=\"_blank\">float.jl:24</a><li> convert(::<b>Type{Float64}</b>, x::<b>Int32</b>) at <a href=\"https://github.com/JuliaLang/julia/tree/2e358ce975029ec97aba5994c17d4a2169c3b085/base/float.jl#L24\" target=\"_blank\">float.jl:24</a><li> convert(::<b>Type{Float64}</b>, x::<b>Int64</b>) at <a href=\"https://github.com/JuliaLang/julia/tree/2e358ce975029ec97aba5994c17d4a2169c3b085/base/float.jl#L24\" target=\"_blank\">float.jl:24</a><li> convert(::<b>Type{Float64}</b>, x::<b>Bool</b>) at <a href=\"https://github.com/JuliaLang/julia/tree/2e358ce975029ec97aba5994c17d4a2169c3b085/base/float.jl#L30\" target=\"_blank\">float.jl:30</a><li> convert(::<b>Type{Float64}</b>, x::<b>UInt8</b>) at <a href=\"https://github.com/JuliaLang/julia/tree/2e358ce975029ec97aba5994c17d4a2169c3b085/base/float.jl#L30\" target=\"_blank\">float.jl:30</a><li> convert(::<b>Type{Float64}</b>, x::<b>UInt16</b>) at <a href=\"https://github.com/JuliaLang/julia/tree/2e358ce975029ec97aba5994c17d4a2169c3b085/base/float.jl#L30\" target=\"_blank\">float.jl:30</a><li> convert(::<b>Type{Float64}</b>, x::<b>UInt32</b>) at <a href=\"https://github.com/JuliaLang/julia/tree/2e358ce975029ec97aba5994c17d4a2169c3b085/base/float.jl#L30\" target=\"_blank\">float.jl:30</a><li> convert(::<b>Type{Float64}</b>, x::<b>UInt64</b>) at <a href=\"https://github.com/JuliaLang/julia/tree/2e358ce975029ec97aba5994c17d4a2169c3b085/base/float.jl#L30\" target=\"_blank\">float.jl:30</a><li> convert(::<b>Type{Float64}</b>, x::<b>UInt128</b>) at <a href=\"https://github.com/JuliaLang/julia/tree/2e358ce975029ec97aba5994c17d4a2169c3b085/base/float.jl#L42\" target=\"_blank\">float.jl:42</a><li> convert(::<b>Type{Float64}</b>, x::<b>Int128</b>) at <a href=\"https://github.com/JuliaLang/julia/tree/2e358ce975029ec97aba5994c17d4a2169c3b085/base/float.jl#L56\" target=\"_blank\">float.jl:56</a><li> convert(::<b>Type{Float32}</b>, x::<b>UInt128</b>) at <a href=\"https://github.com/JuliaLang/julia/tree/2e358ce975029ec97aba5994c17d4a2169c3b085/base/float.jl#L72\" target=\"_blank\">float.jl:72</a><li> convert(::<b>Type{Float32}</b>, x::<b>Int128</b>) at <a href=\"https://github.com/JuliaLang/julia/tree/2e358ce975029ec97aba5994c17d4a2169c3b085/base/float.jl#L86\" target=\"_blank\">float.jl:86</a><li> convert(::<b>Type{Float16}</b>, x::<b>Float64</b>) at <a href=\"https://github.com/JuliaLang/julia/tree/2e358ce975029ec97aba5994c17d4a2169c3b085/base/float.jl#L102\" target=\"_blank\">float.jl:102</a><li> convert(::<b>Type{Float32}</b>, x::<b>Float64</b>) at <a href=\"https://github.com/JuliaLang/julia/tree/2e358ce975029ec97aba5994c17d4a2169c3b085/base/float.jl#L103\" target=\"_blank\">float.jl:103</a><li> convert(::<b>Type{Float64}</b>, x::<b>Float16</b>) at <a href=\"https://github.com/JuliaLang/julia/tree/2e358ce975029ec97aba5994c17d4a2169c3b085/base/float.jl#L106\" target=\"_blank\">float.jl:106</a><li> convert(::<b>Type{Float64}</b>, x::<b>Float32</b>) at <a href=\"https://github.com/JuliaLang/julia/tree/2e358ce975029ec97aba5994c17d4a2169c3b085/base/float.jl#L107\" target=\"_blank\">float.jl:107</a><li> convert(::<b>Type{AbstractFloat}</b>, x::<b>Bool</b>) at <a href=\"https://github.com/JuliaLang/julia/tree/2e358ce975029ec97aba5994c17d4a2169c3b085/base/float.jl#L109\" target=\"_blank\">float.jl:109</a><li> convert(::<b>Type{AbstractFloat}</b>, x::<b>Int8</b>) at <a href=\"https://github.com/JuliaLang/julia/tree/2e358ce975029ec97aba5994c17d4a2169c3b085/base/float.jl#L110\" target=\"_blank\">float.jl:110</a><li> convert(::<b>Type{AbstractFloat}</b>, x::<b>Int16</b>) at <a href=\"https://github.com/JuliaLang/julia/tree/2e358ce975029ec97aba5994c17d4a2169c3b085/base/float.jl#L111\" target=\"_blank\">float.jl:111</a><li> convert(::<b>Type{AbstractFloat}</b>, x::<b>Int32</b>) at <a href=\"https://github.com/JuliaLang/julia/tree/2e358ce975029ec97aba5994c17d4a2169c3b085/base/float.jl#L112\" target=\"_blank\">float.jl:112</a><li> convert(::<b>Type{AbstractFloat}</b>, x::<b>Int64</b>) at <a href=\"https://github.com/JuliaLang/julia/tree/2e358ce975029ec97aba5994c17d4a2169c3b085/base/float.jl#L113\" target=\"_blank\">float.jl:113</a><li> convert(::<b>Type{AbstractFloat}</b>, x::<b>Int128</b>) at <a href=\"https://github.com/JuliaLang/julia/tree/2e358ce975029ec97aba5994c17d4a2169c3b085/base/float.jl#L114\" target=\"_blank\">float.jl:114</a><li> convert(::<b>Type{AbstractFloat}</b>, x::<b>UInt8</b>) at <a href=\"https://github.com/JuliaLang/julia/tree/2e358ce975029ec97aba5994c17d4a2169c3b085/base/float.jl#L115\" target=\"_blank\">float.jl:115</a><li> convert(::<b>Type{AbstractFloat}</b>, x::<b>UInt16</b>) at <a href=\"https://github.com/JuliaLang/julia/tree/2e358ce975029ec97aba5994c17d4a2169c3b085/base/float.jl#L116\" target=\"_blank\">float.jl:116</a><li> convert(::<b>Type{AbstractFloat}</b>, x::<b>UInt32</b>) at <a href=\"https://github.com/JuliaLang/julia/tree/2e358ce975029ec97aba5994c17d4a2169c3b085/base/float.jl#L117\" target=\"_blank\">float.jl:117</a><li> convert(::<b>Type{AbstractFloat}</b>, x::<b>UInt64</b>) at <a href=\"https://github.com/JuliaLang/julia/tree/2e358ce975029ec97aba5994c17d4a2169c3b085/base/float.jl#L118\" target=\"_blank\">float.jl:118</a><li> convert(::<b>Type{AbstractFloat}</b>, x::<b>UInt128</b>) at <a href=\"https://github.com/JuliaLang/julia/tree/2e358ce975029ec97aba5994c17d4a2169c3b085/base/float.jl#L119\" target=\"_blank\">float.jl:119</a><li> convert<i>{T<:Real}</i>(::<b>Type{Complex{T<:Real}}</b>, x::<b>Irrational{sym}</b>) at <a href=\"https://github.com/JuliaLang/julia/tree/2e358ce975029ec97aba5994c17d4a2169c3b085/base/irrationals.jl#L15\" target=\"_blank\">irrationals.jl:15</a><li> convert<i>{T<:Real}</i>(::<b>Type{Complex{T<:Real}}</b>, x::<b>Real</b>) at <a href=\"https://github.com/JuliaLang/julia/tree/2e358ce975029ec97aba5994c17d4a2169c3b085/base/complex.jl#L16\" target=\"_blank\">complex.jl:16</a><li> convert<i>{T<:Real}</i>(::<b>Type{Complex{T<:Real}}</b>, z::<b>Complex{T<:Real}</b>) at <a href=\"https://github.com/JuliaLang/julia/tree/2e358ce975029ec97aba5994c17d4a2169c3b085/base/complex.jl#L17\" target=\"_blank\">complex.jl:17</a><li> convert<i>{T<:Real}</i>(::<b>Type{T<:Real}</b>, z::<b>Complex{T<:Real}</b>) at <a href=\"https://github.com/JuliaLang/julia/tree/2e358ce975029ec97aba5994c17d4a2169c3b085/base/complex.jl#L18\" target=\"_blank\">complex.jl:18</a><li> convert(::<b>Type{Complex{T<:Real}}</b>, z::<b>Complex{T<:Real}</b>) at <a href=\"https://github.com/JuliaLang/julia/tree/2e358ce975029ec97aba5994c17d4a2169c3b085/base/complex.jl#L21\" target=\"_blank\">complex.jl:21</a><li> convert(::<b>Type{Complex{T<:Real}}</b>, x::<b>Real</b>) at <a href=\"https://github.com/JuliaLang/julia/tree/2e358ce975029ec97aba5994c17d4a2169c3b085/base/complex.jl#L22\" target=\"_blank\">complex.jl:22</a><li> convert<i>{T<:Integer}</i>(::<b>Type{Rational{T<:Integer}}</b>, x::<b>Rational{T<:Integer}</b>) at <a href=\"https://github.com/JuliaLang/julia/tree/2e358ce975029ec97aba5994c17d4a2169c3b085/base/rational.jl#L69\" target=\"_blank\">rational.jl:69</a><li> convert<i>{T<:Integer}</i>(::<b>Type{Rational{T<:Integer}}</b>, x::<b>Integer</b>) at <a href=\"https://github.com/JuliaLang/julia/tree/2e358ce975029ec97aba5994c17d4a2169c3b085/base/rational.jl#L70\" target=\"_blank\">rational.jl:70</a><li> convert(::<b>Type{Rational{T<:Integer}}</b>, x::<b>Rational{T<:Integer}</b>) at <a href=\"https://github.com/JuliaLang/julia/tree/2e358ce975029ec97aba5994c17d4a2169c3b085/base/rational.jl#L72\" target=\"_blank\">rational.jl:72</a><li> convert(::<b>Type{Rational{T<:Integer}}</b>, x::<b>Integer</b>) at <a href=\"https://github.com/JuliaLang/julia/tree/2e358ce975029ec97aba5994c17d4a2169c3b085/base/rational.jl#L73\" target=\"_blank\">rational.jl:73</a><li> convert(::<b>Type{AbstractFloat}</b>, x::<b>Rational{T<:Integer}</b>) at <a href=\"https://github.com/JuliaLang/julia/tree/2e358ce975029ec97aba5994c17d4a2169c3b085/base/rational.jl#L78\" target=\"_blank\">rational.jl:78</a><li> convert(::<b>Type{BigFloat}</b>, x::<b>Rational{T<:Integer}</b>) at <a href=\"https://github.com/JuliaLang/julia/tree/2e358ce975029ec97aba5994c17d4a2169c3b085/base/mpfr.jl#L94\" target=\"_blank\">mpfr.jl:94</a><li> convert<i>{T<:AbstractFloat,S}</i>(::<b>Type{T<:AbstractFloat}</b>, x::<b>Rational{S}</b>) at <a href=\"https://github.com/JuliaLang/julia/tree/2e358ce975029ec97aba5994c17d4a2169c3b085/base/rational.jl#L80\" target=\"_blank\">rational.jl:80</a><li> convert(::<b>Type{Rational{T<:Integer}}</b>, x::<b>Float64</b>) at <a href=\"https://github.com/JuliaLang/julia/tree/2e358ce975029ec97aba5994c17d4a2169c3b085/base/rational.jl#L89\" target=\"_blank\">rational.jl:89</a><li> convert(::<b>Type{Rational{T<:Integer}}</b>, x::<b>Float32</b>) at <a href=\"https://github.com/JuliaLang/julia/tree/2e358ce975029ec97aba5994c17d4a2169c3b085/base/rational.jl#L90\" target=\"_blank\">rational.jl:90</a><li> convert(::<b>Type{Rational{T<:Integer}}</b>, x::<b>BigFloat</b>) at <a href=\"https://github.com/JuliaLang/julia/tree/2e358ce975029ec97aba5994c17d4a2169c3b085/base/mpfr.jl#L102\" target=\"_blank\">mpfr.jl:102</a><li> convert(::<b>Type{Rational{BigInt}}</b>, x::<b>AbstractFloat</b>) at <a href=\"https://github.com/JuliaLang/julia/tree/2e358ce975029ec97aba5994c17d4a2169c3b085/base/mpfr.jl#L196\" target=\"_blank\">mpfr.jl:196</a><li> convert<i>{T<:Integer}</i>(::<b>Type{Rational{T<:Integer}}</b>, x::<b>AbstractFloat</b>) at <a href=\"https://github.com/JuliaLang/julia/tree/2e358ce975029ec97aba5994c17d4a2169c3b085/base/rational.jl#L85\" target=\"_blank\">rational.jl:85</a><li> convert<i>{N}</i>(::<b>Type{BitArray{N}}</b>, B::<b>BitArray{N}</b>) at <a href=\"https://github.com/JuliaLang/julia/tree/2e358ce975029ec97aba5994c17d4a2169c3b085/base/bitarray.jl#L355\" target=\"_blank\">bitarray.jl:355</a><li> convert<i>{T,N}</i>(::<b>Type{BitArray{N}}</b>, A::<b>AbstractArray{T,N}</b>) at <a href=\"https://github.com/JuliaLang/julia/tree/2e358ce975029ec97aba5994c17d4a2169c3b085/base/bitarray.jl#L331\" target=\"_blank\">bitarray.jl:331</a><li> convert<i>{T,N}</i>(::<b>Type{BitArray{N}}</b>, A::<b>AbstractArray{T,N}</b>) at <a href=\"https://github.com/JuliaLang/julia/tree/2e358ce975029ec97aba5994c17d4a2169c3b085/base/bitarray.jl#L329\" target=\"_blank\">bitarray.jl:329</a><li> convert<i>{K,V}</i>(::<b>Type{Dict{K,V}}</b>, d::<b>Dict{K,V}</b>) at <a href=\"https://github.com/JuliaLang/julia/tree/2e358ce975029ec97aba5994c17d4a2169c3b085/base/dict.jl#L474\" target=\"_blank\">dict.jl:474</a><li> convert<i>{K,V}</i>(::<b>Type{Dict{K,V}}</b>, d::<b>Associative{K,V}</b>) at <a href=\"https://github.com/JuliaLang/julia/tree/2e358ce975029ec97aba5994c17d4a2169c3b085/base/dict.jl#L463\" target=\"_blank\">dict.jl:463</a><li> convert(::<b>Type{Char}</b>, x::<b>UInt32</b>) at <a href=\"https://github.com/JuliaLang/julia/tree/2e358ce975029ec97aba5994c17d4a2169c3b085/base/char.jl#L3\" target=\"_blank\">char.jl:3</a><li> convert(::<b>Type{Char}</b>, x::<b>Number</b>) at <a href=\"https://github.com/JuliaLang/julia/tree/2e358ce975029ec97aba5994c17d4a2169c3b085/base/char.jl#L4\" target=\"_blank\">char.jl:4</a><li> convert(::<b>Type{UInt32}</b>, x::<b>Char</b>) at <a href=\"https://github.com/JuliaLang/julia/tree/2e358ce975029ec97aba5994c17d4a2169c3b085/base/char.jl#L5\" target=\"_blank\">char.jl:5</a><li> convert<i>{T<:Number}</i>(::<b>Type{T<:Number}</b>, x::<b>Char</b>) at <a href=\"https://github.com/JuliaLang/julia/tree/2e358ce975029ec97aba5994c17d4a2169c3b085/base/char.jl#L6\" target=\"_blank\">char.jl:6</a><li> convert(::<b>Type{ASCIIString}</b>, s::<b>ASCIIString</b>) at <a href=\"https://github.com/JuliaLang/julia/tree/2e358ce975029ec97aba5994c17d4a2169c3b085/base/ascii.jl#L104\" target=\"_blank\">ascii.jl:104</a><li> convert(::<b>Type{ASCIIString}</b>, s::<b>UTF8String</b>) at <a href=\"https://github.com/JuliaLang/julia/tree/2e358ce975029ec97aba5994c17d4a2169c3b085/base/ascii.jl#L105\" target=\"_blank\">ascii.jl:105</a><li> convert(::<b>Type{ASCIIString}</b>, a::<b>Array{UInt8,1}</b>) at <a href=\"https://github.com/JuliaLang/julia/tree/2e358ce975029ec97aba5994c17d4a2169c3b085/base/ascii.jl#L106\" target=\"_blank\">ascii.jl:106</a><li> convert(::<b>Type{ASCIIString}</b>, a::<b>Array{UInt8,1}</b>, invalids_as::<b>ASCIIString</b>) at <a href=\"https://github.com/JuliaLang/julia/tree/2e358ce975029ec97aba5994c17d4a2169c3b085/base/ascii.jl#L115\" target=\"_blank\">ascii.jl:115</a><li> convert(::<b>Type{ASCIIString}</b>, a::<b>Array{UInt8,1}</b>, invalids_as::<b>AbstractString</b>) at <a href=\"https://github.com/JuliaLang/julia/tree/2e358ce975029ec97aba5994c17d4a2169c3b085/base/ascii.jl#L132\" target=\"_blank\">ascii.jl:132</a><li> convert(::<b>Type{ASCIIString}</b>, s::<b>AbstractString</b>) at <a href=\"https://github.com/JuliaLang/julia/tree/2e358ce975029ec97aba5994c17d4a2169c3b085/base/ascii.jl#L134\" target=\"_blank\">ascii.jl:134</a><li> convert(::<b>Type{SubString{UTF8String}}</b>, s::<b>SubString{ASCIIString}</b>) at <a href=\"https://github.com/JuliaLang/julia/tree/2e358ce975029ec97aba5994c17d4a2169c3b085/base/unicode/utf8.jl#L236\" target=\"_blank\">unicode/utf8.jl:236</a><li> convert<i>{T<:AbstractString}</i>(::<b>Type{SubString{T<:AbstractString}}</b>, s::<b>T<:AbstractString</b>) at <a href=\"https://github.com/JuliaLang/julia/tree/2e358ce975029ec97aba5994c17d4a2169c3b085/base/strings/types.jl#L77\" target=\"_blank\">strings/types.jl:77</a><li> convert(::<b>Type{RepString}</b>, s::<b>AbstractString</b>) at <a href=\"https://github.com/JuliaLang/julia/tree/2e358ce975029ec97aba5994c17d4a2169c3b085/base/strings/types.jl#L173\" target=\"_blank\">strings/types.jl:173</a><li> convert(::<b>Type{Array{UInt8,1}}</b>, s::<b>AbstractString</b>) at <a href=\"https://github.com/JuliaLang/julia/tree/2e358ce975029ec97aba5994c17d4a2169c3b085/base/strings/basic.jl#L27\" target=\"_blank\">strings/basic.jl:27</a><li> convert(::<b>Type{Array{UInt8,N}}</b>, s::<b>AbstractString</b>) at <a href=\"https://github.com/JuliaLang/julia/tree/2e358ce975029ec97aba5994c17d4a2169c3b085/base/strings/basic.jl#L28\" target=\"_blank\">strings/basic.jl:28</a><li> convert(::<b>Type{ByteString}</b>, s::<b>AbstractString</b>) at <a href=\"https://github.com/JuliaLang/julia/tree/2e358ce975029ec97aba5994c17d4a2169c3b085/base/strings/basic.jl#L29\" target=\"_blank\">strings/basic.jl:29</a><li> convert(::<b>Type{Array{Char,1}}</b>, s::<b>AbstractString</b>) at <a href=\"https://github.com/JuliaLang/julia/tree/2e358ce975029ec97aba5994c17d4a2169c3b085/base/strings/basic.jl#L30\" target=\"_blank\">strings/basic.jl:30</a><li> convert(::<b>Type{Symbol}</b>, s::<b>AbstractString</b>) at <a href=\"https://github.com/JuliaLang/julia/tree/2e358ce975029ec97aba5994c17d4a2169c3b085/base/strings/basic.jl#L31\" target=\"_blank\">strings/basic.jl:31</a><li> convert(::<b>Type{UTF8String}</b>, s::<b>UTF8String</b>) at <a href=\"https://github.com/JuliaLang/julia/tree/2e358ce975029ec97aba5994c17d4a2169c3b085/base/unicode/utf8.jl#L234\" target=\"_blank\">unicode/utf8.jl:234</a><li> convert(::<b>Type{UTF8String}</b>, s::<b>ASCIIString</b>) at <a href=\"https://github.com/JuliaLang/julia/tree/2e358ce975029ec97aba5994c17d4a2169c3b085/base/unicode/utf8.jl#L235\" target=\"_blank\">unicode/utf8.jl:235</a><li> convert(::<b>Type{UTF8String}</b>, dat::<b>Array{UInt8,1}</b>) at <a href=\"https://github.com/JuliaLang/julia/tree/2e358ce975029ec97aba5994c17d4a2169c3b085/base/unicode/utf8.jl#L241\" target=\"_blank\">unicode/utf8.jl:241</a><li> convert(::<b>Type{UTF8String}</b>, a::<b>Array{UInt8,1}</b>, invalids_as::<b>AbstractString</b>) at <a href=\"https://github.com/JuliaLang/julia/tree/2e358ce975029ec97aba5994c17d4a2169c3b085/base/unicode/utf8.jl#L293\" target=\"_blank\">unicode/utf8.jl:293</a><li> convert(::<b>Type{UTF8String}</b>, str::<b>UTF16String</b>) at <a href=\"https://github.com/JuliaLang/julia/tree/2e358ce975029ec97aba5994c17d4a2169c3b085/base/unicode/utf16.jl#L160\" target=\"_blank\">unicode/utf16.jl:160</a><li> convert(::<b>Type{UTF8String}</b>, str::<b>UTF32String</b>) at <a href=\"https://github.com/JuliaLang/julia/tree/2e358ce975029ec97aba5994c17d4a2169c3b085/base/unicode/utf32.jl#L27\" target=\"_blank\">unicode/utf32.jl:27</a><li> convert(::<b>Type{UTF8String}</b>, s::<b>AbstractString</b>) at <a href=\"https://github.com/JuliaLang/julia/tree/2e358ce975029ec97aba5994c17d4a2169c3b085/base/unicode/utf8.jl#L313\" target=\"_blank\">unicode/utf8.jl:313</a><li> convert(::<b>Type{UTF16String}</b>, str::<b>UTF8String</b>) at <a href=\"https://github.com/JuliaLang/julia/tree/2e358ce975029ec97aba5994c17d4a2169c3b085/base/unicode/utf16.jl#L123\" target=\"_blank\">unicode/utf16.jl:123</a><li> convert(::<b>Type{UTF16String}</b>, str::<b>ASCIIString</b>) at <a href=\"https://github.com/JuliaLang/julia/tree/2e358ce975029ec97aba5994c17d4a2169c3b085/base/unicode/utf16.jl#L200\" target=\"_blank\">unicode/utf16.jl:200</a><li> convert(::<b>Type{UTF16String}</b>, str::<b>UTF16String</b>) at <a href=\"https://github.com/JuliaLang/julia/tree/2e358ce975029ec97aba5994c17d4a2169c3b085/base/unicode/utf16.jl#L207\" target=\"_blank\">unicode/utf16.jl:207</a><li> convert(::<b>Type{UTF16String}</b>, str::<b>UTF32String</b>) at <a href=\"https://github.com/JuliaLang/julia/tree/2e358ce975029ec97aba5994c17d4a2169c3b085/base/unicode/utf32.jl#L105\" target=\"_blank\">unicode/utf32.jl:105</a><li> convert(::<b>Type{UTF16String}</b>, str::<b>AbstractString</b>) at <a href=\"https://github.com/JuliaLang/julia/tree/2e358ce975029ec97aba5994c17d4a2169c3b085/base/unicode/utf16.jl#L105\" target=\"_blank\">unicode/utf16.jl:105</a><li> convert(::<b>Type{Array{UInt16,1}}</b>, str::<b>UTF16String</b>) at <a href=\"https://github.com/JuliaLang/julia/tree/2e358ce975029ec97aba5994c17d4a2169c3b085/base/unicode/utf16.jl#L204\" target=\"_blank\">unicode/utf16.jl:204</a><li> convert(::<b>Type{Array{UInt16,N}}</b>, str::<b>UTF16String</b>) at <a href=\"https://github.com/JuliaLang/julia/tree/2e358ce975029ec97aba5994c17d4a2169c3b085/base/unicode/utf16.jl#L205\" target=\"_blank\">unicode/utf16.jl:205</a><li> convert(::<b>Type{UTF16String}</b>, dat::<b>AbstractArray{UInt16,1}</b>) at <a href=\"https://github.com/JuliaLang/julia/tree/2e358ce975029ec97aba5994c17d4a2169c3b085/base/unicode/utf16.jl#L219\" target=\"_blank\">unicode/utf16.jl:219</a><li> convert(T::<b>Type{UTF16String}</b>, data::<b>AbstractArray{UInt16,N}</b>) at <a href=\"https://github.com/JuliaLang/julia/tree/2e358ce975029ec97aba5994c17d4a2169c3b085/base/unicode/utf16.jl#L212\" target=\"_blank\">unicode/utf16.jl:212</a><li> convert(T::<b>Type{UTF16String}</b>, data::<b>AbstractArray{Int16,N}</b>) at <a href=\"https://github.com/JuliaLang/julia/tree/2e358ce975029ec97aba5994c17d4a2169c3b085/base/unicode/utf16.jl#L215\" target=\"_blank\">unicode/utf16.jl:215</a><li> convert(T::<b>Type{UTF16String}</b>, bytes::<b>AbstractArray{UInt8,N}</b>) at <a href=\"https://github.com/JuliaLang/julia/tree/2e358ce975029ec97aba5994c17d4a2169c3b085/base/unicode/utf16.jl#L224\" target=\"_blank\">unicode/utf16.jl:224</a><li> convert(::<b>Type{UTF32String}</b>, c::<b>Char</b>) at <a href=\"https://github.com/JuliaLang/julia/tree/2e358ce975029ec97aba5994c17d4a2169c3b085/base/unicode/utf32.jl#L14\" target=\"_blank\">unicode/utf32.jl:14</a><li> convert(::<b>Type{UTF32String}</b>, s::<b>UTF32String</b>) at <a href=\"https://github.com/JuliaLang/julia/tree/2e358ce975029ec97aba5994c17d4a2169c3b085/base/unicode/utf32.jl#L15\" target=\"_blank\">unicode/utf32.jl:15</a><li> convert(::<b>Type{UTF32String}</b>, str::<b>UTF8String</b>) at <a href=\"https://github.com/JuliaLang/julia/tree/2e358ce975029ec97aba5994c17d4a2169c3b085/base/unicode/utf32.jl#L38\" target=\"_blank\">unicode/utf32.jl:38</a><li> convert(::<b>Type{UTF32String}</b>, str::<b>UTF16String</b>) at <a href=\"https://github.com/JuliaLang/julia/tree/2e358ce975029ec97aba5994c17d4a2169c3b085/base/unicode/utf32.jl#L83\" target=\"_blank\">unicode/utf32.jl:83</a><li> convert(::<b>Type{UTF32String}</b>, str::<b>ASCIIString</b>) at <a href=\"https://github.com/JuliaLang/julia/tree/2e358ce975029ec97aba5994c17d4a2169c3b085/base/unicode/utf32.jl#L117\" target=\"_blank\">unicode/utf32.jl:117</a><li> convert(::<b>Type{UTF32String}</b>, str::<b>AbstractString</b>) at <a href=\"https://github.com/JuliaLang/julia/tree/2e358ce975029ec97aba5994c17d4a2169c3b085/base/unicode/utf32.jl#L18\" target=\"_blank\">unicode/utf32.jl:18</a><li> convert(::<b>Type{UTF32String}</b>, dat::<b>AbstractArray{UInt32,1}</b>) at <a href=\"https://github.com/JuliaLang/julia/tree/2e358ce975029ec97aba5994c17d4a2169c3b085/base/unicode/utf32.jl#L122\" target=\"_blank\">unicode/utf32.jl:122</a><li> convert<i>{T<:Union{Char,Int32}}</i>(::<b>Type{UTF32String}</b>, data::<b>AbstractArray{T<:Union{Char,Int32},1}</b>) at <a href=\"https://github.com/JuliaLang/julia/tree/2e358ce975029ec97aba5994c17d4a2169c3b085/base/unicode/utf32.jl#L125\" target=\"_blank\">unicode/utf32.jl:125</a><li> convert<i>{T<:Union{ASCIIString,UTF8String},S<:Union{Char,Int32,UInt32}}</i>(::<b>Type{T<:Union{ASCIIString,UTF8String}}</b>, data::<b>AbstractArray{S<:Union{Char,Int32,UInt32},1}</b>) at <a href=\"https://github.com/JuliaLang/julia/tree/2e358ce975029ec97aba5994c17d4a2169c3b085/base/unicode/utf32.jl#L133\" target=\"_blank\">unicode/utf32.jl:133</a><li> convert<i>{T<:AbstractString,S<:Union{Char,Int32,UInt32}}</i>(::<b>Type{T<:AbstractString}</b>, v::<b>AbstractArray{S<:Union{Char,Int32,UInt32},1}</b>) at <a href=\"https://github.com/JuliaLang/julia/tree/2e358ce975029ec97aba5994c17d4a2169c3b085/base/unicode/utf32.jl#L128\" target=\"_blank\">unicode/utf32.jl:128</a><li> convert(::<b>Type{Array{UInt32,1}}</b>, str::<b>UTF32String</b>) at <a href=\"https://github.com/JuliaLang/julia/tree/2e358ce975029ec97aba5994c17d4a2169c3b085/base/unicode/utf32.jl#L141\" target=\"_blank\">unicode/utf32.jl:141</a><li> convert(::<b>Type{Array{UInt32,N}}</b>, str::<b>UTF32String</b>) at <a href=\"https://github.com/JuliaLang/julia/tree/2e358ce975029ec97aba5994c17d4a2169c3b085/base/unicode/utf32.jl#L142\" target=\"_blank\">unicode/utf32.jl:142</a><li> convert(T::<b>Type{UTF32String}</b>, bytes::<b>AbstractArray{UInt8,N}</b>) at <a href=\"https://github.com/JuliaLang/julia/tree/2e358ce975029ec97aba5994c17d4a2169c3b085/base/unicode/utf32.jl#L148\" target=\"_blank\">unicode/utf32.jl:148</a><li> convert<i>{S<:AbstractString}</i>(::<b>Type{S<:AbstractString}</b>, g::<b>Base.UTF8proc.GraphemeIterator{S<:AbstractString}</b>) at <a href=\"https://github.com/JuliaLang/julia/tree/2e358ce975029ec97aba5994c17d4a2169c3b085/base/unicode/utf8proc.jl#L229\" target=\"_blank\">unicode/utf8proc.jl:229</a><li> convert(::<b>Type{Base.Libc.FILE}</b>, s::<b>IO</b>) at <a href=\"https://github.com/JuliaLang/julia/tree/2e358ce975029ec97aba5994c17d4a2169c3b085/base/libc.jl#L61\" target=\"_blank\">libc.jl:61</a><li> convert<i>{T}</i>(::<b>Type{Nullable{T}}</b>, x::<b>Nullable{T}</b>) at <a href=\"https://github.com/JuliaLang/julia/tree/2e358ce975029ec97aba5994c17d4a2169c3b085/base/nullable.jl#L11\" target=\"_blank\">nullable.jl:11</a><li> convert<i>{T}</i>(::<b>Type{Nullable{T}}</b>, x::<b>Nullable{T}</b>) at <a href=\"https://github.com/JuliaLang/julia/tree/2e358ce975029ec97aba5994c17d4a2169c3b085/base/nullable.jl#L15\" target=\"_blank\">nullable.jl:15</a><li> convert(::<b>Type{Nullable{T}}</b>, x::<b>Nullable{T}</b>) at <a href=\"https://github.com/JuliaLang/julia/tree/2e358ce975029ec97aba5994c17d4a2169c3b085/base/nullable.jl#L12\" target=\"_blank\">nullable.jl:12</a><li> convert<i>{T}</i>(::<b>Type{Nullable{T}}</b>, ::<b>Void</b>) at <a href=\"https://github.com/JuliaLang/julia/tree/2e358ce975029ec97aba5994c17d4a2169c3b085/base/nullable.jl#L21\" target=\"_blank\">nullable.jl:21</a><li> convert(::<b>Type{Nullable{T}}</b>, ::<b>Void</b>) at <a href=\"https://github.com/JuliaLang/julia/tree/2e358ce975029ec97aba5994c17d4a2169c3b085/base/nullable.jl#L22\" target=\"_blank\">nullable.jl:22</a><li> convert<i>{T}</i>(::<b>Type{Nullable{T}}</b>, x::<b>T</b>) at <a href=\"https://github.com/JuliaLang/julia/tree/2e358ce975029ec97aba5994c17d4a2169c3b085/base/nullable.jl#L18\" target=\"_blank\">nullable.jl:18</a><li> convert<i>{T}</i>(::<b>Type{Nullable{T}}</b>, x::<b>T</b>) at <a href=\"https://github.com/JuliaLang/julia/tree/2e358ce975029ec97aba5994c17d4a2169c3b085/base/nullable.jl#L19\" target=\"_blank\">nullable.jl:19</a><li> convert<i>{T<:Integer}</i>(dt::<b>Type{T<:Integer}</b>, ip::<b>Base.IPAddr</b>) at <a href=\"https://github.com/JuliaLang/julia/tree/2e358ce975029ec97aba5994c17d4a2169c3b085/base/socket.jl#L7\" target=\"_blank\">socket.jl:7</a><li> convert(::<b>Type{Float32}</b>, val::<b>Float16</b>) at <a href=\"https://github.com/JuliaLang/julia/tree/2e358ce975029ec97aba5994c17d4a2169c3b085/base/float16.jl#L4\" target=\"_blank\">float16.jl:4</a><li> convert(::<b>Type{Float16}</b>, val::<b>Float32</b>) at <a href=\"https://github.com/JuliaLang/julia/tree/2e358ce975029ec97aba5994c17d4a2169c3b085/base/float16.jl#L83\" target=\"_blank\">float16.jl:83</a><li> convert(::<b>Type{Int128}</b>, x::<b>Float16</b>) at <a href=\"https://github.com/JuliaLang/julia/tree/2e358ce975029ec97aba5994c17d4a2169c3b085/base/float16.jl#L102\" target=\"_blank\">float16.jl:102</a><li> convert(::<b>Type{UInt128}</b>, x::<b>Float16</b>) at <a href=\"https://github.com/JuliaLang/julia/tree/2e358ce975029ec97aba5994c17d4a2169c3b085/base/float16.jl#L103\" target=\"_blank\">float16.jl:103</a><li> convert(::<b>Type{VersionNumber}</b>, v::<b>Integer</b>) at <a href=\"https://github.com/JuliaLang/julia/tree/2e358ce975029ec97aba5994c17d4a2169c3b085/base/version.jl#L71\" target=\"_blank\">version.jl:71</a><li> convert(::<b>Type{VersionNumber}</b>, v::<b>Tuple</b>) at <a href=\"https://github.com/JuliaLang/julia/tree/2e358ce975029ec97aba5994c17d4a2169c3b085/base/version.jl#L72\" target=\"_blank\">version.jl:72</a><li> convert(::<b>Type{VersionNumber}</b>, v::<b>AbstractString</b>) at <a href=\"https://github.com/JuliaLang/julia/tree/2e358ce975029ec97aba5994c17d4a2169c3b085/base/version.jl#L109\" target=\"_blank\">version.jl:109</a><li> convert(::<b>Type{BigInt}</b>, x::<b>BigInt</b>) at <a href=\"https://github.com/JuliaLang/julia/tree/2e358ce975029ec97aba5994c17d4a2169c3b085/base/gmp.jl#L82\" target=\"_blank\">gmp.jl:82</a><li> convert(::<b>Type{BigInt}</b>, x::<b>Union{Int32,Int64}</b>) at <a href=\"https://github.com/JuliaLang/julia/tree/2e358ce975029ec97aba5994c17d4a2169c3b085/base/gmp.jl#L111\" target=\"_blank\">gmp.jl:111</a><li> convert(::<b>Type{BigInt}</b>, x::<b>Union{UInt32,UInt64}</b>) at <a href=\"https://github.com/JuliaLang/julia/tree/2e358ce975029ec97aba5994c17d4a2169c3b085/base/gmp.jl#L116\" target=\"_blank\">gmp.jl:116</a><li> convert(::<b>Type{BigInt}</b>, x::<b>Bool</b>) at <a href=\"https://github.com/JuliaLang/julia/tree/2e358ce975029ec97aba5994c17d4a2169c3b085/base/gmp.jl#L121\" target=\"_blank\">gmp.jl:121</a><li> convert(::<b>Type{BigInt}</b>, x::<b>Float32</b>) at <a href=\"https://github.com/JuliaLang/julia/tree/2e358ce975029ec97aba5994c17d4a2169c3b085/base/gmp.jl#L141\" target=\"_blank\">gmp.jl:141</a><li> convert(::<b>Type{BigInt}</b>, x::<b>Union{Float32,Float64}</b>) at <a href=\"https://github.com/JuliaLang/julia/tree/2e358ce975029ec97aba5994c17d4a2169c3b085/base/gmp.jl#L131\" target=\"_blank\">gmp.jl:131</a><li> convert(::<b>Type{BigInt}</b>, x::<b>Integer</b>) at <a href=\"https://github.com/JuliaLang/julia/tree/2e358ce975029ec97aba5994c17d4a2169c3b085/base/gmp.jl#L144\" target=\"_blank\">gmp.jl:144</a><li> convert<i>{T<:Unsigned}</i>(::<b>Type{T<:Unsigned}</b>, x::<b>BigInt</b>) at <a href=\"https://github.com/JuliaLang/julia/tree/2e358ce975029ec97aba5994c17d4a2169c3b085/base/gmp.jl#L182\" target=\"_blank\">gmp.jl:182</a><li> convert<i>{T<:Signed}</i>(::<b>Type{T<:Signed}</b>, x::<b>BigInt</b>) at <a href=\"https://github.com/JuliaLang/julia/tree/2e358ce975029ec97aba5994c17d4a2169c3b085/base/gmp.jl#L191\" target=\"_blank\">gmp.jl:191</a><li> convert(::<b>Type{Float64}</b>, n::<b>BigInt</b>) at <a href=\"https://github.com/JuliaLang/julia/tree/2e358ce975029ec97aba5994c17d4a2169c3b085/base/gmp.jl#L243\" target=\"_blank\">gmp.jl:243</a><li> convert(::<b>Type{Float32}</b>, n::<b>BigInt</b>) at <a href=\"https://github.com/JuliaLang/julia/tree/2e358ce975029ec97aba5994c17d4a2169c3b085/base/gmp.jl#L244\" target=\"_blank\">gmp.jl:244</a><li> convert(::<b>Type{BigFloat}</b>, x::<b>BigFloat</b>) at <a href=\"https://github.com/JuliaLang/julia/tree/2e358ce975029ec97aba5994c17d4a2169c3b085/base/mpfr.jl#L69\" target=\"_blank\">mpfr.jl:69</a><li> convert(::<b>Type{BigFloat}</b>, x::<b>Int64</b>) at <a href=\"https://github.com/JuliaLang/julia/tree/2e358ce975029ec97aba5994c17d4a2169c3b085/base/mpfr.jl#L75\" target=\"_blank\">mpfr.jl:75</a><li> convert(::<b>Type{BigFloat}</b>, x::<b>UInt64</b>) at <a href=\"https://github.com/JuliaLang/julia/tree/2e358ce975029ec97aba5994c17d4a2169c3b085/base/mpfr.jl#L75\" target=\"_blank\">mpfr.jl:75</a><li> convert(::<b>Type{BigFloat}</b>, x::<b>Float64</b>) at <a href=\"https://github.com/JuliaLang/julia/tree/2e358ce975029ec97aba5994c17d4a2169c3b085/base/mpfr.jl#L75\" target=\"_blank\">mpfr.jl:75</a><li> convert(::<b>Type{BigFloat}</b>, x::<b>BigInt</b>) at <a href=\"https://github.com/JuliaLang/julia/tree/2e358ce975029ec97aba5994c17d4a2169c3b085/base/mpfr.jl#L83\" target=\"_blank\">mpfr.jl:83</a><li> convert(::<b>Type{BigFloat}</b>, x::<b>Union{Bool,Int16,Int32,Int8}</b>) at <a href=\"https://github.com/JuliaLang/julia/tree/2e358ce975029ec97aba5994c17d4a2169c3b085/base/mpfr.jl#L90\" target=\"_blank\">mpfr.jl:90</a><li> convert(::<b>Type{BigFloat}</b>, x::<b>Union{UInt16,UInt32,UInt8}</b>) at <a href=\"https://github.com/JuliaLang/julia/tree/2e358ce975029ec97aba5994c17d4a2169c3b085/base/mpfr.jl#L91\" target=\"_blank\">mpfr.jl:91</a><li> convert(::<b>Type{BigFloat}</b>, x::<b>Integer</b>) at <a href=\"https://github.com/JuliaLang/julia/tree/2e358ce975029ec97aba5994c17d4a2169c3b085/base/mpfr.jl#L88\" target=\"_blank\">mpfr.jl:88</a><li> convert(::<b>Type{BigFloat}</b>, x::<b>Union{Float16,Float32}</b>) at <a href=\"https://github.com/JuliaLang/julia/tree/2e358ce975029ec97aba5994c17d4a2169c3b085/base/mpfr.jl#L93\" target=\"_blank\">mpfr.jl:93</a><li> convert(::<b>Type{AbstractFloat}</b>, x::<b>BigInt</b>) at <a href=\"https://github.com/JuliaLang/julia/tree/2e358ce975029ec97aba5994c17d4a2169c3b085/base/mpfr.jl#L103\" target=\"_blank\">mpfr.jl:103</a><li> convert(::<b>Type{BigInt}</b>, x::<b>BigFloat</b>) at <a href=\"https://github.com/JuliaLang/julia/tree/2e358ce975029ec97aba5994c17d4a2169c3b085/base/mpfr.jl#L166\" target=\"_blank\">mpfr.jl:166</a><li> convert(::<b>Type{Float64}</b>, x::<b>BigFloat</b>) at <a href=\"https://github.com/JuliaLang/julia/tree/2e358ce975029ec97aba5994c17d4a2169c3b085/base/mpfr.jl#L176\" target=\"_blank\">mpfr.jl:176</a><li> convert(::<b>Type{Float32}</b>, x::<b>BigFloat</b>) at <a href=\"https://github.com/JuliaLang/julia/tree/2e358ce975029ec97aba5994c17d4a2169c3b085/base/mpfr.jl#L178\" target=\"_blank\">mpfr.jl:178</a><li> convert(::<b>Type{Float16}</b>, x::<b>BigFloat</b>) at <a href=\"https://github.com/JuliaLang/julia/tree/2e358ce975029ec97aba5994c17d4a2169c3b085/base/mpfr.jl#L181\" target=\"_blank\">mpfr.jl:181</a><li> convert(::<b>Type{UInt128}</b>, u::<b>Base.Random.UUID</b>) at <a href=\"https://github.com/JuliaLang/julia/tree/2e358ce975029ec97aba5994c17d4a2169c3b085/base/random.jl#L1240\" target=\"_blank\">random.jl:1240</a><li> convert(::<b>Type{Base.Random.UUID}</b>, s::<b>AbstractString</b>) at <a href=\"https://github.com/JuliaLang/julia/tree/2e358ce975029ec97aba5994c17d4a2169c3b085/base/random.jl#L1243\" target=\"_blank\">random.jl:1243</a><li> convert<i>{T<:Integer}</i>(::<b>Type{T<:Integer}</b>, x::<b>Enum</b>) at <a href=\"https://github.com/JuliaLang/julia/tree/2e358ce975029ec97aba5994c17d4a2169c3b085/base/Enums.jl#L9\" target=\"_blank\">Enums.jl:9</a><li> convert(::<b>Type{Base.WorkerState}</b>, ::<b>Integer</b>) at <a href=\"https://github.com/JuliaLang/julia/tree/2e358ce975029ec97aba5994c17d4a2169c3b085/base/Enums.jl#L79\" target=\"_blank\">Enums.jl:79</a><li> convert<i>{TS,TA,N}</i>(::<b>Type{SharedArray{TS,N}}</b>, A::<b>Array{TA,N}</b>) at <a href=\"https://github.com/JuliaLang/julia/tree/2e358ce975029ec97aba5994c17d4a2169c3b085/base/sharedarray.jl#L273\" target=\"_blank\">sharedarray.jl:273</a><li> convert<i>{T}</i>(::<b>Type{SharedArray{T,N}}</b>, A::<b>Array{T,N}</b>) at <a href=\"https://github.com/JuliaLang/julia/tree/2e358ce975029ec97aba5994c17d4a2169c3b085/base/sharedarray.jl#L272\" target=\"_blank\">sharedarray.jl:272</a><li> convert(::<b>Type{SharedArray{T,N}}</b>, A::<b>Array{T,N}</b>) at <a href=\"https://github.com/JuliaLang/julia/tree/2e358ce975029ec97aba5994c17d4a2169c3b085/base/sharedarray.jl#L271\" target=\"_blank\">sharedarray.jl:271</a><li> convert<i>{T}</i>(::<b>Type{SymTridiagonal{T}}</b>, S::<b>SymTridiagonal{T}</b>) at <a href=\"https://github.com/JuliaLang/julia/tree/2e358ce975029ec97aba5994c17d4a2169c3b085/base/linalg/tridiag.jl#L33\" target=\"_blank\">linalg/tridiag.jl:33</a><li> convert<i>{T}</i>(::<b>Type{Tridiagonal{T}}</b>, M::<b>Tridiagonal{T}</b>) at <a href=\"https://github.com/JuliaLang/julia/tree/2e358ce975029ec97aba5994c17d4a2169c3b085/base/linalg/tridiag.jl#L417\" target=\"_blank\">linalg/tridiag.jl:417</a><li> convert(::<b>Type{Tridiagonal{T}}</b>, A::<b>SymTridiagonal{T}</b>) at <a href=\"https://github.com/JuliaLang/julia/tree/2e358ce975029ec97aba5994c17d4a2169c3b085/base/linalg/special.jl#L72\" target=\"_blank\">linalg/special.jl:72</a><li> convert<i>{T}</i>(::<b>Type{Tridiagonal{T}}</b>, M::<b>SymTridiagonal{T}</b>) at <a href=\"https://github.com/JuliaLang/julia/tree/2e358ce975029ec97aba5994c17d4a2169c3b085/base/linalg/tridiag.jl#L419\" target=\"_blank\">linalg/tridiag.jl:419</a><li> convert<i>{T}</i>(::<b>Type{SymTridiagonal{T}}</b>, M::<b>Tridiagonal{T}</b>) at <a href=\"https://github.com/JuliaLang/julia/tree/2e358ce975029ec97aba5994c17d4a2169c3b085/base/linalg/tridiag.jl#L421\" target=\"_blank\">linalg/tridiag.jl:421</a><li> convert<i>{T,S}</i>(::<b>Type{LowerTriangular{T,S<:AbstractArray{T,2}}}</b>, A::<b>LowerTriangular{T,S}</b>) at <a href=\"https://github.com/JuliaLang/julia/tree/2e358ce975029ec97aba5994c17d4a2169c3b085/base/linalg/triangular.jl#L20\" target=\"_blank\">linalg/triangular.jl:20</a><li> convert<i>{Tnew,Told,S}</i>(::<b>Type{LowerTriangular{Tnew,S<:AbstractArray{T,2}}}</b>, A::<b>LowerTriangular{Told,S}</b>) at <a href=\"https://github.com/JuliaLang/julia/tree/2e358ce975029ec97aba5994c17d4a2169c3b085/base/linalg/triangular.jl#L21\" target=\"_blank\">linalg/triangular.jl:21</a><li> convert<i>{T,S}</i>(::<b>Type{Base.LinAlg.UnitLowerTriangular{T,S<:AbstractArray{T,2}}}</b>, A::<b>Base.LinAlg.UnitLowerTriangular{T,S}</b>) at <a href=\"https://github.com/JuliaLang/julia/tree/2e358ce975029ec97aba5994c17d4a2169c3b085/base/linalg/triangular.jl#L20\" target=\"_blank\">linalg/triangular.jl:20</a><li> convert<i>{Tnew,Told,S}</i>(::<b>Type{Base.LinAlg.UnitLowerTriangular{Tnew,S<:AbstractArray{T,2}}}</b>, A::<b>Base.LinAlg.UnitLowerTriangular{Told,S}</b>) at <a href=\"https://github.com/JuliaLang/julia/tree/2e358ce975029ec97aba5994c17d4a2169c3b085/base/linalg/triangular.jl#L21\" target=\"_blank\">linalg/triangular.jl:21</a><li> convert<i>{T,S}</i>(::<b>Type{UpperTriangular{T,S<:AbstractArray{T,2}}}</b>, A::<b>UpperTriangular{T,S}</b>) at <a href=\"https://github.com/JuliaLang/julia/tree/2e358ce975029ec97aba5994c17d4a2169c3b085/base/linalg/triangular.jl#L20\" target=\"_blank\">linalg/triangular.jl:20</a><li> convert<i>{Tnew,Told,S}</i>(::<b>Type{UpperTriangular{Tnew,S<:AbstractArray{T,2}}}</b>, A::<b>UpperTriangular{Told,S}</b>) at <a href=\"https://github.com/JuliaLang/julia/tree/2e358ce975029ec97aba5994c17d4a2169c3b085/base/linalg/triangular.jl#L21\" target=\"_blank\">linalg/triangular.jl:21</a><li> convert<i>{T,S}</i>(::<b>Type{Base.LinAlg.UnitUpperTriangular{T,S<:AbstractArray{T,2}}}</b>, A::<b>Base.LinAlg.UnitUpperTriangular{T,S}</b>) at <a href=\"https://github.com/JuliaLang/julia/tree/2e358ce975029ec97aba5994c17d4a2169c3b085/base/linalg/triangular.jl#L20\" target=\"_blank\">linalg/triangular.jl:20</a><li> convert<i>{Tnew,Told,S}</i>(::<b>Type{Base.LinAlg.UnitUpperTriangular{Tnew,S<:AbstractArray{T,2}}}</b>, A::<b>Base.LinAlg.UnitUpperTriangular{Told,S}</b>) at <a href=\"https://github.com/JuliaLang/julia/tree/2e358ce975029ec97aba5994c17d4a2169c3b085/base/linalg/triangular.jl#L21\" target=\"_blank\">linalg/triangular.jl:21</a><li> convert<i>{T}</i>(::<b>Type{Factorization{T}}</b>, A::<b>Base.LinAlg.QR{T,S<:AbstractArray{T,2}}</b>) at <a href=\"https://github.com/JuliaLang/julia/tree/2e358ce975029ec97aba5994c17d4a2169c3b085/base/linalg/qr.jl#L59\" target=\"_blank\">linalg/qr.jl:59</a><li> convert<i>{T}</i>(::<b>Type{Factorization{T}}</b>, A::<b>Base.LinAlg.QRCompactWY{S,M<:AbstractArray{T,2}}</b>) at <a href=\"https://github.com/JuliaLang/julia/tree/2e358ce975029ec97aba5994c17d4a2169c3b085/base/linalg/qr.jl#L61\" target=\"_blank\">linalg/qr.jl:61</a><li> convert<i>{T}</i>(::<b>Type{Factorization{T}}</b>, A::<b>Base.LinAlg.QRPivoted{T,S<:AbstractArray{T,2}}</b>) at <a href=\"https://github.com/JuliaLang/julia/tree/2e358ce975029ec97aba5994c17d4a2169c3b085/base/linalg/qr.jl#L63\" target=\"_blank\">linalg/qr.jl:63</a><li> convert<i>{T}</i>(::<b>Type{Factorization{T}}</b>, C::<b>Base.LinAlg.Cholesky{T,S<:AbstractArray{T,2}}</b>) at <a href=\"https://github.com/JuliaLang/julia/tree/2e358ce975029ec97aba5994c17d4a2169c3b085/base/linalg/cholesky.jl#L152\" target=\"_blank\">linalg/cholesky.jl:152</a><li> convert<i>{T}</i>(::<b>Type{Factorization{T}}</b>, C::<b>Base.LinAlg.CholeskyPivoted{T,S<:AbstractArray{T,2}}</b>) at <a href=\"https://github.com/JuliaLang/julia/tree/2e358ce975029ec97aba5994c17d4a2169c3b085/base/linalg/cholesky.jl#L155\" target=\"_blank\">linalg/cholesky.jl:155</a><li> convert<i>{T}</i>(::<b>Type{Factorization{T}}</b>, F::<b>Base.LinAlg.LU{T,S<:AbstractArray{T,2}}</b>) at <a href=\"https://github.com/JuliaLang/julia/tree/2e358ce975029ec97aba5994c17d4a2169c3b085/base/linalg/lu.jl#L102\" target=\"_blank\">linalg/lu.jl:102</a><li> convert<i>{T}</i>(::<b>Type{Factorization{T}}</b>, B::<b>Base.LinAlg.BunchKaufman{T,S<:AbstractArray{T,2}}</b>) at <a href=\"https://github.com/JuliaLang/julia/tree/2e358ce975029ec97aba5994c17d4a2169c3b085/base/linalg/bunchkaufman.jl#L31\" target=\"_blank\">linalg/bunchkaufman.jl:31</a><li> convert<i>{T,S,U}</i>(::<b>Type{Factorization{T}}</b>, F::<b>Base.LinAlg.LDLt{S,U}</b>) at <a href=\"https://github.com/JuliaLang/julia/tree/2e358ce975029ec97aba5994c17d4a2169c3b085/base/linalg/ldlt.jl#L15\" target=\"_blank\">linalg/ldlt.jl:15</a><li> convert<i>{T}</i>(::<b>Type{Factorization{T}}</b>, F::<b>Factorization{T}</b>) at <a href=\"https://github.com/JuliaLang/julia/tree/2e358ce975029ec97aba5994c17d4a2169c3b085/base/linalg/factorization.jl#L21\" target=\"_blank\">linalg/factorization.jl:21</a><li> convert<i>{T}</i>(::<b>Type{Base.LinAlg.QR{T,S<:AbstractArray{T,2}}}</b>, A::<b>Base.LinAlg.QR{T,S<:AbstractArray{T,2}}</b>) at <a href=\"https://github.com/JuliaLang/julia/tree/2e358ce975029ec97aba5994c17d4a2169c3b085/base/linalg/qr.jl#L58\" target=\"_blank\">linalg/qr.jl:58</a><li> convert<i>{T}</i>(::<b>Type{Base.LinAlg.QRCompactWY{T,M<:AbstractArray{T,2}}}</b>, A::<b>Base.LinAlg.QRCompactWY{S,M<:AbstractArray{T,2}}</b>) at <a href=\"https://github.com/JuliaLang/julia/tree/2e358ce975029ec97aba5994c17d4a2169c3b085/base/linalg/qr.jl#L60\" target=\"_blank\">linalg/qr.jl:60</a><li> convert<i>{T}</i>(::<b>Type{Base.LinAlg.QRPivoted{T,S<:AbstractArray{T,2}}}</b>, A::<b>Base.LinAlg.QRPivoted{T,S<:AbstractArray{T,2}}</b>) at <a href=\"https://github.com/JuliaLang/julia/tree/2e358ce975029ec97aba5994c17d4a2169c3b085/base/linalg/qr.jl#L62\" target=\"_blank\">linalg/qr.jl:62</a><li> convert<i>{T}</i>(::<b>Type{Base.LinAlg.QRPackedQ{T,S<:AbstractArray{T,2}}}</b>, Q::<b>Base.LinAlg.QRPackedQ{T,S<:AbstractArray{T,2}}</b>) at <a href=\"https://github.com/JuliaLang/julia/tree/2e358ce975029ec97aba5994c17d4a2169c3b085/base/linalg/qr.jl#L124\" target=\"_blank\">linalg/qr.jl:124</a><li> convert<i>{S}</i>(::<b>Type{Base.LinAlg.QRCompactWYQ{S,M<:AbstractArray{T,2}}}</b>, Q::<b>Base.LinAlg.QRCompactWYQ{S,M<:AbstractArray{T,2}}</b>) at <a href=\"https://github.com/JuliaLang/julia/tree/2e358ce975029ec97aba5994c17d4a2169c3b085/base/linalg/qr.jl#L126\" target=\"_blank\">linalg/qr.jl:126</a><li> convert<i>{Tnew,Told,S}</i>(::<b>Type{Base.LinAlg.Cholesky{Tnew,S<:AbstractArray{T,2}}}</b>, C::<b>Base.LinAlg.Cholesky{Told,S}</b>) at <a href=\"https://github.com/JuliaLang/julia/tree/2e358ce975029ec97aba5994c17d4a2169c3b085/base/linalg/cholesky.jl#L145\" target=\"_blank\">linalg/cholesky.jl:145</a><li> convert<i>{T,S}</i>(::<b>Type{Base.LinAlg.Cholesky{T,S}}</b>, C::<b>Base.LinAlg.Cholesky{T,S<:AbstractArray{T,2}}</b>) at <a href=\"https://github.com/JuliaLang/julia/tree/2e358ce975029ec97aba5994c17d4a2169c3b085/base/linalg/cholesky.jl#L149\" target=\"_blank\">linalg/cholesky.jl:149</a><li> convert<i>{T}</i>(::<b>Type{Base.LinAlg.CholeskyPivoted{T,S<:AbstractArray{T,2}}}</b>, C::<b>Base.LinAlg.CholeskyPivoted{T,S<:AbstractArray{T,2}}</b>) at <a href=\"https://github.com/JuliaLang/julia/tree/2e358ce975029ec97aba5994c17d4a2169c3b085/base/linalg/cholesky.jl#L153\" target=\"_blank\">linalg/cholesky.jl:153</a><li> convert<i>{T}</i>(::<b>Type{Base.LinAlg.LU{T,S<:AbstractArray{T,2}}}</b>, F::<b>Base.LinAlg.LU{T,S<:AbstractArray{T,2}}</b>) at <a href=\"https://github.com/JuliaLang/julia/tree/2e358ce975029ec97aba5994c17d4a2169c3b085/base/linalg/lu.jl#L98\" target=\"_blank\">linalg/lu.jl:98</a><li> convert<i>{T,S}</i>(::<b>Type{Base.LinAlg.LU{T,S}}</b>, F::<b>Base.LinAlg.LU{T,S<:AbstractArray{T,2}}</b>) at <a href=\"https://github.com/JuliaLang/julia/tree/2e358ce975029ec97aba5994c17d4a2169c3b085/base/linalg/lu.jl#L101\" target=\"_blank\">linalg/lu.jl:101</a><li> convert<i>{T}</i>(::<b>Type{Base.LinAlg.BunchKaufman{T,S<:AbstractArray{T,2}}}</b>, B::<b>Base.LinAlg.BunchKaufman{T,S<:AbstractArray{T,2}}</b>) at <a href=\"https://github.com/JuliaLang/julia/tree/2e358ce975029ec97aba5994c17d4a2169c3b085/base/linalg/bunchkaufman.jl#L30\" target=\"_blank\">linalg/bunchkaufman.jl:30</a><li> convert<i>{T,S<:AbstractArray{T,2}}</i>(::<b>Type{Symmetric{T,S<:AbstractArray{T,2}}}</b>, A::<b>Symmetric{T,S<:AbstractArray{T,2}}</b>) at <a href=\"https://github.com/JuliaLang/julia/tree/2e358ce975029ec97aba5994c17d4a2169c3b085/base/linalg/symmetric.jl#L32\" target=\"_blank\">linalg/symmetric.jl:32</a><li> convert<i>{T,S<:AbstractArray{T,2}}</i>(::<b>Type{Symmetric{T,S<:AbstractArray{T,2}}}</b>, A::<b>Symmetric{T,S<:AbstractArray{T,2}}</b>) at <a href=\"https://github.com/JuliaLang/julia/tree/2e358ce975029ec97aba5994c17d4a2169c3b085/base/linalg/symmetric.jl#L33\" target=\"_blank\">linalg/symmetric.jl:33</a><li> convert<i>{T,S<:AbstractArray{T,2}}</i>(::<b>Type{Hermitian{T,S<:AbstractArray{T,2}}}</b>, A::<b>Hermitian{T,S<:AbstractArray{T,2}}</b>) at <a href=\"https://github.com/JuliaLang/julia/tree/2e358ce975029ec97aba5994c17d4a2169c3b085/base/linalg/symmetric.jl#L35\" target=\"_blank\">linalg/symmetric.jl:35</a><li> convert<i>{T,S<:AbstractArray{T,2}}</i>(::<b>Type{Hermitian{T,S<:AbstractArray{T,2}}}</b>, A::<b>Hermitian{T,S<:AbstractArray{T,2}}</b>) at <a href=\"https://github.com/JuliaLang/julia/tree/2e358ce975029ec97aba5994c17d4a2169c3b085/base/linalg/symmetric.jl#L36\" target=\"_blank\">linalg/symmetric.jl:36</a><li> convert<i>{T}</i>(::<b>Type{Diagonal{T}}</b>, D::<b>Diagonal{T}</b>) at <a href=\"https://github.com/JuliaLang/julia/tree/2e358ce975029ec97aba5994c17d4a2169c3b085/base/linalg/diagonal.jl#L10\" target=\"_blank\">linalg/diagonal.jl:10</a><li> convert<i>{T}</i>(::<b>Type{Diagonal{T}}</b>, D::<b>Diagonal{T}</b>) at <a href=\"https://github.com/JuliaLang/julia/tree/2e358ce975029ec97aba5994c17d4a2169c3b085/base/linalg/diagonal.jl#L11\" target=\"_blank\">linalg/diagonal.jl:11</a><li> convert<i>{T}</i>(::<b>Type{UpperTriangular{T,S<:AbstractArray{T,2}}}</b>, A::<b>Diagonal{T}</b>) at <a href=\"https://github.com/JuliaLang/julia/tree/2e358ce975029ec97aba5994c17d4a2169c3b085/base/linalg/diagonal.jl#L13\" target=\"_blank\">linalg/diagonal.jl:13</a><li> convert<i>{T}</i>(::<b>Type{LowerTriangular{T,S<:AbstractArray{T,2}}}</b>, A::<b>Diagonal{T}</b>) at <a href=\"https://github.com/JuliaLang/julia/tree/2e358ce975029ec97aba5994c17d4a2169c3b085/base/linalg/diagonal.jl#L14\" target=\"_blank\">linalg/diagonal.jl:14</a><li> convert<i>{T}</i>(::<b>Type{Tridiagonal{T}}</b>, A::<b>Bidiagonal{T}</b>) at <a href=\"https://github.com/JuliaLang/julia/tree/2e358ce975029ec97aba5994c17d4a2169c3b085/base/linalg/bidiag.jl#L65\" target=\"_blank\">linalg/bidiag.jl:65</a><li> convert<i>{T}</i>(::<b>Type{Base.LinAlg.Givens{T}}</b>, G::<b>Base.LinAlg.Givens{T}</b>) at <a href=\"https://github.com/JuliaLang/julia/tree/2e358ce975029ec97aba5994c17d4a2169c3b085/base/linalg/givens.jl#L27\" target=\"_blank\">linalg/givens.jl:27</a><li> convert<i>{T}</i>(::<b>Type{Base.LinAlg.Givens{T}}</b>, G::<b>Base.LinAlg.Givens{T}</b>) at <a href=\"https://github.com/JuliaLang/julia/tree/2e358ce975029ec97aba5994c17d4a2169c3b085/base/linalg/givens.jl#L28\" target=\"_blank\">linalg/givens.jl:28</a><li> convert<i>{T}</i>(::<b>Type{Base.LinAlg.Rotation{T}}</b>, R::<b>Base.LinAlg.Rotation{T}</b>) at <a href=\"https://github.com/JuliaLang/julia/tree/2e358ce975029ec97aba5994c17d4a2169c3b085/base/linalg/givens.jl#L29\" target=\"_blank\">linalg/givens.jl:29</a><li> convert<i>{T}</i>(::<b>Type{Base.LinAlg.Rotation{T}}</b>, R::<b>Base.LinAlg.Rotation{T}</b>) at <a href=\"https://github.com/JuliaLang/julia/tree/2e358ce975029ec97aba5994c17d4a2169c3b085/base/linalg/givens.jl#L30\" target=\"_blank\">linalg/givens.jl:30</a><li> convert<i>{T}</i>(::<b>Type{Base.LinAlg.AbstractRotation{T}}</b>, G::<b>Base.LinAlg.Givens{T}</b>) at <a href=\"https://github.com/JuliaLang/julia/tree/2e358ce975029ec97aba5994c17d4a2169c3b085/base/linalg/givens.jl#L31\" target=\"_blank\">linalg/givens.jl:31</a><li> convert<i>{T}</i>(::<b>Type{Base.LinAlg.AbstractRotation{T}}</b>, R::<b>Base.LinAlg.Rotation{T}</b>) at <a href=\"https://github.com/JuliaLang/julia/tree/2e358ce975029ec97aba5994c17d4a2169c3b085/base/linalg/givens.jl#L32\" target=\"_blank\">linalg/givens.jl:32</a><li> convert<i>{T}</i>(::<b>Type{Bidiagonal{T}}</b>, A::<b>Diagonal{T}</b>) at <a href=\"https://github.com/JuliaLang/julia/tree/2e358ce975029ec97aba5994c17d4a2169c3b085/base/linalg/special.jl#L6\" target=\"_blank\">linalg/special.jl:6</a><li> convert<i>{T}</i>(::<b>Type{SymTridiagonal{T}}</b>, A::<b>Diagonal{T}</b>) at <a href=\"https://github.com/JuliaLang/julia/tree/2e358ce975029ec97aba5994c17d4a2169c3b085/base/linalg/special.jl#L7\" target=\"_blank\">linalg/special.jl:7</a><li> convert<i>{T}</i>(::<b>Type{Tridiagonal{T}}</b>, A::<b>Diagonal{T}</b>) at <a href=\"https://github.com/JuliaLang/julia/tree/2e358ce975029ec97aba5994c17d4a2169c3b085/base/linalg/special.jl#L8\" target=\"_blank\">linalg/special.jl:8</a><li> convert(::<b>Type{LowerTriangular{T,S<:AbstractArray{T,2}}}</b>, A::<b>Bidiagonal{T}</b>) at <a href=\"https://github.com/JuliaLang/julia/tree/2e358ce975029ec97aba5994c17d4a2169c3b085/base/linalg/special.jl#L9\" target=\"_blank\">linalg/special.jl:9</a><li> convert(::<b>Type{UpperTriangular{T,S<:AbstractArray{T,2}}}</b>, A::<b>Bidiagonal{T}</b>) at <a href=\"https://github.com/JuliaLang/julia/tree/2e358ce975029ec97aba5994c17d4a2169c3b085/base/linalg/special.jl#L10\" target=\"_blank\">linalg/special.jl:10</a><li> convert(::<b>Type{Base.LinAlg.UnitUpperTriangular{T,S<:AbstractArray{T,2}}}</b>, A::<b>Diagonal{T}</b>) at <a href=\"https://github.com/JuliaLang/julia/tree/2e358ce975029ec97aba5994c17d4a2169c3b085/base/linalg/special.jl#L14\" target=\"_blank\">linalg/special.jl:14</a><li> convert(::<b>Type{Base.LinAlg.UnitLowerTriangular{T,S<:AbstractArray{T,2}}}</b>, A::<b>Diagonal{T}</b>) at <a href=\"https://github.com/JuliaLang/julia/tree/2e358ce975029ec97aba5994c17d4a2169c3b085/base/linalg/special.jl#L21\" target=\"_blank\">linalg/special.jl:21</a><li> convert(::<b>Type{Diagonal{T}}</b>, A::<b>Union{Bidiagonal{T},SymTridiagonal{T}}</b>) at <a href=\"https://github.com/JuliaLang/julia/tree/2e358ce975029ec97aba5994c17d4a2169c3b085/base/linalg/special.jl#L28\" target=\"_blank\">linalg/special.jl:28</a><li> convert(::<b>Type{SymTridiagonal{T}}</b>, A::<b>Bidiagonal{T}</b>) at <a href=\"https://github.com/JuliaLang/julia/tree/2e358ce975029ec97aba5994c17d4a2169c3b085/base/linalg/special.jl#L35\" target=\"_blank\">linalg/special.jl:35</a><li> convert<i>{T}</i>(::<b>Type{Tridiagonal{T}}</b>, A::<b>Bidiagonal{T}</b>) at <a href=\"https://github.com/JuliaLang/julia/tree/2e358ce975029ec97aba5994c17d4a2169c3b085/base/linalg/special.jl#L41\" target=\"_blank\">linalg/special.jl:41</a><li> convert(::<b>Type{Bidiagonal{T}}</b>, A::<b>SymTridiagonal{T}</b>) at <a href=\"https://github.com/JuliaLang/julia/tree/2e358ce975029ec97aba5994c17d4a2169c3b085/base/linalg/special.jl#L44\" target=\"_blank\">linalg/special.jl:44</a><li> convert(::<b>Type{Diagonal{T}}</b>, A::<b>Tridiagonal{T}</b>) at <a href=\"https://github.com/JuliaLang/julia/tree/2e358ce975029ec97aba5994c17d4a2169c3b085/base/linalg/special.jl#L51\" target=\"_blank\">linalg/special.jl:51</a><li> convert(::<b>Type{Bidiagonal{T}}</b>, A::<b>Tridiagonal{T}</b>) at <a href=\"https://github.com/JuliaLang/julia/tree/2e358ce975029ec97aba5994c17d4a2169c3b085/base/linalg/special.jl#L58\" target=\"_blank\">linalg/special.jl:58</a><li> convert(::<b>Type{SymTridiagonal{T}}</b>, A::<b>Tridiagonal{T}</b>) at <a href=\"https://github.com/JuliaLang/julia/tree/2e358ce975029ec97aba5994c17d4a2169c3b085/base/linalg/special.jl#L65\" target=\"_blank\">linalg/special.jl:65</a><li> convert(::<b>Type{Diagonal{T}}</b>, A::<b>Base.LinAlg.AbstractTriangular{T,S<:AbstractArray{T,2}}</b>) at <a href=\"https://github.com/JuliaLang/julia/tree/2e358ce975029ec97aba5994c17d4a2169c3b085/base/linalg/special.jl#L76\" target=\"_blank\">linalg/special.jl:76</a><li> convert(::<b>Type{Bidiagonal{T}}</b>, A::<b>Base.LinAlg.AbstractTriangular{T,S<:AbstractArray{T,2}}</b>) at <a href=\"https://github.com/JuliaLang/julia/tree/2e358ce975029ec97aba5994c17d4a2169c3b085/base/linalg/special.jl#L83\" target=\"_blank\">linalg/special.jl:83</a><li> convert(::<b>Type{SymTridiagonal{T}}</b>, A::<b>Base.LinAlg.AbstractTriangular{T,S<:AbstractArray{T,2}}</b>) at <a href=\"https://github.com/JuliaLang/julia/tree/2e358ce975029ec97aba5994c17d4a2169c3b085/base/linalg/special.jl#L93\" target=\"_blank\">linalg/special.jl:93</a><li> convert(::<b>Type{Tridiagonal{T}}</b>, A::<b>Base.LinAlg.AbstractTriangular{T,S<:AbstractArray{T,2}}</b>) at <a href=\"https://github.com/JuliaLang/julia/tree/2e358ce975029ec97aba5994c17d4a2169c3b085/base/linalg/special.jl#L96\" target=\"_blank\">linalg/special.jl:96</a><li> convert<i>{T,S,U<:AbstractArray{T,2}}</i>(::<b>Type{Base.LinAlg.LDLt{T,S<:AbstractArray{T,2}}}</b>, F::<b>Base.LinAlg.LDLt{S,U<:AbstractArray{T,2}}</b>) at <a href=\"https://github.com/JuliaLang/julia/tree/2e358ce975029ec97aba5994c17d4a2169c3b085/base/linalg/ldlt.jl#L13\" target=\"_blank\">linalg/ldlt.jl:13</a><li> convert<i>{T,S}</i>(::<b>Type{Base.LinAlg.LDLt{T,S}}</b>, F::<b>Base.LinAlg.LDLt{T,S<:AbstractArray{T,2}}</b>) at <a href=\"https://github.com/JuliaLang/julia/tree/2e358ce975029ec97aba5994c17d4a2169c3b085/base/linalg/ldlt.jl#L10\" target=\"_blank\">linalg/ldlt.jl:10</a><li> convert<i>{Tv,TvS,TiS}</i>(::<b>Type{SparseMatrixCSC{Tv,Ti<:Integer}}</b>, S::<b>SparseMatrixCSC{TvS,TiS}</b>) at <a href=\"https://github.com/JuliaLang/julia/tree/2e358ce975029ec97aba5994c17d4a2169c3b085/base/sparse/sparsematrix.jl#L203\" target=\"_blank\">sparse/sparsematrix.jl:203</a><li> convert<i>{Tv,Ti,TvS,TiS}</i>(::<b>Type{SparseMatrixCSC{Tv,Ti}}</b>, S::<b>SparseMatrixCSC{TvS,TiS}</b>) at <a href=\"https://github.com/JuliaLang/julia/tree/2e358ce975029ec97aba5994c17d4a2169c3b085/base/sparse/sparsematrix.jl#L192\" target=\"_blank\">sparse/sparsematrix.jl:192</a><li> convert<i>{Tv}</i>(::<b>Type{SparseMatrixCSC{Tv,Int64}}</b>, A::<b>Base.SparseMatrix.CHOLMOD.Sparse{Tv}</b>) at <a href=\"https://github.com/JuliaLang/julia/tree/2e358ce975029ec97aba5994c17d4a2169c3b085/base/sparse/cholmod.jl#L970\" target=\"_blank\">sparse/cholmod.jl:970</a><li> convert<i>{Tv,Ti}</i>(::<b>Type{SparseMatrixCSC{Tv,Ti}}</b>, M::<b>AbstractArray{T,2}</b>) at <a href=\"https://github.com/JuliaLang/julia/tree/2e358ce975029ec97aba5994c17d4a2169c3b085/base/sparse/sparsematrix.jl#L214\" target=\"_blank\">sparse/sparsematrix.jl:214</a><li> convert(::<b>Type{Base.SparseMatrix.CHOLMOD.Dense{T<:Union{Complex{Float64},Float64}}}</b>, A::<b>Union{Array{T,1},Array{T,2}}</b>) at <a href=\"https://github.com/JuliaLang/julia/tree/2e358ce975029ec97aba5994c17d4a2169c3b085/base/sparse/cholmod.jl#L812\" target=\"_blank\">sparse/cholmod.jl:812</a><li> convert(::<b>Type{Base.SparseMatrix.CHOLMOD.Dense{T<:Union{Complex{Float64},Float64}}}</b>, A::<b>Base.SparseMatrix.CHOLMOD.Sparse{Tv<:Union{Complex{Float64},Float64}}</b>) at <a href=\"https://github.com/JuliaLang/julia/tree/2e358ce975029ec97aba5994c17d4a2169c3b085/base/sparse/cholmod.jl#L820\" target=\"_blank\">sparse/cholmod.jl:820</a><li> convert<i>{Tv<:Union{Complex{Float64},Float64}}</i>(::<b>Type{Base.SparseMatrix.CHOLMOD.Sparse{Tv<:Union{Complex{Float64},Float64}}}</b>, m::<b>Integer</b>, n::<b>Integer</b>, colptr::<b>Array{Int64,1}</b>, rowval::<b>Array{Int64,1}</b>, nzval::<b>Array{Tv<:Union{Complex{Float64},Float64},1}</b>, stype) at <a href=\"https://github.com/JuliaLang/julia/tree/2e358ce975029ec97aba5994c17d4a2169c3b085/base/sparse/cholmod.jl#L826\" target=\"_blank\">sparse/cholmod.jl:826</a><li> convert<i>{Tv<:Union{Complex{Float64},Float64}}</i>(::<b>Type{Base.SparseMatrix.CHOLMOD.Sparse{Tv<:Union{Complex{Float64},Float64}}}</b>, m::<b>Integer</b>, n::<b>Integer</b>, colptr::<b>Array{Int64,1}</b>, rowval::<b>Array{Int64,1}</b>, nzval::<b>Array{Tv<:Union{Complex{Float64},Float64},1}</b>) at <a href=\"https://github.com/JuliaLang/julia/tree/2e358ce975029ec97aba5994c17d4a2169c3b085/base/sparse/cholmod.jl#L847\" target=\"_blank\">sparse/cholmod.jl:847</a><li> convert<i>{Tv<:Union{Complex{Float64},Float64}}</i>(::<b>Type{Base.SparseMatrix.CHOLMOD.Sparse{Tv<:Union{Complex{Float64},Float64}}}</b>, A::<b>SparseMatrixCSC{Tv<:Union{Complex{Float64},Float64},Int64}</b>, stype::<b>Integer</b>) at <a href=\"https://github.com/JuliaLang/julia/tree/2e358ce975029ec97aba5994c17d4a2169c3b085/base/sparse/cholmod.jl#L857\" target=\"_blank\">sparse/cholmod.jl:857</a><li> convert<i>{Tv<:Union{Complex{Float64},Float64},Ti<:Union{Int32,Int64}}</i>(::<b>Type{Base.SparseMatrix.CHOLMOD.Sparse{Tv<:Union{Complex{Float64},Float64}}}</b>, A::<b>SparseMatrixCSC{Tv<:Union{Complex{Float64},Float64},Ti<:Union{Int32,Int64}}</b>) at <a href=\"https://github.com/JuliaLang/julia/tree/2e358ce975029ec97aba5994c17d4a2169c3b085/base/sparse/cholmod.jl#L873\" target=\"_blank\">sparse/cholmod.jl:873</a><li> convert<i>{Ti<:Union{Int32,Int64}}</i>(::<b>Type{Base.SparseMatrix.CHOLMOD.Sparse{Tv<:Union{Complex{Float64},Float64}}}</b>, A::<b>SparseMatrixCSC{Float32,Ti<:Union{Int32,Int64}}</b>) at <a href=\"https://github.com/JuliaLang/julia/tree/2e358ce975029ec97aba5994c17d4a2169c3b085/base/sparse/cholmod.jl#L880\" target=\"_blank\">sparse/cholmod.jl:880</a><li> convert<i>{Ti<:Union{Int32,Int64}}</i>(::<b>Type{Base.SparseMatrix.CHOLMOD.Sparse{Tv<:Union{Complex{Float64},Float64}}}</b>, A::<b>SparseMatrixCSC{Complex{Float32},Ti<:Union{Int32,Int64}}</b>) at <a href=\"https://github.com/JuliaLang/julia/tree/2e358ce975029ec97aba5994c17d4a2169c3b085/base/sparse/cholmod.jl#L881\" target=\"_blank\">sparse/cholmod.jl:881</a><li> convert(::<b>Type{Base.SparseMatrix.CHOLMOD.Sparse{Tv<:Union{Complex{Float64},Float64}}}</b>, A::<b>Symmetric{Float64,SparseMatrixCSC{Float64,Int64}}</b>) at <a href=\"https://github.com/JuliaLang/julia/tree/2e358ce975029ec97aba5994c17d4a2169c3b085/base/sparse/cholmod.jl#L882\" target=\"_blank\">sparse/cholmod.jl:882</a><li> convert<i>{Tv<:Union{Complex{Float64},Float64}}</i>(::<b>Type{Base.SparseMatrix.CHOLMOD.Sparse{Tv<:Union{Complex{Float64},Float64}}}</b>, A::<b>Hermitian{Tv<:Union{Complex{Float64},Float64},SparseMatrixCSC{Tv<:Union{Complex{Float64},Float64},Int64}}</b>) at <a href=\"https://github.com/JuliaLang/julia/tree/2e358ce975029ec97aba5994c17d4a2169c3b085/base/sparse/cholmod.jl#L883\" target=\"_blank\">sparse/cholmod.jl:883</a><li> convert<i>{T,Ti<:Union{Int32,Int64}}</i>(::<b>Type{Base.SparseMatrix.CHOLMOD.Sparse{Tv<:Union{Complex{Float64},Float64}}}</b>, A::<b>Union{Hermitian{T,SparseMatrixCSC{T,Ti<:Union{Int32,Int64}}},SparseMatrixCSC{T,Ti<:Union{Int32,Int64}},Symmetric{T,SparseMatrixCSC{T,Ti<:Union{Int32,Int64}}}}</b>, args...) at <a href=\"https://github.com/JuliaLang/julia/tree/2e358ce975029ec97aba5994c17d4a2169c3b085/base/sparse/cholmod.jl#L889\" target=\"_blank\">sparse/cholmod.jl:889</a><li> convert(::<b>Type{Base.SparseMatrix.CHOLMOD.Sparse{Tv<:Union{Complex{Float64},Float64}}}</b>, p::<b>Ptr{Base.SparseMatrix.CHOLMOD.C_SparseVoid}</b>) at <a href=\"https://github.com/JuliaLang/julia/tree/2e358ce975029ec97aba5994c17d4a2169c3b085/base/sparse/cholmod.jl#L895\" target=\"_blank\">sparse/cholmod.jl:895</a><li> convert(::<b>Type{Base.SparseMatrix.CHOLMOD.Sparse{Tv<:Union{Complex{Float64},Float64}}}</b>, A::<b>Base.SparseMatrix.CHOLMOD.Dense{T<:Union{Complex{Float64},Float64}}</b>) at <a href=\"https://github.com/JuliaLang/julia/tree/2e358ce975029ec97aba5994c17d4a2169c3b085/base/sparse/cholmod.jl#L937\" target=\"_blank\">sparse/cholmod.jl:937</a><li> convert(::<b>Type{Base.SparseMatrix.CHOLMOD.Sparse{Tv<:Union{Complex{Float64},Float64}}}</b>, L::<b>Base.SparseMatrix.CHOLMOD.Factor{Tv}</b>) at <a href=\"https://github.com/JuliaLang/julia/tree/2e358ce975029ec97aba5994c17d4a2169c3b085/base/sparse/cholmod.jl#L938\" target=\"_blank\">sparse/cholmod.jl:938</a><li> convert(::<b>Type{Base.SparseMatrix.CHOLMOD.Sparse{Tv<:Union{Complex{Float64},Float64}}}</b>, filename::<b>ByteString</b>) at <a href=\"https://github.com/JuliaLang/julia/tree/2e358ce975029ec97aba5994c17d4a2169c3b085/base/sparse/cholmod.jl#L940\" target=\"_blank\">sparse/cholmod.jl:940</a><li> convert(::<b>Type{Symmetric{Float64,SparseMatrixCSC{Float64,Int64}}}</b>, A::<b>Base.SparseMatrix.CHOLMOD.Sparse{Float64}</b>) at <a href=\"https://github.com/JuliaLang/julia/tree/2e358ce975029ec97aba5994c17d4a2169c3b085/base/sparse/cholmod.jl#L977\" target=\"_blank\">sparse/cholmod.jl:977</a><li> convert<i>{Tv<:Union{Complex{Float64},Float64}}</i>(::<b>Type{Hermitian{Tv<:Union{Complex{Float64},Float64},SparseMatrixCSC{Tv<:Union{Complex{Float64},Float64},Int64}}}</b>, A::<b>Base.SparseMatrix.CHOLMOD.Sparse{Tv<:Union{Complex{Float64},Float64}}</b>) at <a href=\"https://github.com/JuliaLang/julia/tree/2e358ce975029ec97aba5994c17d4a2169c3b085/base/sparse/cholmod.jl#L984\" target=\"_blank\">sparse/cholmod.jl:984</a><li> convert(::<b>Type{AbstractFloat}</b>, x::<b>Irrational{sym}</b>) at <a href=\"https://github.com/JuliaLang/julia/tree/2e358ce975029ec97aba5994c17d4a2169c3b085/base/irrationals.jl#L13\" target=\"_blank\">irrationals.jl:13</a><li> convert(::<b>Type{Float16}</b>, x::<b>Irrational{sym}</b>) at <a href=\"https://github.com/JuliaLang/julia/tree/2e358ce975029ec97aba5994c17d4a2169c3b085/base/irrationals.jl#L14\" target=\"_blank\">irrationals.jl:14</a><li> convert<i>{T<:Integer}</i>(::<b>Type{Rational{T<:Integer}}</b>, x::<b>Irrational{sym}</b>) at <a href=\"https://github.com/JuliaLang/julia/tree/2e358ce975029ec97aba5994c17d4a2169c3b085/base/irrationals.jl#L16\" target=\"_blank\">irrationals.jl:16</a><li> convert(::<b>Type{BigFloat}</b>, ::<b>Irrational{:π}</b>) at <a href=\"https://github.com/JuliaLang/julia/tree/2e358ce975029ec97aba5994c17d4a2169c3b085/base/irrationals.jl#L80\" target=\"_blank\">irrationals.jl:80</a><li> convert(::<b>Type{Float64}</b>, ::<b>Irrational{:π}</b>) at <a href=\"https://github.com/JuliaLang/julia/tree/2e358ce975029ec97aba5994c17d4a2169c3b085/base/irrationals.jl#L92\" target=\"_blank\">irrationals.jl:92</a><li> convert(::<b>Type{Float32}</b>, ::<b>Irrational{:π}</b>) at <a href=\"https://github.com/JuliaLang/julia/tree/2e358ce975029ec97aba5994c17d4a2169c3b085/base/irrationals.jl#L93\" target=\"_blank\">irrationals.jl:93</a><li> convert(::<b>Type{BigFloat}</b>, ::<b>Irrational{:e}</b>) at <a href=\"https://github.com/JuliaLang/julia/tree/2e358ce975029ec97aba5994c17d4a2169c3b085/base/irrationals.jl#L87\" target=\"_blank\">irrationals.jl:87</a><li> convert(::<b>Type{Float64}</b>, ::<b>Irrational{:e}</b>) at <a href=\"https://github.com/JuliaLang/julia/tree/2e358ce975029ec97aba5994c17d4a2169c3b085/base/irrationals.jl#L92\" target=\"_blank\">irrationals.jl:92</a><li> convert(::<b>Type{Float32}</b>, ::<b>Irrational{:e}</b>) at <a href=\"https://github.com/JuliaLang/julia/tree/2e358ce975029ec97aba5994c17d4a2169c3b085/base/irrationals.jl#L93\" target=\"_blank\">irrationals.jl:93</a><li> convert(::<b>Type{BigFloat}</b>, ::<b>Irrational{:γ}</b>) at <a href=\"https://github.com/JuliaLang/julia/tree/2e358ce975029ec97aba5994c17d4a2169c3b085/base/irrationals.jl#L80\" target=\"_blank\">irrationals.jl:80</a><li> convert(::<b>Type{Float64}</b>, ::<b>Irrational{:γ}</b>) at <a href=\"https://github.com/JuliaLang/julia/tree/2e358ce975029ec97aba5994c17d4a2169c3b085/base/irrationals.jl#L92\" target=\"_blank\">irrationals.jl:92</a><li> convert(::<b>Type{Float32}</b>, ::<b>Irrational{:γ}</b>) at <a href=\"https://github.com/JuliaLang/julia/tree/2e358ce975029ec97aba5994c17d4a2169c3b085/base/irrationals.jl#L93\" target=\"_blank\">irrationals.jl:93</a><li> convert(::<b>Type{BigFloat}</b>, ::<b>Irrational{:catalan}</b>) at <a href=\"https://github.com/JuliaLang/julia/tree/2e358ce975029ec97aba5994c17d4a2169c3b085/base/irrationals.jl#L80\" target=\"_blank\">irrationals.jl:80</a><li> convert(::<b>Type{Float64}</b>, ::<b>Irrational{:catalan}</b>) at <a href=\"https://github.com/JuliaLang/julia/tree/2e358ce975029ec97aba5994c17d4a2169c3b085/base/irrationals.jl#L92\" target=\"_blank\">irrationals.jl:92</a><li> convert(::<b>Type{Float32}</b>, ::<b>Irrational{:catalan}</b>) at <a href=\"https://github.com/JuliaLang/julia/tree/2e358ce975029ec97aba5994c17d4a2169c3b085/base/irrationals.jl#L93\" target=\"_blank\">irrationals.jl:93</a><li> convert(::<b>Type{BigFloat}</b>, ::<b>Irrational{:φ}</b>) at <a href=\"https://github.com/JuliaLang/julia/tree/2e358ce975029ec97aba5994c17d4a2169c3b085/base/irrationals.jl#L87\" target=\"_blank\">irrationals.jl:87</a><li> convert(::<b>Type{Float64}</b>, ::<b>Irrational{:φ}</b>) at <a href=\"https://github.com/JuliaLang/julia/tree/2e358ce975029ec97aba5994c17d4a2169c3b085/base/irrationals.jl#L92\" target=\"_blank\">irrationals.jl:92</a><li> convert(::<b>Type{Float32}</b>, ::<b>Irrational{:φ}</b>) at <a href=\"https://github.com/JuliaLang/julia/tree/2e358ce975029ec97aba5994c17d4a2169c3b085/base/irrationals.jl#L93\" target=\"_blank\">irrationals.jl:93</a><li> convert<i>{T<:Number}</i>(::<b>Type{T<:Number}</b>, x::<b>Base.Dates.Period</b>) at <a href=\"https://github.com/JuliaLang/julia/tree/2e358ce975029ec97aba5994c17d4a2169c3b085/base/dates/periods.jl#L40\" target=\"_blank\">dates/periods.jl:40</a><li> convert<i>{T<:Base.Dates.Period}</i>(::<b>Type{T<:Base.Dates.Period}</b>, x::<b>Real</b>) at <a href=\"https://github.com/JuliaLang/julia/tree/2e358ce975029ec97aba5994c17d4a2169c3b085/base/dates/periods.jl#L41\" target=\"_blank\">dates/periods.jl:41</a><li> convert(::<b>Type{Base.Dates.CompoundPeriod}</b>, x::<b>Base.Dates.Period</b>) at <a href=\"https://github.com/JuliaLang/julia/tree/2e358ce975029ec97aba5994c17d4a2169c3b085/base/dates/periods.jl#L194\" target=\"_blank\">dates/periods.jl:194</a><li> convert(::<b>Type{Base.Dates.Week}</b>, x::<b>Base.Dates.Day</b>) at <a href=\"https://github.com/JuliaLang/julia/tree/2e358ce975029ec97aba5994c17d4a2169c3b085/base/dates/periods.jl#L296\" target=\"_blank\">dates/periods.jl:296</a><li> convert(::<b>Type{Base.Dates.Week}</b>, x::<b>Base.Dates.Hour</b>) at <a href=\"https://github.com/JuliaLang/julia/tree/2e358ce975029ec97aba5994c17d4a2169c3b085/base/dates/periods.jl#L296\" target=\"_blank\">dates/periods.jl:296</a><li> convert(::<b>Type{Base.Dates.Week}</b>, x::<b>Base.Dates.Minute</b>) at <a href=\"https://github.com/JuliaLang/julia/tree/2e358ce975029ec97aba5994c17d4a2169c3b085/base/dates/periods.jl#L296\" target=\"_blank\">dates/periods.jl:296</a><li> convert(::<b>Type{Base.Dates.Week}</b>, x::<b>Base.Dates.Second</b>) at <a href=\"https://github.com/JuliaLang/julia/tree/2e358ce975029ec97aba5994c17d4a2169c3b085/base/dates/periods.jl#L296\" target=\"_blank\">dates/periods.jl:296</a><li> convert(::<b>Type{Base.Dates.Week}</b>, x::<b>Base.Dates.Millisecond</b>) at <a href=\"https://github.com/JuliaLang/julia/tree/2e358ce975029ec97aba5994c17d4a2169c3b085/base/dates/periods.jl#L296\" target=\"_blank\">dates/periods.jl:296</a><li> convert(::<b>Type{Base.Dates.Day}</b>, x::<b>Base.Dates.Week</b>) at <a href=\"https://github.com/JuliaLang/julia/tree/2e358ce975029ec97aba5994c17d4a2169c3b085/base/dates/periods.jl#L289\" target=\"_blank\">dates/periods.jl:289</a><li> convert(::<b>Type{Base.Dates.Day}</b>, x::<b>Base.Dates.Hour</b>) at <a href=\"https://github.com/JuliaLang/julia/tree/2e358ce975029ec97aba5994c17d4a2169c3b085/base/dates/periods.jl#L296\" target=\"_blank\">dates/periods.jl:296</a><li> convert(::<b>Type{Base.Dates.Day}</b>, x::<b>Base.Dates.Minute</b>) at <a href=\"https://github.com/JuliaLang/julia/tree/2e358ce975029ec97aba5994c17d4a2169c3b085/base/dates/periods.jl#L296\" target=\"_blank\">dates/periods.jl:296</a><li> convert(::<b>Type{Base.Dates.Day}</b>, x::<b>Base.Dates.Second</b>) at <a href=\"https://github.com/JuliaLang/julia/tree/2e358ce975029ec97aba5994c17d4a2169c3b085/base/dates/periods.jl#L296\" target=\"_blank\">dates/periods.jl:296</a><li> convert(::<b>Type{Base.Dates.Day}</b>, x::<b>Base.Dates.Millisecond</b>) at <a href=\"https://github.com/JuliaLang/julia/tree/2e358ce975029ec97aba5994c17d4a2169c3b085/base/dates/periods.jl#L296\" target=\"_blank\">dates/periods.jl:296</a><li> convert(::<b>Type{Base.Dates.Hour}</b>, x::<b>Base.Dates.Day</b>) at <a href=\"https://github.com/JuliaLang/julia/tree/2e358ce975029ec97aba5994c17d4a2169c3b085/base/dates/periods.jl#L289\" target=\"_blank\">dates/periods.jl:289</a><li> convert(::<b>Type{Base.Dates.Hour}</b>, x::<b>Base.Dates.Week</b>) at <a href=\"https://github.com/JuliaLang/julia/tree/2e358ce975029ec97aba5994c17d4a2169c3b085/base/dates/periods.jl#L289\" target=\"_blank\">dates/periods.jl:289</a><li> convert(::<b>Type{Base.Dates.Hour}</b>, x::<b>Base.Dates.Minute</b>) at <a href=\"https://github.com/JuliaLang/julia/tree/2e358ce975029ec97aba5994c17d4a2169c3b085/base/dates/periods.jl#L296\" target=\"_blank\">dates/periods.jl:296</a><li> convert(::<b>Type{Base.Dates.Hour}</b>, x::<b>Base.Dates.Second</b>) at <a href=\"https://github.com/JuliaLang/julia/tree/2e358ce975029ec97aba5994c17d4a2169c3b085/base/dates/periods.jl#L296\" target=\"_blank\">dates/periods.jl:296</a><li> convert(::<b>Type{Base.Dates.Hour}</b>, x::<b>Base.Dates.Millisecond</b>) at <a href=\"https://github.com/JuliaLang/julia/tree/2e358ce975029ec97aba5994c17d4a2169c3b085/base/dates/periods.jl#L296\" target=\"_blank\">dates/periods.jl:296</a><li> convert(::<b>Type{Base.Dates.Minute}</b>, x::<b>Base.Dates.Hour</b>) at <a href=\"https://github.com/JuliaLang/julia/tree/2e358ce975029ec97aba5994c17d4a2169c3b085/base/dates/periods.jl#L289\" target=\"_blank\">dates/periods.jl:289</a><li> convert(::<b>Type{Base.Dates.Minute}</b>, x::<b>Base.Dates.Day</b>) at <a href=\"https://github.com/JuliaLang/julia/tree/2e358ce975029ec97aba5994c17d4a2169c3b085/base/dates/periods.jl#L289\" target=\"_blank\">dates/periods.jl:289</a><li> convert(::<b>Type{Base.Dates.Minute}</b>, x::<b>Base.Dates.Week</b>) at <a href=\"https://github.com/JuliaLang/julia/tree/2e358ce975029ec97aba5994c17d4a2169c3b085/base/dates/periods.jl#L289\" target=\"_blank\">dates/periods.jl:289</a><li> convert(::<b>Type{Base.Dates.Minute}</b>, x::<b>Base.Dates.Second</b>) at <a href=\"https://github.com/JuliaLang/julia/tree/2e358ce975029ec97aba5994c17d4a2169c3b085/base/dates/periods.jl#L296\" target=\"_blank\">dates/periods.jl:296</a><li> convert(::<b>Type{Base.Dates.Minute}</b>, x::<b>Base.Dates.Millisecond</b>) at <a href=\"https://github.com/JuliaLang/julia/tree/2e358ce975029ec97aba5994c17d4a2169c3b085/base/dates/periods.jl#L296\" target=\"_blank\">dates/periods.jl:296</a><li> convert(::<b>Type{Base.Dates.Second}</b>, x::<b>Base.Dates.Minute</b>) at <a href=\"https://github.com/JuliaLang/julia/tree/2e358ce975029ec97aba5994c17d4a2169c3b085/base/dates/periods.jl#L289\" target=\"_blank\">dates/periods.jl:289</a><li> convert(::<b>Type{Base.Dates.Second}</b>, x::<b>Base.Dates.Hour</b>) at <a href=\"https://github.com/JuliaLang/julia/tree/2e358ce975029ec97aba5994c17d4a2169c3b085/base/dates/periods.jl#L289\" target=\"_blank\">dates/periods.jl:289</a><li> convert(::<b>Type{Base.Dates.Second}</b>, x::<b>Base.Dates.Day</b>) at <a href=\"https://github.com/JuliaLang/julia/tree/2e358ce975029ec97aba5994c17d4a2169c3b085/base/dates/periods.jl#L289\" target=\"_blank\">dates/periods.jl:289</a><li> convert(::<b>Type{Base.Dates.Second}</b>, x::<b>Base.Dates.Week</b>) at <a href=\"https://github.com/JuliaLang/julia/tree/2e358ce975029ec97aba5994c17d4a2169c3b085/base/dates/periods.jl#L289\" target=\"_blank\">dates/periods.jl:289</a><li> convert(::<b>Type{Base.Dates.Second}</b>, x::<b>Base.Dates.Millisecond</b>) at <a href=\"https://github.com/JuliaLang/julia/tree/2e358ce975029ec97aba5994c17d4a2169c3b085/base/dates/periods.jl#L296\" target=\"_blank\">dates/periods.jl:296</a><li> convert(::<b>Type{Base.Dates.Millisecond}</b>, x::<b>Base.Dates.Second</b>) at <a href=\"https://github.com/JuliaLang/julia/tree/2e358ce975029ec97aba5994c17d4a2169c3b085/base/dates/periods.jl#L289\" target=\"_blank\">dates/periods.jl:289</a><li> convert(::<b>Type{Base.Dates.Millisecond}</b>, x::<b>Base.Dates.Minute</b>) at <a href=\"https://github.com/JuliaLang/julia/tree/2e358ce975029ec97aba5994c17d4a2169c3b085/base/dates/periods.jl#L289\" target=\"_blank\">dates/periods.jl:289</a><li> convert(::<b>Type{Base.Dates.Millisecond}</b>, x::<b>Base.Dates.Hour</b>) at <a href=\"https://github.com/JuliaLang/julia/tree/2e358ce975029ec97aba5994c17d4a2169c3b085/base/dates/periods.jl#L289\" target=\"_blank\">dates/periods.jl:289</a><li> convert(::<b>Type{Base.Dates.Millisecond}</b>, x::<b>Base.Dates.Day</b>) at <a href=\"https://github.com/JuliaLang/julia/tree/2e358ce975029ec97aba5994c17d4a2169c3b085/base/dates/periods.jl#L289\" target=\"_blank\">dates/periods.jl:289</a><li> convert(::<b>Type{Base.Dates.Millisecond}</b>, x::<b>Base.Dates.Week</b>) at <a href=\"https://github.com/JuliaLang/julia/tree/2e358ce975029ec97aba5994c17d4a2169c3b085/base/dates/periods.jl#L289\" target=\"_blank\">dates/periods.jl:289</a><li> convert(::<b>Type{Base.Dates.Month}</b>, x::<b>Base.Dates.Year</b>) at <a href=\"https://github.com/JuliaLang/julia/tree/2e358ce975029ec97aba5994c17d4a2169c3b085/base/dates/periods.jl#L309\" target=\"_blank\">dates/periods.jl:309</a><li> convert(::<b>Type{Base.Dates.Year}</b>, x::<b>Base.Dates.Month</b>) at <a href=\"https://github.com/JuliaLang/julia/tree/2e358ce975029ec97aba5994c17d4a2169c3b085/base/dates/periods.jl#L313\" target=\"_blank\">dates/periods.jl:313</a><li> convert(::<b>Type{DateTime}</b>, dt::<b>Date</b>) at <a href=\"https://github.com/JuliaLang/julia/tree/2e358ce975029ec97aba5994c17d4a2169c3b085/base/dates/conversions.jl#L6\" target=\"_blank\">dates/conversions.jl:6</a><li> convert(::<b>Type{Date}</b>, dt::<b>DateTime</b>) at <a href=\"https://github.com/JuliaLang/julia/tree/2e358ce975029ec97aba5994c17d4a2169c3b085/base/dates/conversions.jl#L7\" target=\"_blank\">dates/conversions.jl:7</a><li> convert<i>{R<:Real}</i>(::<b>Type{R<:Real}</b>, x::<b>DateTime</b>) at <a href=\"https://github.com/JuliaLang/julia/tree/2e358ce975029ec97aba5994c17d4a2169c3b085/base/dates/conversions.jl#L8\" target=\"_blank\">dates/conversions.jl:8</a><li> convert<i>{R<:Real}</i>(::<b>Type{R<:Real}</b>, x::<b>Date</b>) at <a href=\"https://github.com/JuliaLang/julia/tree/2e358ce975029ec97aba5994c17d4a2169c3b085/base/dates/conversions.jl#L9\" target=\"_blank\">dates/conversions.jl:9</a><li> convert<i>{T}</i>(::<b>Type{Ptr{T}}</b>, x::<b>Signed</b>) at <a href=\"https://github.com/JuliaLang/julia/tree/2e358ce975029ec97aba5994c17d4a2169c3b085/base/deprecated.jl#L427\" target=\"_blank\">deprecated.jl:427</a><li> convert<i>{T}</i>(::<b>Type{Ptr{T}}</b>, x::<b>Integer</b>) at <a href=\"https://github.com/JuliaLang/julia/tree/2e358ce975029ec97aba5994c17d4a2169c3b085/base/deprecated.jl#L423\" target=\"_blank\">deprecated.jl:423</a><li> convert(::<b>Type{IOStream}</b>, zmsg::<b>LastMain.LastMain.LastMain.LastMain.LastMain.LastMain.LastMain.LastMain.LastMain.LastMain.LastMain.LastMain.LastMain.LastMain.LastMain.ZMQ.Message</b>) at <a href=\"https://github.com/JuliaLang/ZMQ.jl/tree/57786eaac5641bd56ca52b3806e4dd766c892409/src/ZMQ.jl#L449\" target=\"_blank\">/Users/dpsanders/.julia/v0.4/ZMQ/src/ZMQ.jl:449</a><li> convert(::<b>Type{AbstractFloat}</b>, x::<b>Vol{N,T<:Real}</b>) at In[129]:2<li> convert<i>{T}</i>(::<b>Type{T}</b>, x::<b>T</b>) at <a href=\"https://github.com/JuliaLang/julia/tree/2e358ce975029ec97aba5994c17d4a2169c3b085/base/essentials.jl#L59\" target=\"_blank\">essentials.jl:59</a></ul>"
      ],
      "text/plain": [
       "# 538 methods for generic function \"convert\":\n",
       "convert(::Type{Tuple{}}, ::Tuple{}) at essentials.jl:61\n",
       "convert{T<:Tuple{Any,Vararg{Any}}}(::Type{T<:Tuple{Any,Vararg{Any}}}, x::T<:Tuple{Any,Vararg{Any}}) at essentials.jl:98\n",
       "convert{T<:Tuple{Any,Vararg{Any}}}(::Type{T<:Tuple{Any,Vararg{Any}}}, x::Tuple{Any,Vararg{Any}}) at essentials.jl:96\n",
       "convert(::Type{Tuple}, x::Tuple) at essentials.jl:62\n",
       "convert{T}(::Type{Tuple{Vararg{T}}}, x::Tuple) at essentials.jl:63\n",
       "convert{T<:Union{Int8,UInt8}}(::Type{Cstring}, p::Ptr{T<:Union{Int8,UInt8}}) at c.jl:61\n",
       "convert(::Type{Cwstring}, p::Ptr{Int32}) at c.jl:62\n",
       "convert{T<:Union{Int8,UInt8}}(::Type{Ptr{T<:Union{Int8,UInt8}}}, p::Cstring) at c.jl:63\n",
       "convert(::Type{Ptr{Int32}}, p::Cwstring) at c.jl:64\n",
       "convert(::Type{Cstring}, s::Symbol) at c.jl:83\n",
       "convert{T}(::Type{UnitRange{T}}, r::UnitRange{T}) at range.jl:587\n",
       "convert{T}(::Type{UnitRange{T}}, r::UnitRange{T<:Real}) at range.jl:588\n",
       "convert{T1,T2}(::Type{StepRange{T1,T2}}, r::StepRange{T1,T2}) at range.jl:592\n",
       "convert{T}(::Type{StepRange{T,S}}, r::UnitRange{T}) at range.jl:598\n",
       "convert{T1,T2}(::Type{StepRange{T1,T2}}, r::Range{T}) at range.jl:596\n",
       "convert{T}(::Type{FloatRange{T}}, r::FloatRange{T}) at range.jl:603\n",
       "convert{T}(::Type{FloatRange{T}}, r::FloatRange{T<:AbstractFloat}) at range.jl:604\n",
       "convert{T}(::Type{FloatRange{T<:AbstractFloat}}, r::OrdinalRange{T,S}) at range.jl:611\n",
       "convert{T}(::Type{FloatRange{T}}, r::OrdinalRange{T,S}) at range.jl:609\n",
       "convert{T}(::Type{LinSpace{T}}, r::LinSpace{T}) at range.jl:616\n",
       "convert{T}(::Type{LinSpace{T}}, r::LinSpace{T<:AbstractFloat}) at range.jl:617\n",
       "convert{T}(::Type{LinSpace{T<:AbstractFloat}}, r::OrdinalRange{T,S}) at range.jl:624\n",
       "convert{T}(::Type{LinSpace{T}}, r::OrdinalRange{T,S}) at range.jl:622\n",
       "convert{T}(::Type{LinSpace{T}}, r::FloatRange{T<:AbstractFloat}) at range.jl:630\n",
       "convert{T}(::Type{LinSpace{T<:AbstractFloat}}, r::FloatRange{T}) at range.jl:632\n",
       "convert{T}(::Type{Array{T,1}}, r::Range{T}) at range.jl:671\n",
       "convert(::Type{Bool}, x::Bool) at bool.jl:5\n",
       "convert(::Type{Bool}, x::Rational{T<:Integer}) at rational.jl:75\n",
       "convert(::Type{Bool}, x::Float16) at float16.jl:101\n",
       "convert(::Type{Bool}, x::BigFloat) at mpfr.jl:164\n",
       "convert(::Type{Bool}, x::Real) at bool.jl:6\n",
       "convert(::Type{Int8}, x::UInt8) at int.jl:193\n",
       "convert(::Type{Int8}, x::Int16) at int.jl:172\n",
       "convert(::Type{Int8}, x::UInt16) at int.jl:170\n",
       "convert(::Type{Int8}, x::Int32) at int.jl:172\n",
       "convert(::Type{Int8}, x::UInt32) at int.jl:170\n",
       "convert(::Type{Int8}, x::Int64) at int.jl:172\n",
       "convert(::Type{Int8}, x::UInt64) at int.jl:170\n",
       "convert(::Type{Int8}, x::Int128) at int.jl:172\n",
       "convert(::Type{Int8}, x::UInt128) at int.jl:170\n",
       "convert(::Type{Int8}, x::Bool) at int.jl:187\n",
       "convert(::Type{UInt8}, x::Int8) at int.jl:193\n",
       "convert(::Type{UInt8}, x::Int16) at int.jl:175\n",
       "convert(::Type{UInt8}, x::UInt16) at int.jl:175\n",
       "convert(::Type{UInt8}, x::Int32) at int.jl:175\n",
       "convert(::Type{UInt8}, x::UInt32) at int.jl:175\n",
       "convert(::Type{UInt8}, x::Int64) at int.jl:175\n",
       "convert(::Type{UInt8}, x::UInt64) at int.jl:175\n",
       "convert(::Type{UInt8}, x::Int128) at int.jl:175\n",
       "convert(::Type{UInt8}, x::UInt128) at int.jl:175\n",
       "convert(::Type{UInt8}, x::Bool) at int.jl:187\n",
       "convert(::Type{Int16}, x::Int8) at int.jl:183\n",
       "convert(::Type{Int16}, x::UInt8) at int.jl:187\n",
       "convert(::Type{Int16}, x::UInt16) at int.jl:193\n",
       "convert(::Type{Int16}, x::Int32) at int.jl:172\n",
       "convert(::Type{Int16}, x::UInt32) at int.jl:170\n",
       "convert(::Type{Int16}, x::Int64) at int.jl:172\n",
       "convert(::Type{Int16}, x::UInt64) at int.jl:170\n",
       "convert(::Type{Int16}, x::Int128) at int.jl:172\n",
       "convert(::Type{Int16}, x::UInt128) at int.jl:170\n",
       "convert(::Type{Int16}, x::Bool) at int.jl:187\n",
       "convert(::Type{UInt16}, x::Int8) at int.jl:181\n",
       "convert(::Type{UInt16}, x::UInt8) at int.jl:187\n",
       "convert(::Type{UInt16}, x::Int16) at int.jl:193\n",
       "convert(::Type{UInt16}, x::Int32) at int.jl:175\n",
       "convert(::Type{UInt16}, x::UInt32) at int.jl:175\n",
       "convert(::Type{UInt16}, x::Int64) at int.jl:175\n",
       "convert(::Type{UInt16}, x::UInt64) at int.jl:175\n",
       "convert(::Type{UInt16}, x::Int128) at int.jl:175\n",
       "convert(::Type{UInt16}, x::UInt128) at int.jl:175\n",
       "convert(::Type{UInt16}, x::Bool) at int.jl:187\n",
       "convert(::Type{Int32}, x::Int8) at int.jl:183\n",
       "convert(::Type{Int32}, x::UInt8) at int.jl:187\n",
       "convert(::Type{Int32}, x::Int16) at int.jl:183\n",
       "convert(::Type{Int32}, x::UInt16) at int.jl:187\n",
       "convert(::Type{Int32}, x::UInt32) at int.jl:193\n",
       "convert(::Type{Int32}, x::Int64) at int.jl:172\n",
       "convert(::Type{Int32}, x::UInt64) at int.jl:170\n",
       "convert(::Type{Int32}, x::Int128) at int.jl:172\n",
       "convert(::Type{Int32}, x::UInt128) at int.jl:170\n",
       "convert(::Type{Int32}, x::Bool) at int.jl:187\n",
       "convert(::Type{UInt32}, x::Int8) at int.jl:181\n",
       "convert(::Type{UInt32}, x::UInt8) at int.jl:187\n",
       "convert(::Type{UInt32}, x::Int16) at int.jl:181\n",
       "convert(::Type{UInt32}, x::UInt16) at int.jl:187\n",
       "convert(::Type{UInt32}, x::Int32) at int.jl:193\n",
       "convert(::Type{UInt32}, x::Int64) at int.jl:175\n",
       "convert(::Type{UInt32}, x::UInt64) at int.jl:175\n",
       "convert(::Type{UInt32}, x::Int128) at int.jl:175\n",
       "convert(::Type{UInt32}, x::UInt128) at int.jl:175\n",
       "convert(::Type{UInt32}, x::Bool) at int.jl:187\n",
       "convert(::Type{Int64}, x::Int8) at int.jl:183\n",
       "convert(::Type{Int64}, x::UInt8) at int.jl:187\n",
       "convert(::Type{Int64}, x::Int16) at int.jl:183\n",
       "convert(::Type{Int64}, x::UInt16) at int.jl:187\n",
       "convert(::Type{Int64}, x::Int32) at int.jl:183\n",
       "convert(::Type{Int64}, x::UInt32) at int.jl:187\n",
       "convert(::Type{Int64}, x::UInt64) at int.jl:193\n",
       "convert(::Type{Int64}, x::Int128) at int.jl:172\n",
       "convert(::Type{Int64}, x::UInt128) at int.jl:170\n",
       "convert(::Type{Int64}, x::Bool) at int.jl:187\n",
       "convert(::Type{UInt64}, x::Int8) at int.jl:181\n",
       "convert(::Type{UInt64}, x::UInt8) at int.jl:187\n",
       "convert(::Type{UInt64}, x::Int16) at int.jl:181\n",
       "convert(::Type{UInt64}, x::UInt16) at int.jl:187\n",
       "convert(::Type{UInt64}, x::Int32) at int.jl:181\n",
       "convert(::Type{UInt64}, x::UInt32) at int.jl:187\n",
       "convert(::Type{UInt64}, x::Int64) at int.jl:193\n",
       "convert(::Type{UInt64}, x::Int128) at int.jl:175\n",
       "convert(::Type{UInt64}, x::UInt128) at int.jl:175\n",
       "convert(::Type{UInt64}, x::Bool) at int.jl:187\n",
       "convert(::Type{Int128}, x::Int8) at int.jl:183\n",
       "convert(::Type{Int128}, x::UInt8) at int.jl:187\n",
       "convert(::Type{Int128}, x::Int16) at int.jl:183\n",
       "convert(::Type{Int128}, x::UInt16) at int.jl:187\n",
       "convert(::Type{Int128}, x::Int32) at int.jl:183\n",
       "convert(::Type{Int128}, x::UInt32) at int.jl:187\n",
       "convert(::Type{Int128}, x::Int64) at int.jl:183\n",
       "convert(::Type{Int128}, x::UInt64) at int.jl:187\n",
       "convert(::Type{Int128}, x::UInt128) at int.jl:193\n",
       "convert(::Type{Int128}, x::Bool) at int.jl:187\n",
       "convert(::Type{UInt128}, x::Int8) at int.jl:181\n",
       "convert(::Type{UInt128}, x::UInt8) at int.jl:187\n",
       "convert(::Type{UInt128}, x::Int16) at int.jl:181\n",
       "convert(::Type{UInt128}, x::UInt16) at int.jl:187\n",
       "convert(::Type{UInt128}, x::Int32) at int.jl:181\n",
       "convert(::Type{UInt128}, x::UInt32) at int.jl:187\n",
       "convert(::Type{UInt128}, x::Int64) at int.jl:181\n",
       "convert(::Type{UInt128}, x::UInt64) at int.jl:187\n",
       "convert(::Type{UInt128}, x::Int128) at int.jl:193\n",
       "convert(::Type{UInt128}, x::Bool) at int.jl:187\n",
       "convert(::Type{Int8}, x::Float32) at int.jl:208\n",
       "convert(::Type{Int8}, x::Float64) at int.jl:209\n",
       "convert(::Type{Int16}, x::Float32) at int.jl:208\n",
       "convert(::Type{Int16}, x::Float64) at int.jl:209\n",
       "convert(::Type{Int32}, x::Float32) at int.jl:208\n",
       "convert(::Type{Int32}, x::Float64) at int.jl:209\n",
       "convert(::Type{Int64}, x::Float32) at int.jl:208\n",
       "convert(::Type{Int64}, x::Float64) at int.jl:209\n",
       "convert(::Type{UInt8}, x::Float32) at int.jl:215\n",
       "convert(::Type{UInt8}, x::Float64) at int.jl:216\n",
       "convert(::Type{UInt16}, x::Float32) at int.jl:215\n",
       "convert(::Type{UInt16}, x::Float64) at int.jl:216\n",
       "convert(::Type{UInt32}, x::Float32) at int.jl:215\n",
       "convert(::Type{UInt32}, x::Float64) at int.jl:216\n",
       "convert(::Type{UInt64}, x::Float32) at int.jl:215\n",
       "convert(::Type{UInt64}, x::Float64) at int.jl:216\n",
       "convert(::Type{Int128}, x::Float32) at int.jl:223\n",
       "convert(::Type{Int128}, x::Float64) at int.jl:223\n",
       "convert(::Type{UInt128}, x::Float32) at int.jl:223\n",
       "convert(::Type{UInt128}, x::Float64) at int.jl:223\n",
       "convert(::Type{Signed}, x::UInt8) at int.jl:229\n",
       "convert(::Type{Signed}, x::UInt16) at int.jl:230\n",
       "convert(::Type{Signed}, x::UInt32) at int.jl:231\n",
       "convert(::Type{Signed}, x::UInt64) at int.jl:232\n",
       "convert(::Type{Signed}, x::UInt128) at int.jl:233\n",
       "convert(::Type{Signed}, x::Float32) at int.jl:234\n",
       "convert(::Type{Signed}, x::Float64) at int.jl:235\n",
       "convert(::Type{Signed}, x::Bool) at int.jl:236\n",
       "convert(::Type{Unsigned}, x::Int8) at int.jl:238\n",
       "convert(::Type{Unsigned}, x::Int16) at int.jl:239\n",
       "convert(::Type{Unsigned}, x::Int32) at int.jl:240\n",
       "convert(::Type{Unsigned}, x::Int64) at int.jl:241\n",
       "convert(::Type{Unsigned}, x::Int128) at int.jl:242\n",
       "convert(::Type{Unsigned}, x::Float32) at int.jl:243\n",
       "convert(::Type{Unsigned}, x::Float64) at int.jl:244\n",
       "convert(::Type{Unsigned}, x::Bool) at int.jl:245\n",
       "convert(::Type{Integer}, x::Integer) at int.jl:247\n",
       "convert{T<:Integer}(::Type{T<:Integer}, x::Rational{T<:Integer}) at rational.jl:76\n",
       "convert(::Type{BigInt}, x::Float16) at gmp.jl:140\n",
       "convert{T<:Integer}(::Type{T<:Integer}, x::Float16) at float16.jl:105\n",
       "convert{T<:Integer}(::Type{T<:Integer}, x::BigFloat) at mpfr.jl:171\n",
       "convert(::Type{Integer}, x::Real) at int.jl:248\n",
       "convert{T<:Union{Int64,UInt64}}(::Type{T<:Union{Int64,UInt64}}, x::Ptr{T}) at pointer.jl:8\n",
       "convert{T<:Integer}(::Type{T<:Integer}, x::Ptr{T}) at pointer.jl:9\n",
       "convert{T}(::Type{Ptr{T}}, x::UInt64) at pointer.jl:12\n",
       "convert{T}(::Type{Ptr{T}}, x::Int64) at pointer.jl:13\n",
       "convert{T}(::Type{Ptr{T}}, p::Ptr{T}) at pointer.jl:16\n",
       "convert{T}(::Type{Ptr{T}}, p::Ptr{T}) at pointer.jl:17\n",
       "convert{T}(::Type{Ref{T}}, x::Ref{T}) at refpointer.jl:6\n",
       "convert{T}(::Type{Ref{T}}, x::AbstractArray{T,N}) at refpointer.jl:49\n",
       "convert{T}(::Type{Ref{T}}, x) at refpointer.jl:26\n",
       "convert{T,N}(::Type{AbstractArray{T,N}}, B::BitArray{N}) at bitarray.jl:356\n",
       "convert{T}(::Type{AbstractArray{T,2}}, S::SymTridiagonal{T}) at linalg/tridiag.jl:34\n",
       "convert{T}(::Type{AbstractArray{T,2}}, M::Tridiagonal{T}) at linalg/tridiag.jl:418\n",
       "convert{Tnew,Told,S}(::Type{AbstractArray{Tnew,2}}, A::LowerTriangular{Told,S}) at linalg/triangular.jl:22\n",
       "convert{Tnew,Told,S}(::Type{AbstractArray{Tnew,2}}, A::Base.LinAlg.UnitLowerTriangular{Told,S}) at linalg/triangular.jl:22\n",
       "convert{Tnew,Told,S}(::Type{AbstractArray{Tnew,2}}, A::UpperTriangular{Told,S}) at linalg/triangular.jl:22\n",
       "convert{Tnew,Told,S}(::Type{AbstractArray{Tnew,2}}, A::Base.LinAlg.UnitUpperTriangular{Told,S}) at linalg/triangular.jl:22\n",
       "convert{T}(::Type{AbstractArray{T,2}}, Q::Base.LinAlg.QRPackedQ{T,S<:AbstractArray{T,2}}) at linalg/qr.jl:125\n",
       "convert{S}(::Type{AbstractArray{S,2}}, Q::Base.LinAlg.QRCompactWYQ{S,M<:AbstractArray{T,2}}) at linalg/qr.jl:127\n",
       "convert{T}(::Type{AbstractArray{T,2}}, A::Symmetric{T,S<:AbstractArray{T,2}}) at linalg/symmetric.jl:34\n",
       "convert{T}(::Type{AbstractArray{T,2}}, A::Hermitian{T,S<:AbstractArray{T,2}}) at linalg/symmetric.jl:37\n",
       "convert{T}(::Type{AbstractArray{T,2}}, D::Diagonal{T}) at linalg/diagonal.jl:12\n",
       "convert{T}(::Type{AbstractArray{T,2}}, A::SparseMatrixCSC{Tv,Ti<:Integer}) at sparse/sparsematrix.jl:221\n",
       "convert{T,N}(::Type{AbstractArray{T,N}}, A::AbstractArray{T,N}) at abstractarray.jl:437\n",
       "convert{T,S,N}(::Type{AbstractArray{T,N}}, A::AbstractArray{S,N}) at abstractarray.jl:438\n",
       "convert{T,S,N}(::Type{AbstractArray{T,N}}, A::AbstractArray{S,N}) at abstractarray.jl:439\n",
       "convert{T,S,N}(::Type{Array{T,N}}, V::SubArray{S,N,P<:AbstractArray{T,N},I<:Tuple{Vararg{Union{AbstractArray{T,1},Colon,Int64}}},LD}) at subarray.jl:512\n",
       "convert{T,n}(::Type{Array{T,n}}, x::Array{T,n}) at array.jl:238\n",
       "convert{T,n}(::Type{Array{T,N}}, x::Array{T,n}) at array.jl:237\n",
       "convert{T,N}(::Type{Array{T,N}}, B::BitArray{N}) at bitarray.jl:321\n",
       "convert{T,N}(::Type{Array{T,N}}, B::BitArray{N}) at bitarray.jl:319\n",
       "convert(::Type{Array{T,N}}, S::SharedArray{T,N}) at sharedarray.jl:354\n",
       "convert{T}(::Type{Array{T,2}}, M::SymTridiagonal{T}) at linalg/tridiag.jl:36\n",
       "convert{T}(::Type{Array{T,2}}, M::SymTridiagonal{T}) at linalg/tridiag.jl:48\n",
       "convert{T}(::Type{Array{T,2}}, M::Tridiagonal{T}) at linalg/tridiag.jl:296\n",
       "convert{T}(::Type{Array{T,2}}, M::Tridiagonal{T}) at linalg/tridiag.jl:306\n",
       "convert{T,S}(::Type{Array{T,2}}, A::LowerTriangular{T,S}) at linalg/triangular.jl:23\n",
       "convert{T,S}(::Type{Array{T,2}}, A::Base.LinAlg.UnitLowerTriangular{T,S}) at linalg/triangular.jl:23\n",
       "convert{T,S}(::Type{Array{T,2}}, A::UpperTriangular{T,S}) at linalg/triangular.jl:23\n",
       "convert{T,S}(::Type{Array{T,2}}, A::Base.LinAlg.UnitUpperTriangular{T,S}) at linalg/triangular.jl:23\n",
       "convert{Tret,T,S}(::Type{Array{Tret,2}}, A::LowerTriangular{T,S}) at linalg/triangular.jl:58\n",
       "convert{Tret,T,S}(::Type{Array{Tret,2}}, A::Base.LinAlg.UnitLowerTriangular{T,S}) at linalg/triangular.jl:64\n",
       "convert{Tret,T,S}(::Type{Array{Tret,2}}, A::UpperTriangular{T,S}) at linalg/triangular.jl:73\n",
       "convert{Tret,T,S}(::Type{Array{Tret,2}}, A::Base.LinAlg.UnitUpperTriangular{T,S}) at linalg/triangular.jl:79\n",
       "convert{T}(::Type{Array{T,2}}, A::Bidiagonal{T}) at linalg/bidiag.jl:46\n",
       "convert{T}(::Type{Array{T,2}}, A::Bidiagonal{T}) at linalg/bidiag.jl:59\n",
       "convert(::Type{Array{T,2}}, D::Diagonal{T}) at linalg/special.jl:11\n",
       "convert(::Type{Array{T,2}}, S::SparseMatrixCSC{Tv,Ti<:Integer}) at sparse/sparsematrix.jl:222\n",
       "convert{T}(::Type{Array{T,2}}, D::Base.SparseMatrix.CHOLMOD.Dense{T}) at sparse/cholmod.jl:947\n",
       "convert{T}(::Type{Array{T,2}}, D::Base.SparseMatrix.CHOLMOD.Dense{T}) at sparse/cholmod.jl:960\n",
       "convert{T}(::Type{Array{T,1}}, D::Base.SparseMatrix.CHOLMOD.Dense{T}) at sparse/cholmod.jl:962\n",
       "convert{T}(::Type{Array{T,1}}, D::Base.SparseMatrix.CHOLMOD.Dense{T}) at sparse/cholmod.jl:967\n",
       "convert{T,n,S}(::Type{Array{T,n}}, x::AbstractArray{S,n}) at array.jl:241\n",
       "convert{T,N}(::Type{Array{T,N}}, A::AbstractArray{T,N}) at abstractarray.jl:441\n",
       "convert{T,n,S}(::Type{Array{T,N}}, x::AbstractArray{S,n}) at array.jl:240\n",
       "convert(::Type{Float16}, n::BigInt) at gmp.jl:245\n",
       "convert(::Type{Float16}, x::Integer) at float.jl:15\n",
       "convert(::Type{Float32}, x::Int8) at float.jl:24\n",
       "convert(::Type{Float32}, x::Int16) at float.jl:24\n",
       "convert(::Type{Float32}, x::Int32) at float.jl:24\n",
       "convert(::Type{Float32}, x::Int64) at float.jl:24\n",
       "convert(::Type{Float32}, x::Bool) at float.jl:30\n",
       "convert(::Type{Float32}, x::UInt8) at float.jl:30\n",
       "convert(::Type{Float32}, x::UInt16) at float.jl:30\n",
       "convert(::Type{Float32}, x::UInt32) at float.jl:30\n",
       "convert(::Type{Float32}, x::UInt64) at float.jl:30\n",
       "convert(::Type{Float64}, x::Int8) at float.jl:24\n",
       "convert(::Type{Float64}, x::Int16) at float.jl:24\n",
       "convert(::Type{Float64}, x::Int32) at float.jl:24\n",
       "convert(::Type{Float64}, x::Int64) at float.jl:24\n",
       "convert(::Type{Float64}, x::Bool) at float.jl:30\n",
       "convert(::Type{Float64}, x::UInt8) at float.jl:30\n",
       "convert(::Type{Float64}, x::UInt16) at float.jl:30\n",
       "convert(::Type{Float64}, x::UInt32) at float.jl:30\n",
       "convert(::Type{Float64}, x::UInt64) at float.jl:30\n",
       "convert(::Type{Float64}, x::UInt128) at float.jl:42\n",
       "convert(::Type{Float64}, x::Int128) at float.jl:56\n",
       "convert(::Type{Float32}, x::UInt128) at float.jl:72\n",
       "convert(::Type{Float32}, x::Int128) at float.jl:86\n",
       "convert(::Type{Float16}, x::Float64) at float.jl:102\n",
       "convert(::Type{Float32}, x::Float64) at float.jl:103\n",
       "convert(::Type{Float64}, x::Float16) at float.jl:106\n",
       "convert(::Type{Float64}, x::Float32) at float.jl:107\n",
       "convert(::Type{AbstractFloat}, x::Bool) at float.jl:109\n",
       "convert(::Type{AbstractFloat}, x::Int8) at float.jl:110\n",
       "convert(::Type{AbstractFloat}, x::Int16) at float.jl:111\n",
       "convert(::Type{AbstractFloat}, x::Int32) at float.jl:112\n",
       "convert(::Type{AbstractFloat}, x::Int64) at float.jl:113\n",
       "convert(::Type{AbstractFloat}, x::Int128) at float.jl:114\n",
       "convert(::Type{AbstractFloat}, x::UInt8) at float.jl:115\n",
       "convert(::Type{AbstractFloat}, x::UInt16) at float.jl:116\n",
       "convert(::Type{AbstractFloat}, x::UInt32) at float.jl:117\n",
       "convert(::Type{AbstractFloat}, x::UInt64) at float.jl:118\n",
       "convert(::Type{AbstractFloat}, x::UInt128) at float.jl:119\n",
       "convert{T<:Real}(::Type{Complex{T<:Real}}, x::Irrational{sym}) at irrationals.jl:15\n",
       "convert{T<:Real}(::Type{Complex{T<:Real}}, x::Real) at complex.jl:16\n",
       "convert{T<:Real}(::Type{Complex{T<:Real}}, z::Complex{T<:Real}) at complex.jl:17\n",
       "convert{T<:Real}(::Type{T<:Real}, z::Complex{T<:Real}) at complex.jl:18\n",
       "convert(::Type{Complex{T<:Real}}, z::Complex{T<:Real}) at complex.jl:21\n",
       "convert(::Type{Complex{T<:Real}}, x::Real) at complex.jl:22\n",
       "convert{T<:Integer}(::Type{Rational{T<:Integer}}, x::Rational{T<:Integer}) at rational.jl:69\n",
       "convert{T<:Integer}(::Type{Rational{T<:Integer}}, x::Integer) at rational.jl:70\n",
       "convert(::Type{Rational{T<:Integer}}, x::Rational{T<:Integer}) at rational.jl:72\n",
       "convert(::Type{Rational{T<:Integer}}, x::Integer) at rational.jl:73\n",
       "convert(::Type{AbstractFloat}, x::Rational{T<:Integer}) at rational.jl:78\n",
       "convert(::Type{BigFloat}, x::Rational{T<:Integer}) at mpfr.jl:94\n",
       "convert{T<:AbstractFloat,S}(::Type{T<:AbstractFloat}, x::Rational{S}) at rational.jl:80\n",
       "convert(::Type{Rational{T<:Integer}}, x::Float64) at rational.jl:89\n",
       "convert(::Type{Rational{T<:Integer}}, x::Float32) at rational.jl:90\n",
       "convert(::Type{Rational{T<:Integer}}, x::BigFloat) at mpfr.jl:102\n",
       "convert(::Type{Rational{BigInt}}, x::AbstractFloat) at mpfr.jl:196\n",
       "convert{T<:Integer}(::Type{Rational{T<:Integer}}, x::AbstractFloat) at rational.jl:85\n",
       "convert{N}(::Type{BitArray{N}}, B::BitArray{N}) at bitarray.jl:355\n",
       "convert{T,N}(::Type{BitArray{N}}, A::AbstractArray{T,N}) at bitarray.jl:331\n",
       "convert{T,N}(::Type{BitArray{N}}, A::AbstractArray{T,N}) at bitarray.jl:329\n",
       "convert{K,V}(::Type{Dict{K,V}}, d::Dict{K,V}) at dict.jl:474\n",
       "convert{K,V}(::Type{Dict{K,V}}, d::Associative{K,V}) at dict.jl:463\n",
       "convert(::Type{Char}, x::UInt32) at char.jl:3\n",
       "convert(::Type{Char}, x::Number) at char.jl:4\n",
       "convert(::Type{UInt32}, x::Char) at char.jl:5\n",
       "convert{T<:Number}(::Type{T<:Number}, x::Char) at char.jl:6\n",
       "convert(::Type{ASCIIString}, s::ASCIIString) at ascii.jl:104\n",
       "convert(::Type{ASCIIString}, s::UTF8String) at ascii.jl:105\n",
       "convert(::Type{ASCIIString}, a::Array{UInt8,1}) at ascii.jl:106\n",
       "convert(::Type{ASCIIString}, a::Array{UInt8,1}, invalids_as::ASCIIString) at ascii.jl:115\n",
       "convert(::Type{ASCIIString}, a::Array{UInt8,1}, invalids_as::AbstractString) at ascii.jl:132\n",
       "convert(::Type{ASCIIString}, s::AbstractString) at ascii.jl:134\n",
       "convert(::Type{SubString{UTF8String}}, s::SubString{ASCIIString}) at unicode/utf8.jl:236\n",
       "convert{T<:AbstractString}(::Type{SubString{T<:AbstractString}}, s::T<:AbstractString) at strings/types.jl:77\n",
       "convert(::Type{RepString}, s::AbstractString) at strings/types.jl:173\n",
       "convert(::Type{Array{UInt8,1}}, s::AbstractString) at strings/basic.jl:27\n",
       "convert(::Type{Array{UInt8,N}}, s::AbstractString) at strings/basic.jl:28\n",
       "convert(::Type{ByteString}, s::AbstractString) at strings/basic.jl:29\n",
       "convert(::Type{Array{Char,1}}, s::AbstractString) at strings/basic.jl:30\n",
       "convert(::Type{Symbol}, s::AbstractString) at strings/basic.jl:31\n",
       "convert(::Type{UTF8String}, s::UTF8String) at unicode/utf8.jl:234\n",
       "convert(::Type{UTF8String}, s::ASCIIString) at unicode/utf8.jl:235\n",
       "convert(::Type{UTF8String}, dat::Array{UInt8,1}) at unicode/utf8.jl:241\n",
       "convert(::Type{UTF8String}, a::Array{UInt8,1}, invalids_as::AbstractString) at unicode/utf8.jl:293\n",
       "convert(::Type{UTF8String}, str::UTF16String) at unicode/utf16.jl:160\n",
       "convert(::Type{UTF8String}, str::UTF32String) at unicode/utf32.jl:27\n",
       "convert(::Type{UTF8String}, s::AbstractString) at unicode/utf8.jl:313\n",
       "convert(::Type{UTF16String}, str::UTF8String) at unicode/utf16.jl:123\n",
       "convert(::Type{UTF16String}, str::ASCIIString) at unicode/utf16.jl:200\n",
       "convert(::Type{UTF16String}, str::UTF16String) at unicode/utf16.jl:207\n",
       "convert(::Type{UTF16String}, str::UTF32String) at unicode/utf32.jl:105\n",
       "convert(::Type{UTF16String}, str::AbstractString) at unicode/utf16.jl:105\n",
       "convert(::Type{Array{UInt16,1}}, str::UTF16String) at unicode/utf16.jl:204\n",
       "convert(::Type{Array{UInt16,N}}, str::UTF16String) at unicode/utf16.jl:205\n",
       "convert(::Type{UTF16String}, dat::AbstractArray{UInt16,1}) at unicode/utf16.jl:219\n",
       "convert(T::Type{UTF16String}, data::AbstractArray{UInt16,N}) at unicode/utf16.jl:212\n",
       "convert(T::Type{UTF16String}, data::AbstractArray{Int16,N}) at unicode/utf16.jl:215\n",
       "convert(T::Type{UTF16String}, bytes::AbstractArray{UInt8,N}) at unicode/utf16.jl:224\n",
       "convert(::Type{UTF32String}, c::Char) at unicode/utf32.jl:14\n",
       "convert(::Type{UTF32String}, s::UTF32String) at unicode/utf32.jl:15\n",
       "convert(::Type{UTF32String}, str::UTF8String) at unicode/utf32.jl:38\n",
       "convert(::Type{UTF32String}, str::UTF16String) at unicode/utf32.jl:83\n",
       "convert(::Type{UTF32String}, str::ASCIIString) at unicode/utf32.jl:117\n",
       "convert(::Type{UTF32String}, str::AbstractString) at unicode/utf32.jl:18\n",
       "convert(::Type{UTF32String}, dat::AbstractArray{UInt32,1}) at unicode/utf32.jl:122\n",
       "convert{T<:Union{Char,Int32}}(::Type{UTF32String}, data::AbstractArray{T<:Union{Char,Int32},1}) at unicode/utf32.jl:125\n",
       "convert{T<:Union{ASCIIString,UTF8String},S<:Union{Char,Int32,UInt32}}(::Type{T<:Union{ASCIIString,UTF8String}}, data::AbstractArray{S<:Union{Char,Int32,UInt32},1}) at unicode/utf32.jl:133\n",
       "convert{T<:AbstractString,S<:Union{Char,Int32,UInt32}}(::Type{T<:AbstractString}, v::AbstractArray{S<:Union{Char,Int32,UInt32},1}) at unicode/utf32.jl:128\n",
       "convert(::Type{Array{UInt32,1}}, str::UTF32String) at unicode/utf32.jl:141\n",
       "convert(::Type{Array{UInt32,N}}, str::UTF32String) at unicode/utf32.jl:142\n",
       "convert(T::Type{UTF32String}, bytes::AbstractArray{UInt8,N}) at unicode/utf32.jl:148\n",
       "convert{S<:AbstractString}(::Type{S<:AbstractString}, g::Base.UTF8proc.GraphemeIterator{S<:AbstractString}) at unicode/utf8proc.jl:229\n",
       "convert(::Type{Base.Libc.FILE}, s::IO) at libc.jl:61\n",
       "convert{T}(::Type{Nullable{T}}, x::Nullable{T}) at nullable.jl:11\n",
       "convert{T}(::Type{Nullable{T}}, x::Nullable{T}) at nullable.jl:15\n",
       "convert(::Type{Nullable{T}}, x::Nullable{T}) at nullable.jl:12\n",
       "convert{T}(::Type{Nullable{T}}, ::Void) at nullable.jl:21\n",
       "convert(::Type{Nullable{T}}, ::Void) at nullable.jl:22\n",
       "convert{T}(::Type{Nullable{T}}, x::T) at nullable.jl:18\n",
       "convert{T}(::Type{Nullable{T}}, x::T) at nullable.jl:19\n",
       "convert{T<:Integer}(dt::Type{T<:Integer}, ip::Base.IPAddr) at socket.jl:7\n",
       "convert(::Type{Float32}, val::Float16) at float16.jl:4\n",
       "convert(::Type{Float16}, val::Float32) at float16.jl:83\n",
       "convert(::Type{Int128}, x::Float16) at float16.jl:102\n",
       "convert(::Type{UInt128}, x::Float16) at float16.jl:103\n",
       "convert(::Type{VersionNumber}, v::Integer) at version.jl:71\n",
       "convert(::Type{VersionNumber}, v::Tuple) at version.jl:72\n",
       "convert(::Type{VersionNumber}, v::AbstractString) at version.jl:109\n",
       "convert(::Type{BigInt}, x::BigInt) at gmp.jl:82\n",
       "convert(::Type{BigInt}, x::Union{Int32,Int64}) at gmp.jl:111\n",
       "convert(::Type{BigInt}, x::Union{UInt32,UInt64}) at gmp.jl:116\n",
       "convert(::Type{BigInt}, x::Bool) at gmp.jl:121\n",
       "convert(::Type{BigInt}, x::Float32) at gmp.jl:141\n",
       "convert(::Type{BigInt}, x::Union{Float32,Float64}) at gmp.jl:131\n",
       "convert(::Type{BigInt}, x::Integer) at gmp.jl:144\n",
       "convert{T<:Unsigned}(::Type{T<:Unsigned}, x::BigInt) at gmp.jl:182\n",
       "convert{T<:Signed}(::Type{T<:Signed}, x::BigInt) at gmp.jl:191\n",
       "convert(::Type{Float64}, n::BigInt) at gmp.jl:243\n",
       "convert(::Type{Float32}, n::BigInt) at gmp.jl:244\n",
       "convert(::Type{BigFloat}, x::BigFloat) at mpfr.jl:69\n",
       "convert(::Type{BigFloat}, x::Int64) at mpfr.jl:75\n",
       "convert(::Type{BigFloat}, x::UInt64) at mpfr.jl:75\n",
       "convert(::Type{BigFloat}, x::Float64) at mpfr.jl:75\n",
       "convert(::Type{BigFloat}, x::BigInt) at mpfr.jl:83\n",
       "convert(::Type{BigFloat}, x::Union{Bool,Int16,Int32,Int8}) at mpfr.jl:90\n",
       "convert(::Type{BigFloat}, x::Union{UInt16,UInt32,UInt8}) at mpfr.jl:91\n",
       "convert(::Type{BigFloat}, x::Integer) at mpfr.jl:88\n",
       "convert(::Type{BigFloat}, x::Union{Float16,Float32}) at mpfr.jl:93\n",
       "convert(::Type{AbstractFloat}, x::BigInt) at mpfr.jl:103\n",
       "convert(::Type{BigInt}, x::BigFloat) at mpfr.jl:166\n",
       "convert(::Type{Float64}, x::BigFloat) at mpfr.jl:176\n",
       "convert(::Type{Float32}, x::BigFloat) at mpfr.jl:178\n",
       "convert(::Type{Float16}, x::BigFloat) at mpfr.jl:181\n",
       "convert(::Type{UInt128}, u::Base.Random.UUID) at random.jl:1240\n",
       "convert(::Type{Base.Random.UUID}, s::AbstractString) at random.jl:1243\n",
       "convert{T<:Integer}(::Type{T<:Integer}, x::Enum) at Enums.jl:9\n",
       "convert(::Type{Base.WorkerState}, ::Integer) at Enums.jl:79\n",
       "convert{TS,TA,N}(::Type{SharedArray{TS,N}}, A::Array{TA,N}) at sharedarray.jl:273\n",
       "convert{T}(::Type{SharedArray{T,N}}, A::Array{T,N}) at sharedarray.jl:272\n",
       "convert(::Type{SharedArray{T,N}}, A::Array{T,N}) at sharedarray.jl:271\n",
       "convert{T}(::Type{SymTridiagonal{T}}, S::SymTridiagonal{T}) at linalg/tridiag.jl:33\n",
       "convert{T}(::Type{Tridiagonal{T}}, M::Tridiagonal{T}) at linalg/tridiag.jl:417\n",
       "convert(::Type{Tridiagonal{T}}, A::SymTridiagonal{T}) at linalg/special.jl:72\n",
       "convert{T}(::Type{Tridiagonal{T}}, M::SymTridiagonal{T}) at linalg/tridiag.jl:419\n",
       "convert{T}(::Type{SymTridiagonal{T}}, M::Tridiagonal{T}) at linalg/tridiag.jl:421\n",
       "convert{T,S}(::Type{LowerTriangular{T,S<:AbstractArray{T,2}}}, A::LowerTriangular{T,S}) at linalg/triangular.jl:20\n",
       "convert{Tnew,Told,S}(::Type{LowerTriangular{Tnew,S<:AbstractArray{T,2}}}, A::LowerTriangular{Told,S}) at linalg/triangular.jl:21\n",
       "convert{T,S}(::Type{Base.LinAlg.UnitLowerTriangular{T,S<:AbstractArray{T,2}}}, A::Base.LinAlg.UnitLowerTriangular{T,S}) at linalg/triangular.jl:20\n",
       "convert{Tnew,Told,S}(::Type{Base.LinAlg.UnitLowerTriangular{Tnew,S<:AbstractArray{T,2}}}, A::Base.LinAlg.UnitLowerTriangular{Told,S}) at linalg/triangular.jl:21\n",
       "convert{T,S}(::Type{UpperTriangular{T,S<:AbstractArray{T,2}}}, A::UpperTriangular{T,S}) at linalg/triangular.jl:20\n",
       "convert{Tnew,Told,S}(::Type{UpperTriangular{Tnew,S<:AbstractArray{T,2}}}, A::UpperTriangular{Told,S}) at linalg/triangular.jl:21\n",
       "convert{T,S}(::Type{Base.LinAlg.UnitUpperTriangular{T,S<:AbstractArray{T,2}}}, A::Base.LinAlg.UnitUpperTriangular{T,S}) at linalg/triangular.jl:20\n",
       "convert{Tnew,Told,S}(::Type{Base.LinAlg.UnitUpperTriangular{Tnew,S<:AbstractArray{T,2}}}, A::Base.LinAlg.UnitUpperTriangular{Told,S}) at linalg/triangular.jl:21\n",
       "convert{T}(::Type{Factorization{T}}, A::Base.LinAlg.QR{T,S<:AbstractArray{T,2}}) at linalg/qr.jl:59\n",
       "convert{T}(::Type{Factorization{T}}, A::Base.LinAlg.QRCompactWY{S,M<:AbstractArray{T,2}}) at linalg/qr.jl:61\n",
       "convert{T}(::Type{Factorization{T}}, A::Base.LinAlg.QRPivoted{T,S<:AbstractArray{T,2}}) at linalg/qr.jl:63\n",
       "convert{T}(::Type{Factorization{T}}, C::Base.LinAlg.Cholesky{T,S<:AbstractArray{T,2}}) at linalg/cholesky.jl:152\n",
       "convert{T}(::Type{Factorization{T}}, C::Base.LinAlg.CholeskyPivoted{T,S<:AbstractArray{T,2}}) at linalg/cholesky.jl:155\n",
       "convert{T}(::Type{Factorization{T}}, F::Base.LinAlg.LU{T,S<:AbstractArray{T,2}}) at linalg/lu.jl:102\n",
       "convert{T}(::Type{Factorization{T}}, B::Base.LinAlg.BunchKaufman{T,S<:AbstractArray{T,2}}) at linalg/bunchkaufman.jl:31\n",
       "convert{T,S,U}(::Type{Factorization{T}}, F::Base.LinAlg.LDLt{S,U}) at linalg/ldlt.jl:15\n",
       "convert{T}(::Type{Factorization{T}}, F::Factorization{T}) at linalg/factorization.jl:21\n",
       "convert{T}(::Type{Base.LinAlg.QR{T,S<:AbstractArray{T,2}}}, A::Base.LinAlg.QR{T,S<:AbstractArray{T,2}}) at linalg/qr.jl:58\n",
       "convert{T}(::Type{Base.LinAlg.QRCompactWY{T,M<:AbstractArray{T,2}}}, A::Base.LinAlg.QRCompactWY{S,M<:AbstractArray{T,2}}) at linalg/qr.jl:60\n",
       "convert{T}(::Type{Base.LinAlg.QRPivoted{T,S<:AbstractArray{T,2}}}, A::Base.LinAlg.QRPivoted{T,S<:AbstractArray{T,2}}) at linalg/qr.jl:62\n",
       "convert{T}(::Type{Base.LinAlg.QRPackedQ{T,S<:AbstractArray{T,2}}}, Q::Base.LinAlg.QRPackedQ{T,S<:AbstractArray{T,2}}) at linalg/qr.jl:124\n",
       "convert{S}(::Type{Base.LinAlg.QRCompactWYQ{S,M<:AbstractArray{T,2}}}, Q::Base.LinAlg.QRCompactWYQ{S,M<:AbstractArray{T,2}}) at linalg/qr.jl:126\n",
       "convert{Tnew,Told,S}(::Type{Base.LinAlg.Cholesky{Tnew,S<:AbstractArray{T,2}}}, C::Base.LinAlg.Cholesky{Told,S}) at linalg/cholesky.jl:145\n",
       "convert{T,S}(::Type{Base.LinAlg.Cholesky{T,S}}, C::Base.LinAlg.Cholesky{T,S<:AbstractArray{T,2}}) at linalg/cholesky.jl:149\n",
       "convert{T}(::Type{Base.LinAlg.CholeskyPivoted{T,S<:AbstractArray{T,2}}}, C::Base.LinAlg.CholeskyPivoted{T,S<:AbstractArray{T,2}}) at linalg/cholesky.jl:153\n",
       "convert{T}(::Type{Base.LinAlg.LU{T,S<:AbstractArray{T,2}}}, F::Base.LinAlg.LU{T,S<:AbstractArray{T,2}}) at linalg/lu.jl:98\n",
       "convert{T,S}(::Type{Base.LinAlg.LU{T,S}}, F::Base.LinAlg.LU{T,S<:AbstractArray{T,2}}) at linalg/lu.jl:101\n",
       "convert{T}(::Type{Base.LinAlg.BunchKaufman{T,S<:AbstractArray{T,2}}}, B::Base.LinAlg.BunchKaufman{T,S<:AbstractArray{T,2}}) at linalg/bunchkaufman.jl:30\n",
       "convert{T,S<:AbstractArray{T,2}}(::Type{Symmetric{T,S<:AbstractArray{T,2}}}, A::Symmetric{T,S<:AbstractArray{T,2}}) at linalg/symmetric.jl:32\n",
       "convert{T,S<:AbstractArray{T,2}}(::Type{Symmetric{T,S<:AbstractArray{T,2}}}, A::Symmetric{T,S<:AbstractArray{T,2}}) at linalg/symmetric.jl:33\n",
       "convert{T,S<:AbstractArray{T,2}}(::Type{Hermitian{T,S<:AbstractArray{T,2}}}, A::Hermitian{T,S<:AbstractArray{T,2}}) at linalg/symmetric.jl:35\n",
       "convert{T,S<:AbstractArray{T,2}}(::Type{Hermitian{T,S<:AbstractArray{T,2}}}, A::Hermitian{T,S<:AbstractArray{T,2}}) at linalg/symmetric.jl:36\n",
       "convert{T}(::Type{Diagonal{T}}, D::Diagonal{T}) at linalg/diagonal.jl:10\n",
       "convert{T}(::Type{Diagonal{T}}, D::Diagonal{T}) at linalg/diagonal.jl:11\n",
       "convert{T}(::Type{UpperTriangular{T,S<:AbstractArray{T,2}}}, A::Diagonal{T}) at linalg/diagonal.jl:13\n",
       "convert{T}(::Type{LowerTriangular{T,S<:AbstractArray{T,2}}}, A::Diagonal{T}) at linalg/diagonal.jl:14\n",
       "convert{T}(::Type{Tridiagonal{T}}, A::Bidiagonal{T}) at linalg/bidiag.jl:65\n",
       "convert{T}(::Type{Base.LinAlg.Givens{T}}, G::Base.LinAlg.Givens{T}) at linalg/givens.jl:27\n",
       "convert{T}(::Type{Base.LinAlg.Givens{T}}, G::Base.LinAlg.Givens{T}) at linalg/givens.jl:28\n",
       "convert{T}(::Type{Base.LinAlg.Rotation{T}}, R::Base.LinAlg.Rotation{T}) at linalg/givens.jl:29\n",
       "convert{T}(::Type{Base.LinAlg.Rotation{T}}, R::Base.LinAlg.Rotation{T}) at linalg/givens.jl:30\n",
       "convert{T}(::Type{Base.LinAlg.AbstractRotation{T}}, G::Base.LinAlg.Givens{T}) at linalg/givens.jl:31\n",
       "convert{T}(::Type{Base.LinAlg.AbstractRotation{T}}, R::Base.LinAlg.Rotation{T}) at linalg/givens.jl:32\n",
       "convert{T}(::Type{Bidiagonal{T}}, A::Diagonal{T}) at linalg/special.jl:6\n",
       "convert{T}(::Type{SymTridiagonal{T}}, A::Diagonal{T}) at linalg/special.jl:7\n",
       "convert{T}(::Type{Tridiagonal{T}}, A::Diagonal{T}) at linalg/special.jl:8\n",
       "convert(::Type{LowerTriangular{T,S<:AbstractArray{T,2}}}, A::Bidiagonal{T}) at linalg/special.jl:9\n",
       "convert(::Type{UpperTriangular{T,S<:AbstractArray{T,2}}}, A::Bidiagonal{T}) at linalg/special.jl:10\n",
       "convert(::Type{Base.LinAlg.UnitUpperTriangular{T,S<:AbstractArray{T,2}}}, A::Diagonal{T}) at linalg/special.jl:14\n",
       "convert(::Type{Base.LinAlg.UnitLowerTriangular{T,S<:AbstractArray{T,2}}}, A::Diagonal{T}) at linalg/special.jl:21\n",
       "convert(::Type{Diagonal{T}}, A::Union{Bidiagonal{T},SymTridiagonal{T}}) at linalg/special.jl:28\n",
       "convert(::Type{SymTridiagonal{T}}, A::Bidiagonal{T}) at linalg/special.jl:35\n",
       "convert{T}(::Type{Tridiagonal{T}}, A::Bidiagonal{T}) at linalg/special.jl:41\n",
       "convert(::Type{Bidiagonal{T}}, A::SymTridiagonal{T}) at linalg/special.jl:44\n",
       "convert(::Type{Diagonal{T}}, A::Tridiagonal{T}) at linalg/special.jl:51\n",
       "convert(::Type{Bidiagonal{T}}, A::Tridiagonal{T}) at linalg/special.jl:58\n",
       "convert(::Type{SymTridiagonal{T}}, A::Tridiagonal{T}) at linalg/special.jl:65\n",
       "convert(::Type{Diagonal{T}}, A::Base.LinAlg.AbstractTriangular{T,S<:AbstractArray{T,2}}) at linalg/special.jl:76\n",
       "convert(::Type{Bidiagonal{T}}, A::Base.LinAlg.AbstractTriangular{T,S<:AbstractArray{T,2}}) at linalg/special.jl:83\n",
       "convert(::Type{SymTridiagonal{T}}, A::Base.LinAlg.AbstractTriangular{T,S<:AbstractArray{T,2}}) at linalg/special.jl:93\n",
       "convert(::Type{Tridiagonal{T}}, A::Base.LinAlg.AbstractTriangular{T,S<:AbstractArray{T,2}}) at linalg/special.jl:96\n",
       "convert{T,S,U<:AbstractArray{T,2}}(::Type{Base.LinAlg.LDLt{T,S<:AbstractArray{T,2}}}, F::Base.LinAlg.LDLt{S,U<:AbstractArray{T,2}}) at linalg/ldlt.jl:13\n",
       "convert{T,S}(::Type{Base.LinAlg.LDLt{T,S}}, F::Base.LinAlg.LDLt{T,S<:AbstractArray{T,2}}) at linalg/ldlt.jl:10\n",
       "convert{Tv,TvS,TiS}(::Type{SparseMatrixCSC{Tv,Ti<:Integer}}, S::SparseMatrixCSC{TvS,TiS}) at sparse/sparsematrix.jl:203\n",
       "convert{Tv,Ti,TvS,TiS}(::Type{SparseMatrixCSC{Tv,Ti}}, S::SparseMatrixCSC{TvS,TiS}) at sparse/sparsematrix.jl:192\n",
       "convert{Tv}(::Type{SparseMatrixCSC{Tv,Int64}}, A::Base.SparseMatrix.CHOLMOD.Sparse{Tv}) at sparse/cholmod.jl:970\n",
       "convert{Tv,Ti}(::Type{SparseMatrixCSC{Tv,Ti}}, M::AbstractArray{T,2}) at sparse/sparsematrix.jl:214\n",
       "convert(::Type{Base.SparseMatrix.CHOLMOD.Dense{T<:Union{Complex{Float64},Float64}}}, A::Union{Array{T,1},Array{T,2}}) at sparse/cholmod.jl:812\n",
       "convert(::Type{Base.SparseMatrix.CHOLMOD.Dense{T<:Union{Complex{Float64},Float64}}}, A::Base.SparseMatrix.CHOLMOD.Sparse{Tv<:Union{Complex{Float64},Float64}}) at sparse/cholmod.jl:820\n",
       "convert{Tv<:Union{Complex{Float64},Float64}}(::Type{Base.SparseMatrix.CHOLMOD.Sparse{Tv<:Union{Complex{Float64},Float64}}}, m::Integer, n::Integer, colptr::Array{Int64,1}, rowval::Array{Int64,1}, nzval::Array{Tv<:Union{Complex{Float64},Float64},1}, stype) at sparse/cholmod.jl:826\n",
       "convert{Tv<:Union{Complex{Float64},Float64}}(::Type{Base.SparseMatrix.CHOLMOD.Sparse{Tv<:Union{Complex{Float64},Float64}}}, m::Integer, n::Integer, colptr::Array{Int64,1}, rowval::Array{Int64,1}, nzval::Array{Tv<:Union{Complex{Float64},Float64},1}) at sparse/cholmod.jl:847\n",
       "convert{Tv<:Union{Complex{Float64},Float64}}(::Type{Base.SparseMatrix.CHOLMOD.Sparse{Tv<:Union{Complex{Float64},Float64}}}, A::SparseMatrixCSC{Tv<:Union{Complex{Float64},Float64},Int64}, stype::Integer) at sparse/cholmod.jl:857\n",
       "convert{Tv<:Union{Complex{Float64},Float64},Ti<:Union{Int32,Int64}}(::Type{Base.SparseMatrix.CHOLMOD.Sparse{Tv<:Union{Complex{Float64},Float64}}}, A::SparseMatrixCSC{Tv<:Union{Complex{Float64},Float64},Ti<:Union{Int32,Int64}}) at sparse/cholmod.jl:873\n",
       "convert{Ti<:Union{Int32,Int64}}(::Type{Base.SparseMatrix.CHOLMOD.Sparse{Tv<:Union{Complex{Float64},Float64}}}, A::SparseMatrixCSC{Float32,Ti<:Union{Int32,Int64}}) at sparse/cholmod.jl:880\n",
       "convert{Ti<:Union{Int32,Int64}}(::Type{Base.SparseMatrix.CHOLMOD.Sparse{Tv<:Union{Complex{Float64},Float64}}}, A::SparseMatrixCSC{Complex{Float32},Ti<:Union{Int32,Int64}}) at sparse/cholmod.jl:881\n",
       "convert(::Type{Base.SparseMatrix.CHOLMOD.Sparse{Tv<:Union{Complex{Float64},Float64}}}, A::Symmetric{Float64,SparseMatrixCSC{Float64,Int64}}) at sparse/cholmod.jl:882\n",
       "convert{Tv<:Union{Complex{Float64},Float64}}(::Type{Base.SparseMatrix.CHOLMOD.Sparse{Tv<:Union{Complex{Float64},Float64}}}, A::Hermitian{Tv<:Union{Complex{Float64},Float64},SparseMatrixCSC{Tv<:Union{Complex{Float64},Float64},Int64}}) at sparse/cholmod.jl:883\n",
       "convert{T,Ti<:Union{Int32,Int64}}(::Type{Base.SparseMatrix.CHOLMOD.Sparse{Tv<:Union{Complex{Float64},Float64}}}, A::Union{Hermitian{T,SparseMatrixCSC{T,Ti<:Union{Int32,Int64}}},SparseMatrixCSC{T,Ti<:Union{Int32,Int64}},Symmetric{T,SparseMatrixCSC{T,Ti<:Union{Int32,Int64}}}}, args...) at sparse/cholmod.jl:889\n",
       "convert(::Type{Base.SparseMatrix.CHOLMOD.Sparse{Tv<:Union{Complex{Float64},Float64}}}, p::Ptr{Base.SparseMatrix.CHOLMOD.C_SparseVoid}) at sparse/cholmod.jl:895\n",
       "convert(::Type{Base.SparseMatrix.CHOLMOD.Sparse{Tv<:Union{Complex{Float64},Float64}}}, A::Base.SparseMatrix.CHOLMOD.Dense{T<:Union{Complex{Float64},Float64}}) at sparse/cholmod.jl:937\n",
       "convert(::Type{Base.SparseMatrix.CHOLMOD.Sparse{Tv<:Union{Complex{Float64},Float64}}}, L::Base.SparseMatrix.CHOLMOD.Factor{Tv}) at sparse/cholmod.jl:938\n",
       "convert(::Type{Base.SparseMatrix.CHOLMOD.Sparse{Tv<:Union{Complex{Float64},Float64}}}, filename::ByteString) at sparse/cholmod.jl:940\n",
       "convert(::Type{Symmetric{Float64,SparseMatrixCSC{Float64,Int64}}}, A::Base.SparseMatrix.CHOLMOD.Sparse{Float64}) at sparse/cholmod.jl:977\n",
       "convert{Tv<:Union{Complex{Float64},Float64}}(::Type{Hermitian{Tv<:Union{Complex{Float64},Float64},SparseMatrixCSC{Tv<:Union{Complex{Float64},Float64},Int64}}}, A::Base.SparseMatrix.CHOLMOD.Sparse{Tv<:Union{Complex{Float64},Float64}}) at sparse/cholmod.jl:984\n",
       "convert(::Type{AbstractFloat}, x::Irrational{sym}) at irrationals.jl:13\n",
       "convert(::Type{Float16}, x::Irrational{sym}) at irrationals.jl:14\n",
       "convert{T<:Integer}(::Type{Rational{T<:Integer}}, x::Irrational{sym}) at irrationals.jl:16\n",
       "convert(::Type{BigFloat}, ::Irrational{:π}) at irrationals.jl:80\n",
       "convert(::Type{Float64}, ::Irrational{:π}) at irrationals.jl:92\n",
       "convert(::Type{Float32}, ::Irrational{:π}) at irrationals.jl:93\n",
       "convert(::Type{BigFloat}, ::Irrational{:e}) at irrationals.jl:87\n",
       "convert(::Type{Float64}, ::Irrational{:e}) at irrationals.jl:92\n",
       "convert(::Type{Float32}, ::Irrational{:e}) at irrationals.jl:93\n",
       "convert(::Type{BigFloat}, ::Irrational{:γ}) at irrationals.jl:80\n",
       "convert(::Type{Float64}, ::Irrational{:γ}) at irrationals.jl:92\n",
       "convert(::Type{Float32}, ::Irrational{:γ}) at irrationals.jl:93\n",
       "convert(::Type{BigFloat}, ::Irrational{:catalan}) at irrationals.jl:80\n",
       "convert(::Type{Float64}, ::Irrational{:catalan}) at irrationals.jl:92\n",
       "convert(::Type{Float32}, ::Irrational{:catalan}) at irrationals.jl:93\n",
       "convert(::Type{BigFloat}, ::Irrational{:φ}) at irrationals.jl:87\n",
       "convert(::Type{Float64}, ::Irrational{:φ}) at irrationals.jl:92\n",
       "convert(::Type{Float32}, ::Irrational{:φ}) at irrationals.jl:93\n",
       "convert{T<:Number}(::Type{T<:Number}, x::Base.Dates.Period) at dates/periods.jl:40\n",
       "convert{T<:Base.Dates.Period}(::Type{T<:Base.Dates.Period}, x::Real) at dates/periods.jl:41\n",
       "convert(::Type{Base.Dates.CompoundPeriod}, x::Base.Dates.Period) at dates/periods.jl:194\n",
       "convert(::Type{Base.Dates.Week}, x::Base.Dates.Day) at dates/periods.jl:296\n",
       "convert(::Type{Base.Dates.Week}, x::Base.Dates.Hour) at dates/periods.jl:296\n",
       "convert(::Type{Base.Dates.Week}, x::Base.Dates.Minute) at dates/periods.jl:296\n",
       "convert(::Type{Base.Dates.Week}, x::Base.Dates.Second) at dates/periods.jl:296\n",
       "convert(::Type{Base.Dates.Week}, x::Base.Dates.Millisecond) at dates/periods.jl:296\n",
       "convert(::Type{Base.Dates.Day}, x::Base.Dates.Week) at dates/periods.jl:289\n",
       "convert(::Type{Base.Dates.Day}, x::Base.Dates.Hour) at dates/periods.jl:296\n",
       "convert(::Type{Base.Dates.Day}, x::Base.Dates.Minute) at dates/periods.jl:296\n",
       "convert(::Type{Base.Dates.Day}, x::Base.Dates.Second) at dates/periods.jl:296\n",
       "convert(::Type{Base.Dates.Day}, x::Base.Dates.Millisecond) at dates/periods.jl:296\n",
       "convert(::Type{Base.Dates.Hour}, x::Base.Dates.Day) at dates/periods.jl:289\n",
       "convert(::Type{Base.Dates.Hour}, x::Base.Dates.Week) at dates/periods.jl:289\n",
       "convert(::Type{Base.Dates.Hour}, x::Base.Dates.Minute) at dates/periods.jl:296\n",
       "convert(::Type{Base.Dates.Hour}, x::Base.Dates.Second) at dates/periods.jl:296\n",
       "convert(::Type{Base.Dates.Hour}, x::Base.Dates.Millisecond) at dates/periods.jl:296\n",
       "convert(::Type{Base.Dates.Minute}, x::Base.Dates.Hour) at dates/periods.jl:289\n",
       "convert(::Type{Base.Dates.Minute}, x::Base.Dates.Day) at dates/periods.jl:289\n",
       "convert(::Type{Base.Dates.Minute}, x::Base.Dates.Week) at dates/periods.jl:289\n",
       "convert(::Type{Base.Dates.Minute}, x::Base.Dates.Second) at dates/periods.jl:296\n",
       "convert(::Type{Base.Dates.Minute}, x::Base.Dates.Millisecond) at dates/periods.jl:296\n",
       "convert(::Type{Base.Dates.Second}, x::Base.Dates.Minute) at dates/periods.jl:289\n",
       "convert(::Type{Base.Dates.Second}, x::Base.Dates.Hour) at dates/periods.jl:289\n",
       "convert(::Type{Base.Dates.Second}, x::Base.Dates.Day) at dates/periods.jl:289\n",
       "convert(::Type{Base.Dates.Second}, x::Base.Dates.Week) at dates/periods.jl:289\n",
       "convert(::Type{Base.Dates.Second}, x::Base.Dates.Millisecond) at dates/periods.jl:296\n",
       "convert(::Type{Base.Dates.Millisecond}, x::Base.Dates.Second) at dates/periods.jl:289\n",
       "convert(::Type{Base.Dates.Millisecond}, x::Base.Dates.Minute) at dates/periods.jl:289\n",
       "convert(::Type{Base.Dates.Millisecond}, x::Base.Dates.Hour) at dates/periods.jl:289\n",
       "convert(::Type{Base.Dates.Millisecond}, x::Base.Dates.Day) at dates/periods.jl:289\n",
       "convert(::Type{Base.Dates.Millisecond}, x::Base.Dates.Week) at dates/periods.jl:289\n",
       "convert(::Type{Base.Dates.Month}, x::Base.Dates.Year) at dates/periods.jl:309\n",
       "convert(::Type{Base.Dates.Year}, x::Base.Dates.Month) at dates/periods.jl:313\n",
       "convert(::Type{DateTime}, dt::Date) at dates/conversions.jl:6\n",
       "convert(::Type{Date}, dt::DateTime) at dates/conversions.jl:7\n",
       "convert{R<:Real}(::Type{R<:Real}, x::DateTime) at dates/conversions.jl:8\n",
       "convert{R<:Real}(::Type{R<:Real}, x::Date) at dates/conversions.jl:9\n",
       "convert{T}(::Type{Ptr{T}}, x::Signed) at deprecated.jl:427\n",
       "convert{T}(::Type{Ptr{T}}, x::Integer) at deprecated.jl:423\n",
       "convert(::Type{IOStream}, zmsg::LastMain.LastMain.LastMain.LastMain.LastMain.LastMain.LastMain.LastMain.LastMain.LastMain.LastMain.LastMain.LastMain.LastMain.LastMain.ZMQ.Message) at /Users/dpsanders/.julia/v0.4/ZMQ/src/ZMQ.jl:449\n",
       "convert(::Type{AbstractFloat}, x::Vol{N,T<:Real}) at In[129]:2\n",
       "convert{T}(::Type{T}, x::T) at essentials.jl:59"
      ]
     },
     "execution_count": 131,
     "metadata": {},
     "output_type": "execute_result"
    }
   ],
   "source": [
    "methods(convert)"
   ]
  },
  {
   "cell_type": "markdown",
   "metadata": {},
   "source": [
    "Now any standard unary function works:"
   ]
  },
  {
   "cell_type": "code",
   "execution_count": 132,
   "metadata": {
    "collapsed": false
   },
   "outputs": [
    {
     "data": {
      "text/plain": [
       "(0.1411200080598672,-0.9899924966004454,20.085536923187668)"
      ]
     },
     "execution_count": 132,
     "metadata": {},
     "output_type": "execute_result"
    }
   ],
   "source": [
    "sin(V), cos(V), exp(V)"
   ]
  },
  {
   "cell_type": "markdown",
   "metadata": {},
   "source": [
    "`::Type{AbstractFloat}` refers to an argument which has type \"type of `AbstractFloat`\"; the only object that has that type is `AbstractFloat` itself; this thus matches function calls of the form \n",
    "\n",
    "    convert(AbstractFloat, V)"
   ]
  },
  {
   "cell_type": "code",
   "execution_count": null,
   "metadata": {
    "collapsed": false
   },
   "outputs": [],
   "source": [
    "convert(AbstractFloat, V2)"
   ]
  },
  {
   "cell_type": "markdown",
   "metadata": {},
   "source": [
    "## Promotion "
   ]
  },
  {
   "cell_type": "markdown",
   "metadata": {},
   "source": [
    "In the case of `Vol`, it is not natural to define all arithmetic operations, so let's simplify even further and just wrap a `Float64` in a `Prob` type, representing a probability. [We will assume that it makes sense to define all arithmetic operations here, although in a given application that may not be the case.]"
   ]
  },
  {
   "cell_type": "code",
   "execution_count": null,
   "metadata": {
    "collapsed": true
   },
   "outputs": [],
   "source": [
    "workspace()"
   ]
  },
  {
   "cell_type": "code",
   "execution_count": 134,
   "metadata": {
    "collapsed": false
   },
   "outputs": [
    {
     "data": {
      "text/plain": [
       "Prob{T<:AbstractFloat}"
      ]
     },
     "execution_count": 134,
     "metadata": {},
     "output_type": "execute_result"
    }
   ],
   "source": [
    "immutable Prob{T<:AbstractFloat} <: Real\n",
    "    _::T\n",
    "    \n",
    "    function Prob(x)\n",
    "        (!(0 <= x <= 1)) && throw(ArgumentError(\"Probability must be between 0 and 1.\"))\n",
    "        new(x)\n",
    "    end\n",
    "end\n",
    "\n",
    "Prob{T<:AbstractFloat}(x::T) = Prob{T}(x)"
   ]
  },
  {
   "cell_type": "markdown",
   "metadata": {},
   "source": [
    "[Note that `_` is a valid variable name in Julia, and is often used for a variable whose name we don't care about.]"
   ]
  },
  {
   "cell_type": "code",
   "execution_count": 135,
   "metadata": {
    "collapsed": false
   },
   "outputs": [
    {
     "data": {
      "text/plain": [
       "Prob{Float64}(0.5)"
      ]
     },
     "execution_count": 135,
     "metadata": {},
     "output_type": "execute_result"
    }
   ],
   "source": [
    "x = Prob(0.5)"
   ]
  },
  {
   "cell_type": "markdown",
   "metadata": {},
   "source": [
    "We see that multiplying `x` by a real number does not give a `MethodError`:"
   ]
  },
  {
   "cell_type": "code",
   "execution_count": 136,
   "metadata": {
    "collapsed": false
   },
   "outputs": [
    {
     "ename": "LoadError",
     "evalue": "LoadError: no promotion exists for Int64 and Prob{Float64}\nwhile loading In[136], in expression starting on line 1",
     "output_type": "error",
     "traceback": [
      "LoadError: no promotion exists for Int64 and Prob{Float64}\nwhile loading In[136], in expression starting on line 1",
      "",
      " in * at promotion.jl:168"
     ]
    }
   ],
   "source": [
    "3x"
   ]
  },
  {
   "cell_type": "markdown",
   "metadata": {},
   "source": [
    "since a `Vol` is a subtype of `Number`. \n",
    "\n",
    "Rather, Julia is trying to use its promotion machinery, in which such operations are handled by **promoting** both arguments to the same type:"
   ]
  },
  {
   "cell_type": "code",
   "execution_count": null,
   "metadata": {
    "collapsed": false
   },
   "outputs": [],
   "source": [
    "@which 3x"
   ]
  },
  {
   "cell_type": "markdown",
   "metadata": {},
   "source": [
    "We can see the process using `@which` (or using the debugger in Julia v0.5):"
   ]
  },
  {
   "cell_type": "code",
   "execution_count": null,
   "metadata": {
    "collapsed": false
   },
   "outputs": [],
   "source": [
    "@which promote(3, x)"
   ]
  },
  {
   "cell_type": "code",
   "execution_count": null,
   "metadata": {
    "collapsed": false
   },
   "outputs": [],
   "source": [
    "@which promote_type(Int, Prob{Float64})"
   ]
  },
  {
   "cell_type": "markdown",
   "metadata": {},
   "source": [
    "which is defined in terms of `promote_rule(T,S)`, e.g."
   ]
  },
  {
   "cell_type": "code",
   "execution_count": null,
   "metadata": {
    "collapsed": false
   },
   "outputs": [],
   "source": [
    "@which promote_rule(Float64, Int)"
   ]
  },
  {
   "cell_type": "markdown",
   "metadata": {},
   "source": [
    "So if we want to have promotion work, we need to define `promote_rule`:"
   ]
  },
  {
   "cell_type": "code",
   "execution_count": 142,
   "metadata": {
    "collapsed": true
   },
   "outputs": [],
   "source": [
    "workspace()"
   ]
  },
  {
   "cell_type": "code",
   "execution_count": 143,
   "metadata": {
    "collapsed": false
   },
   "outputs": [
    {
     "data": {
      "text/plain": [
       "* (generic function with 140 methods)"
      ]
     },
     "execution_count": 143,
     "metadata": {},
     "output_type": "execute_result"
    }
   ],
   "source": [
    "immutable Prob{T<:AbstractFloat} <: Real\n",
    "    value::T\n",
    "end\n",
    "\n",
    "Prob{T<:AbstractFloat}(x::T) = Prob{T}(x)\n",
    "\n",
    "import Base.*\n",
    "*{T<:AbstractFloat}(x::Prob{T}, y::Prob{T}) = Prob{T}(x.value*y.value)"
   ]
  },
  {
   "cell_type": "code",
   "execution_count": 144,
   "metadata": {
    "collapsed": false
   },
   "outputs": [
    {
     "data": {
      "text/plain": [
       "Prob{Float64}(0.12)"
      ]
     },
     "execution_count": 144,
     "metadata": {},
     "output_type": "execute_result"
    }
   ],
   "source": [
    "p1 = Prob(0.3)\n",
    "p2 = Prob(0.4)\n",
    "p1 * p2"
   ]
  },
  {
   "cell_type": "code",
   "execution_count": 145,
   "metadata": {
    "collapsed": false
   },
   "outputs": [
    {
     "ename": "LoadError",
     "evalue": "LoadError: no promotion exists for Float64 and Prob{Float64}\nwhile loading In[145], in expression starting on line 1",
     "output_type": "error",
     "traceback": [
      "LoadError: no promotion exists for Float64 and Prob{Float64}\nwhile loading In[145], in expression starting on line 1",
      "",
      " in * at promotion.jl:168"
     ]
    }
   ],
   "source": [
    "0.3 * p2"
   ]
  },
  {
   "cell_type": "code",
   "execution_count": 147,
   "metadata": {
    "collapsed": false
   },
   "outputs": [
    {
     "data": {
      "text/plain": [
       "convert (generic function with 540 methods)"
      ]
     },
     "execution_count": 147,
     "metadata": {},
     "output_type": "execute_result"
    }
   ],
   "source": [
    "import Base: promote_rule, convert\n",
    "\n",
    "promote_rule{S<:Real, T<:Real}(::Type{Prob{T}}, ::Type{S}) = Prob{promote_type(S, T)}\n",
    "\n",
    "convert{S<:Real, T<:Real}(::Type{Prob{T}}, x::S) = Prob(float(x))\n",
    "convert{T<:Real}(::Type{AbstractFloat}, x::Prob{T}) = x.value\n"
   ]
  },
  {
   "cell_type": "code",
   "execution_count": 148,
   "metadata": {
    "collapsed": false
   },
   "outputs": [
    {
     "data": {
      "text/plain": [
       "Prob{Float64}(0.5)"
      ]
     },
     "execution_count": 148,
     "metadata": {},
     "output_type": "execute_result"
    }
   ],
   "source": [
    "x = Prob(0.5)\n"
   ]
  },
  {
   "cell_type": "code",
   "execution_count": 149,
   "metadata": {
    "collapsed": false
   },
   "outputs": [
    {
     "data": {
      "text/plain": [
       "Prob{Float64}(1.5)"
      ]
     },
     "execution_count": 149,
     "metadata": {},
     "output_type": "execute_result"
    }
   ],
   "source": [
    "3x"
   ]
  },
  {
   "cell_type": "code",
   "execution_count": null,
   "metadata": {
    "collapsed": false
   },
   "outputs": [],
   "source": [
    "promote(3, x)"
   ]
  },
  {
   "cell_type": "markdown",
   "metadata": {},
   "source": [
    "These rules are always tricky to get right!"
   ]
  },
  {
   "cell_type": "markdown",
   "metadata": {},
   "source": [
    "## `Vector`s of objects of parametric type"
   ]
  },
  {
   "cell_type": "markdown",
   "metadata": {},
   "source": [
    "Suppose we make a vector of rationals, which is a parametric type"
   ]
  },
  {
   "cell_type": "code",
   "execution_count": 150,
   "metadata": {
    "collapsed": false
   },
   "outputs": [
    {
     "data": {
      "text/plain": [
       "2-element Array{Rational{Int64},1}:\n",
       " 3//4\n",
       " 4//5"
      ]
     },
     "execution_count": 150,
     "metadata": {},
     "output_type": "execute_result"
    }
   ],
   "source": [
    "v = [3//4, 4//5]"
   ]
  },
  {
   "cell_type": "code",
   "execution_count": 151,
   "metadata": {
    "collapsed": false
   },
   "outputs": [
    {
     "data": {
      "text/plain": [
       "Array{Rational{Int64},1}"
      ]
     },
     "execution_count": 151,
     "metadata": {},
     "output_type": "execute_result"
    }
   ],
   "source": [
    "typeof(v)"
   ]
  },
  {
   "cell_type": "markdown",
   "metadata": {},
   "source": [
    "A **typealias**, that is, an alternative (shorter and/or more intuitive) name for the type `Array{T,1}` is `Vector{T}`:"
   ]
  },
  {
   "cell_type": "code",
   "execution_count": 152,
   "metadata": {
    "collapsed": false
   },
   "outputs": [
    {
     "data": {
      "text/plain": [
       "true"
      ]
     },
     "execution_count": 152,
     "metadata": {},
     "output_type": "execute_result"
    }
   ],
   "source": [
    "Array{Rational{Int64},1} === Vector{Rational{Int}}  "
   ]
  },
  {
   "cell_type": "markdown",
   "metadata": {},
   "source": [
    "Here, the `===` operator checks for identity (rather than just equality) of objects:"
   ]
  },
  {
   "cell_type": "code",
   "execution_count": 153,
   "metadata": {
    "collapsed": false
   },
   "outputs": [
    {
     "data": {
      "text/plain": [
       "true"
      ]
     },
     "execution_count": 153,
     "metadata": {},
     "output_type": "execute_result"
    }
   ],
   "source": [
    "1 == 1.0"
   ]
  },
  {
   "cell_type": "code",
   "execution_count": 154,
   "metadata": {
    "collapsed": false
   },
   "outputs": [
    {
     "data": {
      "text/plain": [
       "false"
      ]
     },
     "execution_count": 154,
     "metadata": {},
     "output_type": "execute_result"
    }
   ],
   "source": [
    "1 === 1.0"
   ]
  },
  {
   "cell_type": "markdown",
   "metadata": {},
   "source": [
    "We also have a subtype relationship:"
   ]
  },
  {
   "cell_type": "code",
   "execution_count": 155,
   "metadata": {
    "collapsed": false
   },
   "outputs": [
    {
     "data": {
      "text/plain": [
       "true"
      ]
     },
     "execution_count": 155,
     "metadata": {},
     "output_type": "execute_result"
    }
   ],
   "source": [
    "Rational{Int} <: Rational"
   ]
  },
  {
   "cell_type": "markdown",
   "metadata": {},
   "source": [
    "where `Rational` is an abstract type, meaning that we cannot create objects of type `Rational`; they must always be parametrised."
   ]
  },
  {
   "cell_type": "markdown",
   "metadata": {},
   "source": [
    "**However**, we have"
   ]
  },
  {
   "cell_type": "code",
   "execution_count": 156,
   "metadata": {
    "collapsed": false
   },
   "outputs": [
    {
     "data": {
      "text/plain": [
       "false"
      ]
     },
     "execution_count": 156,
     "metadata": {},
     "output_type": "execute_result"
    }
   ],
   "source": [
    "Vector{Rational{Int}} <: Vector{Rational}"
   ]
  },
  {
   "cell_type": "markdown",
   "metadata": {},
   "source": [
    "Thus if we define a method"
   ]
  },
  {
   "cell_type": "code",
   "execution_count": 157,
   "metadata": {
    "collapsed": false
   },
   "outputs": [
    {
     "data": {
      "text/plain": [
       "h (generic function with 1 method)"
      ]
     },
     "execution_count": 157,
     "metadata": {},
     "output_type": "execute_result"
    }
   ],
   "source": [
    "h(x::Vector{Rational}) = 2x"
   ]
  },
  {
   "cell_type": "markdown",
   "metadata": {},
   "source": [
    "that accepts arguments that are `Vector`s of `Rational`s, we have"
   ]
  },
  {
   "cell_type": "code",
   "execution_count": 158,
   "metadata": {
    "collapsed": false
   },
   "outputs": [
    {
     "ename": "LoadError",
     "evalue": "LoadError: MethodError: `h` has no method matching h(::Array{Rational{Int64},1})\nwhile loading In[158], in expression starting on line 2",
     "output_type": "error",
     "traceback": [
      "LoadError: MethodError: `h` has no method matching h(::Array{Rational{Int64},1})\nwhile loading In[158], in expression starting on line 2",
      ""
     ]
    }
   ],
   "source": [
    "v = [3//4, 4//5]\n",
    "h(v)"
   ]
  },
  {
   "cell_type": "markdown",
   "metadata": {},
   "source": [
    "i.e. `h` **does not** accept arguments of type `Vector{Rational{Int}}`. Instead, we must parametrize explicitly:"
   ]
  },
  {
   "cell_type": "code",
   "execution_count": 159,
   "metadata": {
    "collapsed": false
   },
   "outputs": [
    {
     "data": {
      "text/plain": [
       "h (generic function with 2 methods)"
      ]
     },
     "execution_count": 159,
     "metadata": {},
     "output_type": "execute_result"
    }
   ],
   "source": [
    "h{T}(x::Vector{Rational{T}}) = 2x"
   ]
  },
  {
   "cell_type": "code",
   "execution_count": 160,
   "metadata": {
    "collapsed": false
   },
   "outputs": [
    {
     "data": {
      "text/plain": [
       "2-element Array{Rational{Int64},1}:\n",
       " 3//2\n",
       " 8//5"
      ]
     },
     "execution_count": 160,
     "metadata": {},
     "output_type": "execute_result"
    }
   ],
   "source": [
    "h(v)"
   ]
  },
  {
   "cell_type": "markdown",
   "metadata": {},
   "source": [
    "Here, the syntax `{T}` means \"define a function `h` with this template, for *any* type `T`."
   ]
  }
 ],
 "metadata": {
  "kernelspec": {
   "display_name": "Julia 0.4.6",
   "language": "julia",
   "name": "julia-0.4"
  },
  "language_info": {
   "file_extension": ".jl",
   "mimetype": "application/julia",
   "name": "julia",
   "version": "0.4.6"
  },
  "widgets": {
   "state": {},
   "version": "1.1.2"
  }
 },
 "nbformat": 4,
 "nbformat_minor": 0
}
